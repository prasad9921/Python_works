{
 "cells": [
  {
   "cell_type": "code",
   "execution_count": 1,
   "metadata": {},
   "outputs": [
    {
     "name": "stdout",
     "output_type": "stream",
     "text": [
      "12\n",
      "360\n",
      "0.00"
     ]
    }
   ],
   "source": [
    "n=int(input())\n",
    "a=float(input())\n",
    "a=(n/360)*a\n",
    "h=int(a//1)\n",
    "m=60*(a-h)\n",
    "an=abs(0.5*(60*h-11*m))\n",
    "an=an%360\n",
    "if(an>180):\n",
    "    an=360-an\n",
    "print(str(\"{0:.2f}\".format(an)),end='')"
   ]
  },
  {
   "cell_type": "code",
   "execution_count": 1,
   "metadata": {},
   "outputs": [
    {
     "name": "stdout",
     "output_type": "stream",
     "text": [
      "5\n",
      "110001\n",
      "delhi\n",
      "19000000\n",
      "1484\n",
      "230532\n",
      "mumbai\n",
      "12500000\n",
      "604\n",
      "682001\n",
      "kochi\n",
      "677777\n",
      "95\n",
      "600001\n",
      "chennai\n",
      "7090000\n",
      "426\n",
      "53068\n",
      "benguluru\n",
      "8440000\n",
      "709\n",
      "53068\n",
      "benguluru\n",
      "677777\n",
      "7090000\n",
      "8440000\n",
      "12500000\n",
      "19000000\n"
     ]
    }
   ],
   "source": [
    "n=int(input())\n",
    "l=[]\n",
    "for i in range(n):\n",
    "    p=int(input())\n",
    "    c=input()\n",
    "    po=int(input())\n",
    "    a=int(input())\n",
    "    l.append([p,c,po,a])\n",
    "l1=sorted(l,key=lambda x:x[0])\n",
    "l2=sorted(l,key=lambda x:x[2])\n",
    "for i in l1[0]:\n",
    "    print(i)\n",
    "for i in l2:\n",
    "    print(i[2])"
   ]
  },
  {
   "cell_type": "code",
   "execution_count": 2,
   "metadata": {},
   "outputs": [
    {
     "name": "stdout",
     "output_type": "stream",
     "text": [
      "53068\n",
      "benguluru\n",
      "8440000\n",
      "677777\n",
      "7090000\n",
      "8440000\n",
      "12500000\n",
      "19000000\n"
     ]
    }
   ],
   "source": [
    "print(l1[0][1])\n",
    "print(l1[0][0])\n",
    "print(l1[0][2])\n",
    "for i in l2:\n",
    "    print(i[2])"
   ]
  },
  {
   "cell_type": "code",
   "execution_count": null,
   "metadata": {},
   "outputs": [],
   "source": []
  }
 ],
 "metadata": {
  "kernelspec": {
   "display_name": "Python 3 (ipykernel)",
   "language": "python",
   "name": "python3"
  },
  "language_info": {
   "codemirror_mode": {
    "name": "ipython",
    "version": 3
   },
   "file_extension": ".py",
   "mimetype": "text/x-python",
   "name": "python",
   "nbconvert_exporter": "python",
   "pygments_lexer": "ipython3",
   "version": "3.9.7"
  }
 },
 "nbformat": 4,
 "nbformat_minor": 2
}
