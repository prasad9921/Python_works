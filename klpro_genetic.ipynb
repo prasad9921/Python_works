{
 "cells": [
  {
   "cell_type": "code",
   "execution_count": 54,
   "metadata": {},
   "outputs": [],
   "source": [
    "import numpy as np\n",
    "from collections import Counter"
   ]
  },
  {
   "cell_type": "code",
   "execution_count": 49,
   "metadata": {},
   "outputs": [
    {
     "name": "stdout",
     "output_type": "stream",
     "text": [
      "6 2 7\n",
      "1 2 3 6 5 4\n",
      "5 2 2\n",
      "0 1 2 3 4\n",
      "4 3 1\n",
      "3 2 5 0\n"
     ]
    }
   ],
   "source": [
    "a=list(map(int,input().split()))\n",
    "sc=list(map(int,input().split()))\n",
    "de=[]\n",
    "b=[]\n",
    "lc=[]\n",
    "for i in range(a[1]):\n",
    "    ch=list(map(int,input().split()))\n",
    "    chb=list(set(map(int,input().split())))\n",
    "    de.append(ch)\n",
    "    b.append(chb)\n",
    "    lc.append(len(Counter(b[i]).keys()))"
   ]
  },
  {
   "cell_type": "code",
   "execution_count": 50,
   "metadata": {},
   "outputs": [
    {
     "name": "stdout",
     "output_type": "stream",
     "text": [
      "2\n",
      "2 3\n"
     ]
    }
   ],
   "source": [
    "siup=[]\n",
    "for i in range(len(de)):\n",
    "    siup.append(de[i][1])\n",
    "import numpy as np\n",
    "import math\n",
    "import random\n",
    "def cal_pop_fitness(equation_inputs, pop):\n",
    "    # Calculating the fitness value of each solution in the current population.\n",
    "    # The fitness function caulcuates the sum of products between each input and its corresponding weight.\n",
    "    fitness = np.sum(pop*equation_inputs, axis=1)\n",
    "    return fitness\n",
    "def select_mating_pool(pop, fitness, num_parents,lim):\n",
    "    # Selecting the best individuals in the current generation as parents for producing the offspring of the next generation.\n",
    "    parents = np.empty((num_parents, pop.shape[1]))\n",
    "    for parent_num in range(num_parents):\n",
    "        max_fitness_idx = np.where(fitness == np.max(fitness[fitness <= lim]))\n",
    "        max_fitness_idx = max_fitness_idx[0][0]\n",
    "        parents[parent_num, :] = pop[max_fitness_idx, :]\n",
    "        fitness[max_fitness_idx] = -999999\n",
    "    return parents\n",
    "def crossover(parents, offspring_size):\n",
    "    offspring = np.empty(offspring_size)\n",
    "    # The point at which crossover takes place between two parents. Usually it is at the center.\n",
    "    crossover_point = np.uint8(offspring_size[1]/2)\n",
    "\n",
    "    for k in range(offspring_size[0]):\n",
    "        n=round(random.random(),2)\n",
    "        if(n<=0.82):\n",
    "            # Index of the first parent to mate.\n",
    "            parent1_idx = k%parents.shape[0]\n",
    "            # Index of the second parent to mate.\n",
    "            parent2_idx = (k+1)%parents.shape[0]\n",
    "            # The new offspring will have its first half of its genes taken from the first parent.\n",
    "            offspring[k, 0:crossover_point] = parents[parent1_idx, 0:crossover_point]\n",
    "            # The new offspring will have its second half of its genes taken from the second parent.\n",
    "            offspring[k, crossover_point:] = parents[parent2_idx, crossover_point:]\n",
    "        else:\n",
    "            offspring[k,:]=parents[k%parents.shape[0]]\n",
    "    return offspring\n",
    "def mutation(offspring_crossover):\n",
    "    # Mutation changes a single gene in each offspring randomly.\n",
    "    for idx in range(offspring_crossover.shape[0]):\n",
    "        n=round(random.random(),1)\n",
    "        if(n<=0.1):\n",
    "            # The random value to be added to the gene.\n",
    "            random_value = np.random.uniform(-1.0, 1.0, 1)\n",
    "            offspring_crossover[idx, 0] = random_value\n",
    "    return offspring_crossover\n",
    "# Inputs of the equation.\n",
    "ipa=[(a[2]*5)//6,len(siup)]\n",
    "equation_inputs = np.array(siup)\n",
    "\n",
    "# Number of the weights we are looking to optimize.\n",
    "num_weights = ipa[1]\n",
    "lim = ipa[0]\n",
    "spp = num_weights**2\n",
    "npm = spp//2\n",
    "\n",
    "# Defining the population size.\n",
    "pop_size = (spp,num_weights) # The population will have spp chromosome where each chromosome has num_weights genes.\n",
    "#Creating the initial population.\n",
    "new_population = np.random.randint(0,2,pop_size)\n",
    "num_generations = 10000\n",
    "for generation in range(num_generations):\n",
    "    # Measing the fitness of each chromosome in the population.\n",
    "    fitness = cal_pop_fitness(equation_inputs, new_population)\n",
    "\n",
    "    # Selecting the best parents in the population for mating.\n",
    "    parents = select_mating_pool(new_population, fitness,\n",
    "                                      npm,lim)\n",
    "\n",
    "    # Generating next generation using crossover.\n",
    "    offspring_crossover = crossover(parents,\n",
    "                                       offspring_size=(pop_size[0]-parents.shape[0], num_weights))\n",
    "\n",
    "    # Adding some variations to the offsrping using mutation.\n",
    "    offspring_mutation = mutation(offspring_crossover)\n",
    "\n",
    "    # Creating the new population based on the parents and offspring.\n",
    "    new_population[0:parents.shape[0], :] = parents\n",
    "    new_population[parents.shape[0]:, :] = offspring_mutation\n",
    "\n",
    "    # The best result in the current iteration.\n",
    "\n",
    "# Getting the best solution after iterating finishing all generations.\n",
    "#At first, the fitness is calculated for each solution in the final generation.\n",
    "fitness = cal_pop_fitness(equation_inputs, new_population)\n",
    "# Then return the index of that solution corresponding to the best fitness.\n",
    "best_match_idx = np.where(fitness == np.max(fitness))[0][0]\n",
    "op=new_population[0]*equation_inputs\n",
    "opi=np.where(op>0)[0]\n",
    "ans=equation_inputs[list(opi)]\n",
    "print(len(ans))\n",
    "print(*ans, sep =' ')"
   ]
  },
  {
   "cell_type": "code",
   "execution_count": 51,
   "metadata": {},
   "outputs": [
    {
     "data": {
      "text/plain": [
       "[0, 1]"
      ]
     },
     "execution_count": 51,
     "metadata": {},
     "output_type": "execute_result"
    }
   ],
   "source": [
    "zzz=np.array(siup)\n",
    "indices=list(list(np.where(zzz==ans)[0]))\n",
    "indices"
   ]
  },
  {
   "cell_type": "code",
   "execution_count": 52,
   "metadata": {},
   "outputs": [],
   "source": [
    "x=list(range(a[0]))"
   ]
  },
  {
   "cell_type": "code",
   "execution_count": 53,
   "metadata": {},
   "outputs": [
    {
     "name": "stdout",
     "output_type": "stream",
     "text": [
      "2\n",
      "05\n",
      "0 1 2 3 4\n",
      "11\n",
      "5\n"
     ]
    }
   ],
   "source": [
    "print(len(indices))\n",
    "for i in range(len(indices)):\n",
    "    c=0\n",
    "    an=[]\n",
    "    for j in range(len(b[indices[i]])):\n",
    "        if(b[indices[i]][j] in x):\n",
    "            an.append(b[indices[i]][j])\n",
    "            c=c+1\n",
    "            x[b[indices[i]][j]]=-1\n",
    "    print(str(indices[i])+\" \"+str(c))\n",
    "    print(*an,sep =' ')"
   ]
  },
  {
   "cell_type": "code",
   "execution_count": null,
   "metadata": {},
   "outputs": [],
   "source": []
  }
 ],
 "metadata": {
  "kernelspec": {
   "display_name": "Python 3 (ipykernel)",
   "language": "python",
   "name": "python3"
  },
  "language_info": {
   "codemirror_mode": {
    "name": "ipython",
    "version": 3
   },
   "file_extension": ".py",
   "mimetype": "text/x-python",
   "name": "python",
   "nbconvert_exporter": "python",
   "pygments_lexer": "ipython3",
   "version": "3.9.7"
  }
 },
 "nbformat": 4,
 "nbformat_minor": 2
}
