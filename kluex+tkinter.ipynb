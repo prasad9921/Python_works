{
 "cells": [
  {
   "cell_type": "code",
   "execution_count": 12,
   "metadata": {},
   "outputs": [],
   "source": [
    "# Python3 program for maximum values of\n",
    "# each bitwise OR operation on\n",
    "# element of subarray of size K\n",
    "\n",
    "# Function to convert bit array to\n",
    "# decimal number\n",
    "def build_num(bit):\n",
    "\t\n",
    "\tans = 0;\n",
    "\n",
    "\tfor i in range(32):\n",
    "\t\tif (bit[i] > 0):\n",
    "\t\t\tans += (1 << i);\n",
    "\n",
    "\treturn ans;\n",
    "\n",
    "# Function to find maximum values of\n",
    "# each bitwise OR operation on\n",
    "# element of subarray of size K\n",
    "def maximumOR(arr, n, k):\n",
    "\tl=[]\n",
    "\t# Maintain an integer array bit\n",
    "\t# of size 32 all initialized to 0\n",
    "\tbit = [0] * 32;\n",
    "\n",
    "\t# Create a sliding window of size k\n",
    "\tfor i in range(k):\n",
    "\t\tfor j in range(32):\n",
    "\t\t\tif ((arr[i] & (1 << j)) > 0):\n",
    "\t\t\t\tbit[j] += 1;\n",
    "\n",
    "\t# Function call\n",
    "\tmax_or = build_num(bit);\n",
    "\n",
    "\tfor i in range(k, n):\n",
    "\n",
    "\t\t# Perform operation for\n",
    "\t\t# removed element\n",
    "\t\tfor j in range(32):\n",
    "\t\t\tif ((arr[i - k] & (1 << j)) > 0):\n",
    "\t\t\t\tbit[j] -= 1;\n",
    "\n",
    "\t\t# Perform operation for\n",
    "\t\t# added_element\n",
    "\t\tfor j in range(32):\n",
    "\t\t\tif ((arr[i] & (1 << j)) > 0):\n",
    "\t\t\t\tbit[j] += 1;\n",
    "\n",
    "\t\t# Taking maximum value\n",
    "\t\t#max_or = max(build_num(bit), max_or);\n",
    "\t\tl.append(max_or)\n",
    "\t# Return the result\n",
    "\treturn l;"
   ]
  },
  {
   "cell_type": "code",
   "execution_count": 13,
   "metadata": {
    "scrolled": true
   },
   "outputs": [
    {
     "ename": "TypeError",
     "evalue": "'<' not supported between instances of 'int' and 'list'",
     "output_type": "error",
     "traceback": [
      "\u001b[1;31m---------------------------------------------------------------------------\u001b[0m",
      "\u001b[1;31mTypeError\u001b[0m                                 Traceback (most recent call last)",
      "\u001b[1;32m~\\AppData\\Local\\Temp/ipykernel_1392/3962666240.py\u001b[0m in \u001b[0;36m<module>\u001b[1;34m\u001b[0m\n\u001b[0;32m     15\u001b[0m         \u001b[0man\u001b[0m\u001b[1;33m=\u001b[0m\u001b[1;36m0\u001b[0m\u001b[1;33m\u001b[0m\u001b[1;33m\u001b[0m\u001b[0m\n\u001b[0;32m     16\u001b[0m         \u001b[1;32mfor\u001b[0m \u001b[0mi\u001b[0m \u001b[1;32min\u001b[0m \u001b[0mrange\u001b[0m\u001b[1;33m(\u001b[0m\u001b[0mlen\u001b[0m\u001b[1;33m(\u001b[0m\u001b[0ml\u001b[0m\u001b[1;33m)\u001b[0m\u001b[1;33m)\u001b[0m\u001b[1;33m:\u001b[0m\u001b[1;33m\u001b[0m\u001b[1;33m\u001b[0m\u001b[0m\n\u001b[1;32m---> 17\u001b[1;33m                 \u001b[1;32mif\u001b[0m\u001b[1;33m(\u001b[0m\u001b[0mma\u001b[0m\u001b[1;33m<\u001b[0m\u001b[0ml\u001b[0m\u001b[1;33m[\u001b[0m\u001b[0mi\u001b[0m\u001b[1;33m]\u001b[0m\u001b[1;33m[\u001b[0m\u001b[1;36m0\u001b[0m\u001b[1;33m]\u001b[0m \u001b[1;32mand\u001b[0m \u001b[0ml\u001b[0m\u001b[1;33m[\u001b[0m\u001b[0mi\u001b[0m\u001b[1;33m]\u001b[0m\u001b[1;33m[\u001b[0m\u001b[1;36m0\u001b[0m\u001b[1;33m]\u001b[0m\u001b[1;33m<\u001b[0m\u001b[0mx\u001b[0m\u001b[1;33m)\u001b[0m\u001b[1;33m:\u001b[0m\u001b[1;33m\u001b[0m\u001b[1;33m\u001b[0m\u001b[0m\n\u001b[0m\u001b[0;32m     18\u001b[0m                         \u001b[0mma\u001b[0m\u001b[1;33m=\u001b[0m\u001b[0ml\u001b[0m\u001b[1;33m[\u001b[0m\u001b[0mi\u001b[0m\u001b[1;33m]\u001b[0m\u001b[1;33m[\u001b[0m\u001b[1;36m0\u001b[0m\u001b[1;33m]\u001b[0m\u001b[1;33m\u001b[0m\u001b[1;33m\u001b[0m\u001b[0m\n\u001b[0;32m     19\u001b[0m                         \u001b[0man\u001b[0m\u001b[1;33m=\u001b[0m\u001b[0ml\u001b[0m\u001b[1;33m[\u001b[0m\u001b[0mi\u001b[0m\u001b[1;33m]\u001b[0m\u001b[1;33m[\u001b[0m\u001b[1;36m1\u001b[0m\u001b[1;33m]\u001b[0m\u001b[1;33m\u001b[0m\u001b[1;33m\u001b[0m\u001b[0m\n",
      "\u001b[1;31mTypeError\u001b[0m: '<' not supported between instances of 'int' and 'list'"
     ]
    }
   ],
   "source": [
    "# Driver Code\n",
    "if __name__ == '__main__':\n",
    "\tl=[]\n",
    "\t# Given array arr\n",
    "\tarr = [ 2,2,3 ];\n",
    "\tx=2\n",
    "\tn = len(arr);\n",
    "\t# Given subarray size K\n",
    "\tfor i in range(1,n):\n",
    "\t\tk = i;\n",
    "\n",
    "\t# Function call\n",
    "\t\tl.append([maximumOR(arr, n, k),k])\n",
    "\tma=0\n",
    "\tan=0    \n",
    "\tfor i in range(len(l)):\n",
    "\t\tif(ma<l[i][0] and l[i][0]<x):\n",
    "\t\t\tma=l[i][0]\n",
    "\t\t\tan=l[i][1]\n",
    "\tprint(ma,an)\n",
    "# This code is contributed by Amit Katiyar"
   ]
  },
  {
   "cell_type": "code",
   "execution_count": 27,
   "metadata": {},
   "outputs": [],
   "source": [
    "# Python3 Code for above approach\n",
    "\n",
    "\n",
    "# Compute bitwise or of all elements\n",
    "# in array of size sz\n",
    "def OR(data, sz,x):\n",
    "\tmOR = 0\n",
    "\tfor i in range(sz):\n",
    "\t\tmOR |= data[i]\n",
    "\treturn mOR\n",
    "\n",
    "\n",
    "# calculate the size of\n",
    "# minimum subset with maximum or\n",
    "def minSubset(data, sz, maxOR):\n",
    "\t# count table where\n",
    "\t# count[i][j] => minimum size subset till ith element\n",
    "\t# whose OR is j\n",
    "\ttry:\n",
    "\t\tcount=[[1e9 for _ in range(maxOR+1)]for _ in range(sz+1)]\n",
    "\n",
    "\t\tcount[0][0] = 0\n",
    "\n",
    "\t\tfor i in range(sz) :\n",
    "\t\t\tfor j in range(maxOR) :\n",
    "\t\t\t\t# Do not consider ith element.\n",
    "\t\t\t\tcount[i + 1][j] = min(count[i + 1][j], count[i][j])\n",
    "\n",
    "\t\t\t\t# Consider the ith element.\n",
    "\t\t\t\tif (count[i][j] != 1e9) :\n",
    "\t\t\t\t\tcount[i + 1][j | data[i]] = min(\n",
    "\t\t\t\t\t\tcount[i + 1][j | data[i]], count[i][j] + 1)\n",
    "\treturn count[sz][maxOR]"
   ]
  },
  {
   "cell_type": "code",
   "execution_count": 34,
   "metadata": {},
   "outputs": [
    {
     "ename": "IndexError",
     "evalue": "list index out of range",
     "output_type": "error",
     "traceback": [
      "\u001b[1;31m---------------------------------------------------------------------------\u001b[0m",
      "\u001b[1;31mIndexError\u001b[0m                                Traceback (most recent call last)",
      "\u001b[1;32m~\\AppData\\Local\\Temp/ipykernel_1392/548001033.py\u001b[0m in \u001b[0;36m<module>\u001b[1;34m\u001b[0m\n\u001b[0;32m     10\u001b[0m         \u001b[0mmaxOR\u001b[0m\u001b[1;33m=\u001b[0m\u001b[0mx\u001b[0m\u001b[1;33m\u001b[0m\u001b[1;33m\u001b[0m\u001b[0m\n\u001b[0;32m     11\u001b[0m         \u001b[1;32mwhile\u001b[0m\u001b[1;33m(\u001b[0m\u001b[0mmaxOR\u001b[0m\u001b[1;33m>=\u001b[0m\u001b[1;36m0\u001b[0m\u001b[1;33m)\u001b[0m\u001b[1;33m:\u001b[0m\u001b[1;33m\u001b[0m\u001b[1;33m\u001b[0m\u001b[0m\n\u001b[1;32m---> 12\u001b[1;33m                 \u001b[0mprint\u001b[0m\u001b[1;33m(\u001b[0m\u001b[0mminSubset\u001b[0m\u001b[1;33m(\u001b[0m\u001b[0mdata\u001b[0m\u001b[1;33m,\u001b[0m \u001b[0msz\u001b[0m\u001b[1;33m,\u001b[0m \u001b[0mmaxOR\u001b[0m\u001b[1;33m)\u001b[0m\u001b[1;33m)\u001b[0m\u001b[1;33m\u001b[0m\u001b[1;33m\u001b[0m\u001b[0m\n\u001b[0m\u001b[0;32m     13\u001b[0m                 \u001b[0mmaxOR\u001b[0m\u001b[1;33m=\u001b[0m\u001b[0mmaxOR\u001b[0m\u001b[1;33m-\u001b[0m\u001b[1;36m1\u001b[0m\u001b[1;33m\u001b[0m\u001b[1;33m\u001b[0m\u001b[0m\n",
      "\u001b[1;32m~\\AppData\\Local\\Temp/ipykernel_1392/2447259587.py\u001b[0m in \u001b[0;36mminSubset\u001b[1;34m(data, sz, maxOR)\u001b[0m\n\u001b[0;32m     32\u001b[0m                         \u001b[1;32mif\u001b[0m \u001b[1;33m(\u001b[0m\u001b[0mcount\u001b[0m\u001b[1;33m[\u001b[0m\u001b[0mi\u001b[0m\u001b[1;33m]\u001b[0m\u001b[1;33m[\u001b[0m\u001b[0mj\u001b[0m\u001b[1;33m]\u001b[0m \u001b[1;33m!=\u001b[0m \u001b[1;36m1e9\u001b[0m\u001b[1;33m)\u001b[0m \u001b[1;33m:\u001b[0m\u001b[1;33m\u001b[0m\u001b[1;33m\u001b[0m\u001b[0m\n\u001b[0;32m     33\u001b[0m \t\t\t\tcount[i + 1][j | data[i]] = min(\n\u001b[1;32m---> 34\u001b[1;33m \t\t\t\t\tcount[i + 1][j | data[i]], count[i][j] + 1)\n\u001b[0m\u001b[0;32m     35\u001b[0m \u001b[1;33m\u001b[0m\u001b[0m\n\u001b[0;32m     36\u001b[0m \u001b[1;33m\u001b[0m\u001b[0m\n",
      "\u001b[1;31mIndexError\u001b[0m: list index out of range"
     ]
    }
   ],
   "source": [
    "# Driver code\n",
    "if __name__ == '__main__':\n",
    "\tdata = [2,3,3]\n",
    "\tsz = len(data)\n",
    "\tx=2\n",
    "    #for i in \n",
    "\t#maxOR = OR(data, sz,x)\n",
    "\n",
    "\t# Function Call\n",
    "\tmaxOR=x\n",
    "\twhile(maxOR>=0):\n",
    "\t\tprint(minSubset(data, sz, maxOR))\n",
    "\t\tmaxOR=maxOR-1"
   ]
  },
  {
   "cell_type": "code",
   "execution_count": 33,
   "metadata": {},
   "outputs": [
    {
     "data": {
      "text/plain": [
       "2"
      ]
     },
     "execution_count": 33,
     "metadata": {},
     "output_type": "execute_result"
    }
   ],
   "source": [
    "maxOR"
   ]
  },
  {
   "cell_type": "code",
   "execution_count": 35,
   "metadata": {},
   "outputs": [
    {
     "ename": "IndexError",
     "evalue": "list index out of range",
     "output_type": "error",
     "traceback": [
      "\u001b[1;31m---------------------------------------------------------------------------\u001b[0m",
      "\u001b[1;31mIndexError\u001b[0m                                Traceback (most recent call last)",
      "\u001b[1;32m~\\AppData\\Local\\Temp/ipykernel_1392/1940561392.py\u001b[0m in \u001b[0;36m<module>\u001b[1;34m\u001b[0m\n\u001b[0;32m     11\u001b[0m         \u001b[1;32mif\u001b[0m \u001b[1;33m(\u001b[0m\u001b[0mcount\u001b[0m\u001b[1;33m[\u001b[0m\u001b[0mi\u001b[0m\u001b[1;33m]\u001b[0m\u001b[1;33m[\u001b[0m\u001b[0mj\u001b[0m\u001b[1;33m]\u001b[0m \u001b[1;33m!=\u001b[0m \u001b[1;36m1e9\u001b[0m\u001b[1;33m)\u001b[0m \u001b[1;33m:\u001b[0m\u001b[1;33m\u001b[0m\u001b[1;33m\u001b[0m\u001b[0m\n\u001b[0;32m     12\u001b[0m             count[i + 1][j | data[i]] = min(\n\u001b[1;32m---> 13\u001b[1;33m                 count[i + 1][j | data[i]], count[i][j] + 1)\n\u001b[0m\u001b[0;32m     14\u001b[0m \u001b[0mprint\u001b[0m\u001b[1;33m(\u001b[0m\u001b[0mcount\u001b[0m\u001b[1;33m[\u001b[0m\u001b[0msz\u001b[0m\u001b[1;33m]\u001b[0m\u001b[1;33m[\u001b[0m\u001b[0mmaxOR\u001b[0m\u001b[1;33m]\u001b[0m\u001b[1;33m)\u001b[0m\u001b[1;33m\u001b[0m\u001b[1;33m\u001b[0m\u001b[0m\n",
      "\u001b[1;31mIndexError\u001b[0m: list index out of range"
     ]
    }
   ],
   "source": [
    "count=[[1e9 for _ in range(maxOR+1)]for _ in range(sz+1)]\n",
    "\n",
    "count[0][0] = 0\n",
    "\n",
    "for i in range(sz) :\n",
    "    for j in range(maxOR) :\n",
    "        # Do not consider ith element.\n",
    "        count[i + 1][j] = min(count[i + 1][j], count[i][j])\n",
    "\n",
    "        # Consider the ith element.\n",
    "        if (count[i][j] != 1e9) :\n",
    "            count[i + 1][j | data[i]] = min(count[i + 1][j | data[i]], count[i][j] + 1)\n",
    "print(count[sz][maxOR])"
   ]
  },
  {
   "cell_type": "code",
   "execution_count": 36,
   "metadata": {},
   "outputs": [
    {
     "data": {
      "text/plain": [
       "[[0, 1000000000.0, 1000000000.0],\n",
       " [0, 1000000000.0, 1],\n",
       " [0, 1000000000.0, 1000000000.0],\n",
       " [1000000000.0, 1000000000.0, 1000000000.0]]"
      ]
     },
     "execution_count": 36,
     "metadata": {},
     "output_type": "execute_result"
    }
   ],
   "source": [
    "count"
   ]
  },
  {
   "cell_type": "code",
   "execution_count": 37,
   "metadata": {},
   "outputs": [
    {
     "data": {
      "text/plain": [
       "(1, 0)"
      ]
     },
     "execution_count": 37,
     "metadata": {},
     "output_type": "execute_result"
    }
   ],
   "source": [
    "i,j"
   ]
  },
  {
   "cell_type": "code",
   "execution_count": 39,
   "metadata": {},
   "outputs": [
    {
     "ename": "IndexError",
     "evalue": "list index out of range",
     "output_type": "error",
     "traceback": [
      "\u001b[1;31m---------------------------------------------------------------------------\u001b[0m",
      "\u001b[1;31mIndexError\u001b[0m                                Traceback (most recent call last)",
      "\u001b[1;32m~\\AppData\\Local\\Temp/ipykernel_1392/1020788273.py\u001b[0m in \u001b[0;36m<module>\u001b[1;34m\u001b[0m\n\u001b[1;32m----> 1\u001b[1;33m \u001b[0mcount\u001b[0m\u001b[1;33m[\u001b[0m\u001b[0mi\u001b[0m \u001b[1;33m+\u001b[0m \u001b[1;36m1\u001b[0m\u001b[1;33m]\u001b[0m\u001b[1;33m[\u001b[0m\u001b[0mj\u001b[0m \u001b[1;33m|\u001b[0m \u001b[0mdata\u001b[0m\u001b[1;33m[\u001b[0m\u001b[0mi\u001b[0m\u001b[1;33m]\u001b[0m\u001b[1;33m]\u001b[0m\u001b[1;33m\u001b[0m\u001b[1;33m\u001b[0m\u001b[0m\n\u001b[0m\u001b[0;32m      2\u001b[0m \u001b[0mcount\u001b[0m\u001b[1;33m[\u001b[0m\u001b[0mi\u001b[0m\u001b[1;33m]\u001b[0m\u001b[1;33m[\u001b[0m\u001b[0mj\u001b[0m\u001b[1;33m]\u001b[0m \u001b[1;33m+\u001b[0m \u001b[1;36m1\u001b[0m\u001b[1;33m\u001b[0m\u001b[1;33m\u001b[0m\u001b[0m\n",
      "\u001b[1;31mIndexError\u001b[0m: list index out of range"
     ]
    }
   ],
   "source": [
    "count[i + 1][j | data[i]]\n",
    "count[i][j] + 1"
   ]
  },
  {
   "cell_type": "code",
   "execution_count": 42,
   "metadata": {},
   "outputs": [
    {
     "data": {
      "text/plain": [
       "3"
      ]
     },
     "execution_count": 42,
     "metadata": {},
     "output_type": "execute_result"
    }
   ],
   "source": [
    "j|data[i]"
   ]
  },
  {
   "cell_type": "code",
   "execution_count": 11,
   "metadata": {},
   "outputs": [
    {
     "data": {
      "text/plain": [
       "3"
      ]
     },
     "execution_count": 11,
     "metadata": {},
     "output_type": "execute_result"
    }
   ],
   "source": [
    "maximumOR(arr=[2,2,3],n=3,k=1)"
   ]
  },
  {
   "cell_type": "code",
   "execution_count": 2,
   "metadata": {
    "scrolled": true
   },
   "outputs": [
    {
     "name": "stdout",
     "output_type": "stream",
     "text": [
      " \n"
     ]
    }
   ],
   "source": [
    "for i in ' ':\n",
    "    print(i)"
   ]
  },
  {
   "cell_type": "code",
   "execution_count": 1,
   "metadata": {},
   "outputs": [
    {
     "name": "stdout",
     "output_type": "stream",
     "text": [
      "*       **       *\n",
      " *     *  *     * \n",
      "  *   *    *   *  \n",
      "   * *      * *   \n",
      "    *        *    \n",
      "   * *      * *   \n",
      "  *   *    *   *  \n",
      " *     *  *     * \n",
      "*       **       *\n"
     ]
    }
   ],
   "source": [
    "def xprint(size):\n",
    "    i,j = 0,size - 1\n",
    "\n",
    "    while j >= 0 and i < size:\n",
    "\n",
    "        initial_spaces = ' '*min(i,j)\n",
    "        middle_spaces = ' '*(abs(i - j) - 1)\n",
    "        final_spaces = ' '*(size - 1 - max(i,j))\n",
    "\n",
    "        if j == i:\n",
    "            print (initial_spaces + '*' + final_spaces+initial_spaces + '*' + final_spaces)\n",
    "        else:\n",
    "            print (initial_spaces + '*' + middle_spaces + '*' + final_spaces+initial_spaces + '*' + middle_spaces + '*' + final_spaces)\n",
    "\n",
    "        i += 1\n",
    "        j -= 1\n",
    "\n",
    "xprint(9)"
   ]
  },
  {
   "cell_type": "code",
   "execution_count": 35,
   "metadata": {},
   "outputs": [
    {
     "name": "stdout",
     "output_type": "stream",
     "text": [
      "['1']\n",
      "['0', '0']\n",
      "['1', '1', '1', '1']\n",
      "['0', '0', '0', '0', '0', '0', '0', '0']\n",
      "['1', '1', '1', '1', '1', '1', '1', '1', '1', '1', '1', '1', '1', '1', '1', '1']\n",
      "['0', '0', '0', '0', '0', '0', '0', '0', '0', '0', '0', '0', '0', '0', '0', '0', '0', '0', '0', '0', '0', '0', '0', '0', '0', '0', '0', '0', '0', '0', '0', '0']\n",
      "['1', '1', '1', '1', '1', '1', '1', '1', '1', '1', '1', '1', '1', '1', '1', '1', '1', '1', '1', '1', '1', '1', '1', '1', '1', '1', '1', '1', '1', '1', '1', '1', '1', '1', '1', '1', '1', '1', '1', '1', '1', '1', '1', '1', '1', '1', '1', '1', '1', '1', '1', '1', '1', '1', '1', '1', '1', '1', '1', '1', '1', '1', '1', '1']\n",
      "['0', '0', '0', '0', '0', '0', '0', '0', '0', '0', '0', '0', '0', '0', '0', '0', '0', '0', '0', '0', '0', '0', '0', '0', '0', '0', '0', '0', '0', '0', '0', '0', '0', '0', '0', '0', '0', '0', '0', '0', '0', '0', '0', '0', '0', '0', '0', '0', '0', '0', '0', '0', '0', '0', '0', '0', '0', '0', '0', '0', '0', '0', '0', '0', '0', '0', '0', '0', '0', '0', '0', '0', '0', '0', '0', '0', '0', '0', '0', '0', '0', '0', '0', '0', '0', '0', '0', '0', '0', '0', '0', '0', '0', '0', '0', '0', '0', '0', '0', '0', '0', '0', '0', '0', '0', '0', '0', '0', '0', '0', '0', '0', '0', '0', '0', '0', '0', '0', '0', '0', '0', '0', '0', '0', '0', '0', '0', '0']\n",
      "['1', '1', '1', '1', '1', '1', '1', '1', '1', '1', '1', '1', '1', '1', '1', '1', '1', '1', '1', '1', '1', '1', '1', '1', '1', '1', '1', '1', '1', '1', '1', '1', '1', '1', '1', '1', '1', '1', '1', '1', '1', '1', '1', '1', '1', '1', '1', '1', '1', '1', '1', '1', '1', '1', '1', '1', '1', '1', '1', '1', '1', '1', '1', '1', '1', '1', '1', '1', '1', '1', '1', '1', '1', '1', '1', '1', '1', '1', '1', '1', '1', '1', '1', '1', '1', '1', '1', '1', '1', '1', '1', '1', '1', '1', '1', '1', '1', '1', '1', '1', '1', '1', '1', '1', '1', '1', '1', '1', '1', '1', '1', '1', '1', '1', '1', '1', '1', '1', '1', '1', '1', '1', '1', '1', '1', '1', '1', '1', '1', '1', '1', '1', '1', '1', '1', '1', '1', '1', '1', '1', '1', '1', '1', '1', '1', '1', '1', '1', '1', '1', '1', '1', '1', '1', '1', '1', '1', '1', '1', '1', '1', '1', '1', '1', '1', '1', '1', '1', '1', '1', '1', '1', '1', '1', '1', '1', '1', '1', '1', '1', '1', '1', '1', '1', '1', '1', '1', '1', '1', '1', '1', '1', '1', '1', '1', '1', '1', '1', '1', '1', '1', '1', '1', '1', '1', '1', '1', '1', '1', '1', '1', '1', '1', '1', '1', '1', '1', '1', '1', '1', '1', '1', '1', '1', '1', '1', '1', '1', '1', '1', '1', '1', '1', '1', '1', '1', '1', '1', '1', '1', '1', '1', '1', '1', '1', '1', '1', '1', '1', '1', '1', '1', '1', '1', '1', '1']\n",
      "['0', '0', '0', '0', '0', '0', '0', '0', '0', '0', '0', '0', '0', '0', '0', '0', '0', '0', '0', '0', '0', '0', '0', '0', '0', '0', '0', '0', '0', '0', '0', '0', '0', '0', '0', '0', '0', '0', '0', '0', '0', '0', '0', '0', '0', '0', '0', '0', '0', '0', '0', '0', '0', '0', '0', '0', '0', '0', '0', '0', '0', '0', '0', '0', '0', '0', '0', '0', '0', '0', '0', '0', '0', '0', '0', '0', '0', '0', '0', '0', '0', '0', '0', '0', '0', '0', '0', '0', '0', '0', '0', '0', '0', '0', '0', '0', '0', '0', '0', '0', '0', '0', '0', '0', '0', '0', '0', '0', '0', '0', '0', '0', '0', '0', '0', '0', '0', '0', '0', '0', '0', '0', '0', '0', '0', '0', '0', '0', '0', '0', '0', '0', '0', '0', '0', '0', '0', '0', '0', '0', '0', '0', '0', '0', '0', '0', '0', '0', '0', '0', '0', '0', '0', '0', '0', '0', '0', '0', '0', '0', '0', '0', '0', '0', '0', '0', '0', '0', '0', '0', '0', '0', '0', '0', '0', '0', '0', '0', '0', '0', '0', '0', '0', '0', '0', '0', '0', '0', '0', '0', '0', '0', '0', '0', '0', '0', '0', '0', '0', '0', '0', '0', '0', '0', '0', '0', '0', '0', '0', '0', '0', '0', '0', '0', '0', '0', '0', '0', '0', '0', '0', '0', '0', '0', '0', '0', '0', '0', '0', '0', '0', '0', '0', '0', '0', '0', '0', '0', '0', '0', '0', '0', '0', '0', '0', '0', '0', '0', '0', '0', '0', '0', '0', '0', '0', '0', '0', '0', '0', '0', '0', '0', '0', '0', '0', '0', '0', '0', '0', '0', '0', '0', '0', '0', '0', '0', '0', '0', '0', '0', '0', '0', '0', '0', '0', '0', '0', '0', '0', '0', '0', '0', '0', '0', '0', '0', '0', '0', '0', '0', '0', '0', '0', '0', '0', '0', '0', '0', '0', '0', '0', '0', '0', '0', '0', '0', '0', '0', '0', '0', '0', '0', '0', '0', '0', '0', '0', '0', '0', '0', '0', '0', '0', '0', '0', '0', '0', '0', '0', '0', '0', '0', '0', '0', '0', '0', '0', '0', '0', '0', '0', '0', '0', '0', '0', '0', '0', '0', '0', '0', '0', '0', '0', '0', '0', '0', '0', '0', '0', '0', '0', '0', '0', '0', '0', '0', '0', '0', '0', '0', '0', '0', '0', '0', '0', '0', '0', '0', '0', '0', '0', '0', '0', '0', '0', '0', '0', '0', '0', '0', '0', '0', '0', '0', '0', '0', '0', '0', '0', '0', '0', '0', '0', '0', '0', '0', '0', '0', '0', '0', '0', '0', '0', '0', '0', '0', '0', '0', '0', '0', '0', '0', '0', '0', '0', '0', '0', '0', '0', '0', '0', '0', '0', '0', '0', '0', '0', '0', '0', '0', '0', '0', '0', '0', '0', '0', '0', '0', '0', '0', '0', '0', '0', '0', '0', '0', '0', '0', '0', '0', '0', '0', '0', '0', '0', '0', '0', '0', '0', '0', '0', '0', '0', '0', '0', '0', '0', '0', '0', '0', '0', '0', '0', '0', '0', '0', '0', '0', '0', '0', '0', '0', '0', '0', '0', '0', '0', '0', '0', '0', '0', '0']\n"
     ]
    }
   ],
   "source": [
    "a=\"{0:b}\".format(0)\n",
    "a=list(a)\n",
    "b=til(a)\n",
    "for i in range(10):\n",
    "    print(a)\n",
    "    b=til(a)\n",
    "    c=a.extend(b)"
   ]
  },
  {
   "cell_type": "code",
   "execution_count": 32,
   "metadata": {},
   "outputs": [],
   "source": [
    "def til(a):\n",
    "    for i in range(len(a)):\n",
    "        if(a[i]=='1'):\n",
    "            a[i]='0'\n",
    "        elif(a[i]=='0'):\n",
    "            a[i]='1'\n",
    "    return a"
   ]
  },
  {
   "cell_type": "code",
   "execution_count": 37,
   "metadata": {},
   "outputs": [],
   "source": [
    "c"
   ]
  },
  {
   "cell_type": "code",
   "execution_count": 21,
   "metadata": {},
   "outputs": [
    {
     "data": {
      "text/plain": [
       "['0']"
      ]
     },
     "execution_count": 21,
     "metadata": {},
     "output_type": "execute_result"
    }
   ],
   "source": [
    "list(a)"
   ]
  },
  {
   "cell_type": "code",
   "execution_count": 22,
   "metadata": {},
   "outputs": [
    {
     "data": {
      "text/plain": [
       "1"
      ]
     },
     "execution_count": 22,
     "metadata": {},
     "output_type": "execute_result"
    }
   ],
   "source": [
    "len(a)"
   ]
  },
  {
   "cell_type": "code",
   "execution_count": 1,
   "metadata": {},
   "outputs": [
    {
     "name": "stdout",
     "output_type": "stream",
     "text": [
      "Class A: 1\n",
      "Class B: 1\n",
      "Class C: 0\n",
      "Class D: 0\n",
      "Class E: 0\n",
      "\n"
     ]
    }
   ],
   "source": [
    "N = np.arange(0, NUM_EPOCHS)\n",
    "plt.style.use(\"ggplot\")\n",
    "plt.figure()\n",
    "plt.plot(N, H.history[\"loss\"], label=\"train_loss\")\n",
    "plt.plot(N, H.history[\"val_loss\"], label=\"val_loss\")\n",
    "plt.plot(N, H.history[\"accuracy\"], label=\"train_acc\")\n",
    "plt.plot(N, H.history[\"val_accuracy\"], label=\"val_acc\")\n",
    "plt.title(\"Training Loss and Accuracy on Dataset\")\n",
    "plt.xlabel(\"Epoch #\")\n",
    "plt.ylabel(\"Loss/Accuracy\")\n",
    "plt.legend(loc=\"lower left\")\n",
    "plt.savefig(args[\"plot\"])\n",
    "print(\"[INFO] serializing network to '{}'...\".format(args[\"model\"]))\n",
    "model.save(args[\"model\"])"
   ]
  },
  {
   "cell_type": "code",
   "execution_count": 2,
   "metadata": {},
   "outputs": [
    {
     "name": "stdout",
     "output_type": "stream",
     "text": [
      "PCI value : 43\n"
     ]
    }
   ],
   "source": [
    "max_leaf_nodes=[15000,20000,25000]\n",
    "\n",
    "# for loop to iterate for each parameter to test\n",
    "for m in max_leaf_nodes :\n",
    "    model = RandomForestClassifier(n_estimators = 200, n_jobs = -1,random_state =50,min_samples_leaf = 1, max_depth = 40, max_leaf_nodes=m)\n",
    "    model.fit(train_x,train_y)\n",
    "    print(\"\\n Leaf size :\", m)\n",
    "    print (\"AUC - ROC : \", roc_auc_score(test_y,model.predict(test_x)))\n",
    "    def impute_age(cols):\n",
    "    age=cols[0]\n",
    "    education=cols[1]\n",
    "    city=cols[2]\n",
    "    if(pd.isnull(age)):\n",
    "        if(education=='Matriculation'):\n",
    "            if(city==1):\n",
    "                return 41\n",
    "            elif(city==2):\n",
    "                return 39\n",
    "            elif(city==3):\n",
    "                return 34\n",
    "            elif(city==4):\n",
    "                return 33\n",
    "        elif(education=='High School Diploma'):\n",
    "            if(city==1):\n",
    "                return 32\n",
    "            elif(city==2):\n",
    "                return 33\n",
    "            elif(city==3):\n",
    "                return 31\n",
    "            elif(city==4):\n",
    "                return 31\n",
    "        elif(education=='Bachelors'):\n",
    "            if(city==1):\n",
    "                return 43\n",
    "            elif(city==2):\n",
    "                return 43\n",
    "            elif(city==3):\n",
    "                return 43\n",
    "            elif(city==4):\n",
    "                return 42\n",
    "        elif(education=='Masters'):\n",
    "            if(city==1):\n",
    "                return 45\n",
    "            elif(city==2):\n",
    "                return 45\n",
    "            elif(city==3):\n",
    "                return 45\n",
    "            elif(city==4):\n",
    "                return age\n",
    "        elif(education=='No Qualification'):\n",
    "            if(city==1):\n",
    "                return age\n",
    "            elif(city==2):\n",
    "                return 31\n",
    "            elif(city==3):\n",
    "                return 29.5\n",
    "            elif(city==4):\n",
    "                return 37\n",
    "    else:\n",
    "        return PCI\n",
    "modpci(get.inputs(model))"
   ]
  },
  {
   "cell_type": "code",
   "execution_count": 12,
   "metadata": {},
   "outputs": [],
   "source": [
    "l=[180, 313, 101, 255, 202, 198, 109, 183, 181, 113, 171, 165, 318, 145, 131, 145, 226, 113, 268, 108]"
   ]
  },
  {
   "cell_type": "code",
   "execution_count": 13,
   "metadata": {},
   "outputs": [],
   "source": [
    "import numpy as np"
   ]
  },
  {
   "cell_type": "code",
   "execution_count": 14,
   "metadata": {},
   "outputs": [],
   "source": [
    "l=np.array(l)"
   ]
  },
  {
   "cell_type": "code",
   "execution_count": 18,
   "metadata": {},
   "outputs": [],
   "source": [
    "s=l.std(ddof=0)"
   ]
  },
  {
   "cell_type": "code",
   "execution_count": 19,
   "metadata": {},
   "outputs": [],
   "source": [
    "m=l.mean()"
   ]
  },
  {
   "cell_type": "code",
   "execution_count": 20,
   "metadata": {},
   "outputs": [],
   "source": [
    "r1=m+s\n",
    "r2=m-s"
   ]
  },
  {
   "cell_type": "code",
   "execution_count": 26,
   "metadata": {},
   "outputs": [],
   "source": [
    "r=r1-r2"
   ]
  },
  {
   "cell_type": "code",
   "execution_count": 41,
   "metadata": {},
   "outputs": [
    {
     "data": {
      "text/plain": [
       "11"
      ]
     },
     "execution_count": 41,
     "metadata": {},
     "output_type": "execute_result"
    }
   ],
   "source": [
    "a=(l>=r2)\n",
    "b=(l<=r1)\n",
    "sum((a)&(b))"
   ]
  },
  {
   "cell_type": "code",
   "execution_count": 29,
   "metadata": {},
   "outputs": [
    {
     "data": {
      "text/plain": [
       "245.90514287355649"
      ]
     },
     "execution_count": 29,
     "metadata": {},
     "output_type": "execute_result"
    }
   ],
   "source": [
    "r1"
   ]
  },
  {
   "cell_type": "code",
   "execution_count": 30,
   "metadata": {},
   "outputs": [
    {
     "data": {
      "text/plain": [
       "116.59485712644353"
      ]
     },
     "execution_count": 30,
     "metadata": {},
     "output_type": "execute_result"
    }
   ],
   "source": [
    "r2"
   ]
  },
  {
   "cell_type": "code",
   "execution_count": 33,
   "metadata": {},
   "outputs": [
    {
     "data": {
      "text/plain": [
       "array([101, 108, 109, 113, 113, 131, 145, 145, 165, 171, 180, 181, 183,\n",
       "       198, 202, 226, 255, 268, 313, 318])"
      ]
     },
     "execution_count": 33,
     "metadata": {},
     "output_type": "execute_result"
    }
   ],
   "source": [
    "l.sort()\n",
    "l"
   ]
  },
  {
   "cell_type": "code",
   "execution_count": 1,
   "metadata": {},
   "outputs": [],
   "source": [
    "import numpy as np\n",
    "import pandas as pd\n",
    "import scipy.stats as stats"
   ]
  },
  {
   "cell_type": "code",
   "execution_count": 3,
   "metadata": {},
   "outputs": [],
   "source": [
    "from scipy.stats import ttest_1samp,ttest_ind,ttest_rel,chisquare"
   ]
  },
  {
   "cell_type": "code",
   "execution_count": 3,
   "metadata": {},
   "outputs": [
    {
     "data": {
      "text/plain": [
       "3.141592653589793"
      ]
     },
     "execution_count": 3,
     "metadata": {},
     "output_type": "execute_result"
    }
   ],
   "source": [
    "import math\n",
    "math.pi"
   ]
  },
  {
   "cell_type": "code",
   "execution_count": 1,
   "metadata": {},
   "outputs": [],
   "source": [
    "a=3\n",
    "b=4\n",
    "x=[1,2,3,4,5,6]\n",
    "x.append(a+b)"
   ]
  },
  {
   "cell_type": "code",
   "execution_count": 2,
   "metadata": {},
   "outputs": [
    {
     "data": {
      "text/plain": [
       "True"
      ]
     },
     "execution_count": 2,
     "metadata": {},
     "output_type": "execute_result"
    }
   ],
   "source": [
    "7 in x"
   ]
  },
  {
   "cell_type": "code",
   "execution_count": 5,
   "metadata": {},
   "outputs": [
    {
     "data": {
      "text/plain": [
       "0"
      ]
     },
     "execution_count": 5,
     "metadata": {},
     "output_type": "execute_result"
    }
   ],
   "source": [
    "2//3"
   ]
  },
  {
   "cell_type": "code",
   "execution_count": 4,
   "metadata": {},
   "outputs": [
    {
     "name": "stdout",
     "output_type": "stream",
     "text": [
      "abcde\n",
      "d\n"
     ]
    }
   ],
   "source": [
    "a=input()\n",
    "print(a[3])"
   ]
  },
  {
   "cell_type": "code",
   "execution_count": 3,
   "metadata": {},
   "outputs": [
    {
     "name": "stdout",
     "output_type": "stream",
     "text": [
      "2+6+8//5\n"
     ]
    },
    {
     "data": {
      "text/plain": [
       "9"
      ]
     },
     "execution_count": 3,
     "metadata": {},
     "output_type": "execute_result"
    }
   ],
   "source": [
    "eval(input())"
   ]
  },
  {
   "cell_type": "code",
   "execution_count": 8,
   "metadata": {},
   "outputs": [
    {
     "name": "stdout",
     "output_type": "stream",
     "text": [
      "4\n",
      "3 4 1 -1\n",
      "3\n",
      "-1\n"
     ]
    }
   ],
   "source": [
    "n=int(input())\n",
    "a=list(map(int,input().split()))\n",
    "s=sum(a)\n",
    "m=int(input())\n",
    "x=a[1:-1]\n",
    "x.sort(reverse=-1)\n",
    "z=x.count(-1)\n",
    "if(a[-1]==-1):\n",
    "    print(-1)\n",
    "else:\n",
    "    if(z>m):\n",
    "        print(-1)\n",
    "    elif(z==m):\n",
    "        print(s+z)\n",
    "    else:\n",
    "        print(sum(x[z-1:])+z+a[0]+a[-1])"
   ]
  },
  {
   "cell_type": "code",
   "execution_count": 6,
   "metadata": {},
   "outputs": [
    {
     "data": {
      "text/plain": [
       "1"
      ]
     },
     "execution_count": 6,
     "metadata": {},
     "output_type": "execute_result"
    }
   ],
   "source": [
    "a=[1,2,3,5,4]\n",
    "a.count(1)\n"
   ]
  },
  {
   "cell_type": "code",
   "execution_count": 15,
   "metadata": {},
   "outputs": [
    {
     "name": "stdout",
     "output_type": "stream",
     "text": [
      "6 3\n",
      "5 5 7 9 15 2\n",
      "4\n"
     ]
    }
   ],
   "source": [
    "x=input().split()\n",
    "n=int(x[0])\n",
    "m=int(x[1])\n",
    "a=list(map(int,input().split()))\n",
    "mi=min(a)\n",
    "ma=max(a)\n",
    "a1=list(map(lambda x:x-m,a))\n",
    "a2=list(map(lambda x:x+m,a))\n",
    "c=0\n",
    "for i in range(len(a)):\n",
    "    if((a1[i]<=mi) or (a2[i]>=ma)):\n",
    "        c=c+1\n",
    "print(c)"
   ]
  },
  {
   "cell_type": "code",
   "execution_count": 16,
   "metadata": {},
   "outputs": [
    {
     "data": {
      "text/plain": [
       "[2, 2, 4, 6, 12, -1]"
      ]
     },
     "execution_count": 16,
     "metadata": {},
     "output_type": "execute_result"
    }
   ],
   "source": [
    "a1"
   ]
  },
  {
   "cell_type": "code",
   "execution_count": 26,
   "metadata": {},
   "outputs": [
    {
     "data": {
      "text/plain": [
       "-0.6536436208636119"
      ]
     },
     "execution_count": 26,
     "metadata": {},
     "output_type": "execute_result"
    }
   ],
   "source": [
    "import math\n",
    "math.cos(4)"
   ]
  },
  {
   "cell_type": "code",
   "execution_count": 31,
   "metadata": {},
   "outputs": [
    {
     "name": "stdout",
     "output_type": "stream",
     "text": [
      "2\n",
      "28.644800 22.572645\n",
      "77.216721 88.363892\n",
      "5 7\n",
      "48.864716 2.349014\n",
      "2.28271 -0.12668\n",
      "2.700939 -0.108262\n",
      "0\n"
     ]
    }
   ],
   "source": [
    "t=int(input())\n",
    "lat=list(map(float,input().split()))\n",
    "lon=list(map(float,input().split()))\n",
    "h=list(map(int,input().split()))\n",
    "jon=list(map(float,input().split()))\n",
    "c=0\n",
    "for i in range(t):\n",
    "    l=round(((2*6371*h[i])**0.5)/110.574,6)\n",
    "    w=round(4.12*(h[i]**0.5)/(111.320*math.cos(l)),6)\n",
    "    if((lat[i]<=jon[0]+l) and (lon[i]<=jon[1]+w)):\n",
    "            c=c+1\n",
    "print(c)"
   ]
  },
  {
   "cell_type": "code",
   "execution_count": 23,
   "metadata": {},
   "outputs": [
    {
     "name": "stdout",
     "output_type": "stream",
     "text": [
      "3 5\n",
      "1 6\n",
      "2 7\n"
     ]
    }
   ],
   "source": [
    "l=[]\n",
    "for i in range(3):\n",
    "    (n,k)=map(int,input().split())\n",
    "    l.append((n,k))"
   ]
  },
  {
   "cell_type": "code",
   "execution_count": 25,
   "metadata": {},
   "outputs": [
    {
     "data": {
      "text/plain": [
       "[(1, 6), (2, 7), (3, 5)]"
      ]
     },
     "execution_count": 25,
     "metadata": {},
     "output_type": "execute_result"
    }
   ],
   "source": [
    "sorted(l,key=lambda x:x[0])"
   ]
  },
  {
   "cell_type": "code",
   "execution_count": null,
   "metadata": {},
   "outputs": [],
   "source": [
    "2\n",
    "19.076090 17.387140\n",
    "72.877426 78.491684\n",
    "2 1\n",
    "18.516726 73.856255"
   ]
  },
  {
   "cell_type": "code",
   "execution_count": 41,
   "metadata": {},
   "outputs": [
    {
     "name": "stdout",
     "output_type": "stream",
     "text": [
      "supreme court is the highest judicial court\n",
      "s u\n",
      "['su', 'us'] [(1, 0), (0, 1)]\n"
     ]
    }
   ],
   "source": [
    "from itertools import permutations \n",
    "s=input().split()\n",
    "l=input().split()\n",
    "a=permutations(l)\n",
    "p=[]\n",
    "for i in list(a):\n",
    "    p.append(''.join(i))\n",
    "n=[]\n",
    "for i in range(len(p)):\n",
    "    c=0\n",
    "    for j in range(len(s)):\n",
    "        if(p[i] in s[j]):\n",
    "            c=c+1\n",
    "    n.append((i,c))\n",
    "n=sorted(n,key=lambda x:x[1])\n",
    "print(p,n)"
   ]
  },
  {
   "cell_type": "code",
   "execution_count": 45,
   "metadata": {},
   "outputs": [
    {
     "data": {
      "text/plain": [
       "True"
      ]
     },
     "execution_count": 45,
     "metadata": {},
     "output_type": "execute_result"
    }
   ],
   "source": [
    "p[0] in s[0]"
   ]
  },
  {
   "cell_type": "code",
   "execution_count": 5,
   "metadata": {},
   "outputs": [],
   "source": [
    "import numpy as np"
   ]
  },
  {
   "cell_type": "code",
   "execution_count": 24,
   "metadata": {
    "scrolled": true
   },
   "outputs": [
    {
     "name": "stdout",
     "output_type": "stream",
     "text": [
      "12\n",
      "* . * # . * * * # . * .\n",
      "* . * # . . * . # * * *\n",
      "* * * # . * * * # * . *\n",
      "U#I#A"
     ]
    }
   ],
   "source": [
    "A=np.array([list('.*.'),list('***'),list('*.*')])\n",
    "E=np.array([list('***'),list('***'),list('***')])\n",
    "I=np.array([list('***'),list('.*.'),list('***')])\n",
    "O=np.array([list('***'),list('*.*'),list('***')])\n",
    "U=np.array([list('*.*'),list('*.*'),list('***')])\n",
    "n=int(input())\n",
    "x=input().split()\n",
    "y=input().split()\n",
    "z=input().split()\n",
    "i=0\n",
    "while(i<n-3):\n",
    "    if(x[i]=='#'):\n",
    "        i=i+1\n",
    "        print('#',end='')\n",
    "    a=(np.array([x[i:i+3],y[i:i+3],z[i:i+3]]))\n",
    "    if(np.array_equal(a,A)):\n",
    "        print('A',end='')\n",
    "    elif(np.array_equal(a,E)):\n",
    "        print('E',end='')\n",
    "    elif(np.array_equal(a,I)):\n",
    "        print('I',end='')\n",
    "    elif(np.array_equal(a,O)):\n",
    "        print('O',end='')\n",
    "    elif(np.array_equal(a,U)):\n",
    "        print('U',end='')\n",
    "    if(i<n-3):\n",
    "        if(x[i+3]=='#'):\n",
    "            i=i+3\n",
    "        else:\n",
    "            i=i+1\n",
    "    else:\n",
    "        break"
   ]
  },
  {
   "cell_type": "code",
   "execution_count": 27,
   "metadata": {},
   "outputs": [
    {
     "name": "stdout",
     "output_type": "stream",
     "text": [
      "12\n",
      "*.*#.***#.*.\n",
      "*.*#..*.#***\n",
      "***#.***#*.*\n"
     ]
    },
    {
     "ename": "IndexError",
     "evalue": "list index out of range",
     "output_type": "error",
     "traceback": [
      "\u001b[1;31m---------------------------------------------------------------------------\u001b[0m",
      "\u001b[1;31mIndexError\u001b[0m                                Traceback (most recent call last)",
      "\u001b[1;32m<ipython-input-27-c2c65247e829>\u001b[0m in \u001b[0;36m<module>\u001b[1;34m\u001b[0m\n\u001b[0;32m      5\u001b[0m \u001b[0mi\u001b[0m\u001b[1;33m=\u001b[0m\u001b[1;36m0\u001b[0m\u001b[1;33m\u001b[0m\u001b[1;33m\u001b[0m\u001b[0m\n\u001b[0;32m      6\u001b[0m \u001b[1;32mwhile\u001b[0m\u001b[1;33m(\u001b[0m\u001b[0mi\u001b[0m\u001b[1;33m<\u001b[0m\u001b[0mn\u001b[0m\u001b[1;33m-\u001b[0m\u001b[1;36m3\u001b[0m\u001b[1;33m)\u001b[0m\u001b[1;33m:\u001b[0m\u001b[1;33m\u001b[0m\u001b[1;33m\u001b[0m\u001b[0m\n\u001b[1;32m----> 7\u001b[1;33m     \u001b[1;32mif\u001b[0m\u001b[1;33m(\u001b[0m\u001b[0ma\u001b[0m\u001b[1;33m[\u001b[0m\u001b[0mi\u001b[0m\u001b[1;33m]\u001b[0m\u001b[1;33m==\u001b[0m\u001b[1;34m'#'\u001b[0m\u001b[1;33m)\u001b[0m\u001b[1;33m:\u001b[0m\u001b[1;33m\u001b[0m\u001b[1;33m\u001b[0m\u001b[0m\n\u001b[0m\u001b[0;32m      8\u001b[0m         \u001b[0mprint\u001b[0m\u001b[1;33m(\u001b[0m\u001b[1;34m'#'\u001b[0m\u001b[1;33m,\u001b[0m \u001b[0mend\u001b[0m\u001b[1;33m=\u001b[0m\u001b[1;34m''\u001b[0m\u001b[1;33m)\u001b[0m\u001b[1;33m\u001b[0m\u001b[1;33m\u001b[0m\u001b[0m\n\u001b[0;32m      9\u001b[0m         \u001b[0mi\u001b[0m\u001b[1;33m=\u001b[0m\u001b[0mi\u001b[0m\u001b[1;33m+\u001b[0m\u001b[1;36m1\u001b[0m\u001b[1;33m\u001b[0m\u001b[1;33m\u001b[0m\u001b[0m\n",
      "\u001b[1;31mIndexError\u001b[0m: list index out of range"
     ]
    }
   ],
   "source": [
    "n=int(input())\n",
    "a=input().split()\n",
    "b=input().split()\n",
    "c=input().split()\n",
    "i=0\n",
    "while(i<n-2):\n",
    "    if(a[i]=='#'):\n",
    "        print('#', end='')\n",
    "        i=i+1\n",
    "        continue\n",
    "    elif(a[i]=='.' and b[i]=='.' and c[i]=='.'):\n",
    "        i=i+1\n",
    "        continue\n",
    "    elif(a[i]=='.' and a[i+2]=='.' and a[i+1]=='*'):\n",
    "        if(b[i]=='*' and b[i+1]=='*' and b[i+2]=='*'):\n",
    "            if(c[i]=='*' and c[i+2]=='*' and c[i+1]=='.'):\n",
    "                print('A',end='')\n",
    "                i=i+3\n",
    "                continue\n",
    "    elif(a[i]=='*' and a[i+2]=='*' and a[i+1]=='.'):\n",
    "        if(b[i]=='*' and b[i+2]=='*' and b[i+1]=='.'):\n",
    "            if(c[i]=='*' and c[i+1]=='*' and c[i+2]=='*'): \n",
    "                print('U',end='')\n",
    "                i=i+3\n",
    "                continue\n",
    "    elif(a[i]=='*' and a[i+1]=='*' and a[i+2]=='*'):\n",
    "        if(b[i]=='*' and b[i+1]=='*' and b[i+2]=='*'):\n",
    "            if(c[i]=='*' and c[i+1]=='*' and c[i+2]=='*'):\n",
    "                print('E',end='')\n",
    "                i=i+3\n",
    "                continue\n",
    "        elif(b[i]=='.' and b[i+1]=='*' and b[i+2]=='.'):\n",
    "            if(c[i]=='*' and c[i+1]=='*' and c[i+2]=='*'):\n",
    "                print('I',end='')\n",
    "                i=i+3\n",
    "                continue\n",
    "        elif(b[i]=='*' and b[i+2]=='*' and b[i+1]=='.'):\n",
    "            if(c[i]=='*' and c[i+1]=='*' and c[i+2]=='*'):\n",
    "                print('O',end='')\n",
    "                i=i+3\n",
    "                continue\n",
    "    i=i+1"
   ]
  },
  {
   "cell_type": "code",
   "execution_count": 3,
   "metadata": {
    "scrolled": true
   },
   "outputs": [
    {
     "ename": "SyntaxError",
     "evalue": "invalid syntax (<ipython-input-3-4a7de3a3317d>, line 1)",
     "output_type": "error",
     "traceback": [
      "\u001b[1;36m  File \u001b[1;32m\"<ipython-input-3-4a7de3a3317d>\"\u001b[1;36m, line \u001b[1;32m1\u001b[0m\n\u001b[1;33m    a=[1,2;3,4]\u001b[0m\n\u001b[1;37m          ^\u001b[0m\n\u001b[1;31mSyntaxError\u001b[0m\u001b[1;31m:\u001b[0m invalid syntax\n"
     ]
    }
   ],
   "source": [
    "*.*#***\n",
    "*.*#*.*\n",
    "***#***\n",
    "\n",
    "\n",
    "*.*#.***#.*.\n",
    "*.*#..*.#***\n",
    "***#.***#*.*"
   ]
  },
  {
   "cell_type": "code",
   "execution_count": 18,
   "metadata": {},
   "outputs": [
    {
     "data": {
      "text/plain": [
       "array([['.', '*', '.'],\n",
       "       ['*', '*', '*'],\n",
       "       ['*', '.', '*']], dtype='<U1')"
      ]
     },
     "execution_count": 18,
     "metadata": {},
     "output_type": "execute_result"
    }
   ],
   "source": [
    "A"
   ]
  },
  {
   "cell_type": "code",
   "execution_count": 19,
   "metadata": {},
   "outputs": [
    {
     "data": {
      "text/plain": [
       "array([['*', '.', '*'],\n",
       "       ['*', '.', '*'],\n",
       "       ['*', '*', '*']], dtype='<U1')"
      ]
     },
     "execution_count": 19,
     "metadata": {},
     "output_type": "execute_result"
    }
   ],
   "source": [
    "a"
   ]
  },
  {
   "cell_type": "code",
   "execution_count": 25,
   "metadata": {},
   "outputs": [
    {
     "name": "stdout",
     "output_type": "stream",
     "text": [
      "experience was ultimate\n",
      "ew\n"
     ]
    },
    {
     "ename": "NameError",
     "evalue": "name 'm2' is not defined",
     "output_type": "error",
     "traceback": [
      "\u001b[1;31m---------------------------------------------------------------------------\u001b[0m",
      "\u001b[1;31mNameError\u001b[0m                                 Traceback (most recent call last)",
      "\u001b[1;32m<ipython-input-25-7f0b8351528f>\u001b[0m in \u001b[0;36m<module>\u001b[1;34m\u001b[0m\n\u001b[0;32m      8\u001b[0m         \u001b[1;32mwhile\u001b[0m\u001b[1;33m(\u001b[0m\u001b[0mk\u001b[0m\u001b[1;33m)\u001b[0m\u001b[1;33m:\u001b[0m\u001b[1;33m\u001b[0m\u001b[1;33m\u001b[0m\u001b[0m\n\u001b[0;32m      9\u001b[0m             \u001b[0mm2\u001b[0m\u001b[1;33m=\u001b[0m\u001b[0mc\u001b[0m\u001b[1;33m.\u001b[0m\u001b[0mindex\u001b[0m\u001b[1;33m(\u001b[0m\u001b[0mm1\u001b[0m\u001b[1;33m)\u001b[0m\u001b[1;33m\u001b[0m\u001b[1;33m\u001b[0m\u001b[0m\n\u001b[1;32m---> 10\u001b[1;33m \u001b[1;32mfor\u001b[0m \u001b[0mi\u001b[0m \u001b[1;32min\u001b[0m \u001b[0mrange\u001b[0m\u001b[1;33m(\u001b[0m\u001b[0mm2\u001b[0m\u001b[1;33m,\u001b[0m\u001b[0mlen\u001b[0m\u001b[1;33m(\u001b[0m\u001b[0mc\u001b[0m\u001b[1;33m)\u001b[0m\u001b[1;33m)\u001b[0m\u001b[1;33m:\u001b[0m\u001b[1;33m\u001b[0m\u001b[1;33m\u001b[0m\u001b[0m\n\u001b[0m\u001b[0;32m     11\u001b[0m     \u001b[1;32mif\u001b[0m\u001b[1;33m(\u001b[0m\u001b[0mc\u001b[0m\u001b[1;33m[\u001b[0m\u001b[0mi\u001b[0m\u001b[1;33m]\u001b[0m\u001b[1;33m==\u001b[0m\u001b[0mm1\u001b[0m\u001b[1;33m)\u001b[0m\u001b[1;33m:\u001b[0m\u001b[1;33m\u001b[0m\u001b[1;33m\u001b[0m\u001b[0m\n\u001b[0;32m     12\u001b[0m         \u001b[1;32mif\u001b[0m\u001b[1;33m(\u001b[0m\u001b[0mord\u001b[0m\u001b[1;33m(\u001b[0m\u001b[0mq\u001b[0m\u001b[1;33m[\u001b[0m\u001b[0mi\u001b[0m\u001b[1;33m]\u001b[0m\u001b[1;33m)\u001b[0m\u001b[1;33m<\u001b[0m\u001b[0mord\u001b[0m\u001b[1;33m(\u001b[0m\u001b[0mq\u001b[0m\u001b[1;33m[\u001b[0m\u001b[0mm2\u001b[0m\u001b[1;33m]\u001b[0m\u001b[1;33m)\u001b[0m\u001b[1;33m)\u001b[0m\u001b[1;33m:\u001b[0m\u001b[1;33m\u001b[0m\u001b[1;33m\u001b[0m\u001b[0m\n",
      "\u001b[1;31mNameError\u001b[0m: name 'm2' is not defined"
     ]
    }
   ],
   "source": [
    "t=input().split()\n",
    "s=input().split()\n",
    "for i in range(len(s)-1):\n",
    "    c=[0 for j in range(i,len(s))]\n",
    "for i in t:\n",
    "    for j in range(len(s)):\n",
    "        k=0\n",
    "        while(k):\n",
    "            m2=c.index(m1)\n",
    "for i in range(m2,len(c)):\n",
    "    if(c[i]==m1):\n",
    "        if(ord(q[i])<ord(q[m2])):\n",
    "            m2=i\n",
    "    else:\n",
    "        m2=c.index(m1)\n",
    "        q[m2],q[t]=q[t],q[m2]\n",
    "print(\"\".join(q))"
   ]
  },
  {
   "cell_type": "code",
   "execution_count": null,
   "metadata": {},
   "outputs": [],
   "source": [
    "p=input(\"\")\n",
    "q=input(\"\")\n",
    "p=list(p.split(\" \"))\n",
    "q=list(q.split(\" \"))\n",
    "for t in range(0,len(q)-1):\n",
    "c=[0 for i in range(t,len(q))]\n",
    "for i in p:\n",
    "for j in range(len(q)):\n",
    "k=0\n",
    "while(k1):\n",
    "m2=c.index(m1)\n",
    "for i in range(m2,len(c)):\n",
    "if(c[i]==m1):\n",
    "if(ord(q[i])<ord(q[m2])):\n",
    "m2=i\n",
    "else:\n",
    "m2=c.index(m1)\n",
    "q[m2],q[t]=q[t],q[m2]\n",
    "print(\"\".join(q))"
   ]
  },
  {
   "cell_type": "code",
   "execution_count": null,
   "metadata": {},
   "outputs": [],
   "source": [
    "fruit_dictionary = dict(zip(fruits, prices))"
   ]
  },
  {
   "cell_type": "code",
   "execution_count": 1,
   "metadata": {},
   "outputs": [
    {
     "name": "stdout",
     "output_type": "stream",
     "text": [
      "1\n",
      "CMD SM SET_COST SHOE 5\n",
      "5.0\n",
      "CMD SM SET_COST SHIRT 10\n",
      "10.0\n",
      "CMD SM ADD SHOE 5\n",
      "5\n",
      "CMD SM ADD SHIRT 10\n",
      "10\n",
      "CMD SM DCR SHIRT 5\n",
      "5\n",
      "CMD SM INCR SHOE 5\n",
      "5\n",
      "CMD SM GET_QTY SHIRT\n",
      "5\n",
      "CMD SM GET_QTY SHOE\n",
      "10\n",
      "CMD SM REMOVE SHIRT\n",
      "1\n",
      "CMD SM GET_QTY SHIRT\n",
      "0\n",
      "CMD S ADD SHOE 2\n",
      "2\n",
      "CMD S INCR SHOE 2\n",
      "2\n",
      "CMD S DCR SHOE 1\n",
      "1\n",
      "CMD S GET_ORDER_AMOUNT\n",
      "15.0\n",
      "END\n"
     ]
    }
   ],
   "source": [
    "q=[0,0]\n",
    "c=[0,0]\n",
    "q1=[0,0]\n",
    "t=int(input())\n",
    "while(t):\n",
    "    t=t-1\n",
    "    while(1):\n",
    "        a=input().split()\n",
    "        if(a[0]=='END'):\n",
    "            break\n",
    "        if(a[1]=='SM'):\n",
    "            if(a[2]=='ADD'):\n",
    "                try:\n",
    "                    if(int(a[4])>0):\n",
    "                        if(a[3]=='SHIRT' and q[0]==0):\n",
    "                            q[0]=int(a[4])\n",
    "                            print(q[0])\n",
    "                        elif(a[3]=='SHOE' and q[1]==0):\n",
    "                            q[1]=int(a[4])\n",
    "                            print(q[1])\n",
    "                        else:\n",
    "                            print(-1)\n",
    "                    else:\n",
    "                        print(-1)\n",
    "                except:\n",
    "                    print(-1)\n",
    "            elif(a[2]=='REMOVE'):\n",
    "                try:\n",
    "                    if(a[3]=='SHIRT'):\n",
    "                        if(q[0]==0):\n",
    "                            print(-1)\n",
    "                        else:\n",
    "                            q[0]=0\n",
    "                            print(1)\n",
    "                    elif(a[3]=='SHOE'):\n",
    "                        if(q[1]==0):\n",
    "                            print(-1)\n",
    "                        else:\n",
    "                            q[1]=0\n",
    "                            print(1)\n",
    "                    else:\n",
    "                        print(-1)\n",
    "                except:\n",
    "                    print(-1)\n",
    "            elif(a[2]=='GET_QTY'):\n",
    "                if(a[3]=='SHIRT'):\n",
    "                    print(q[0])\n",
    "                elif(a[3]=='SHOE'):\n",
    "                    print(q[1])\n",
    "                else:\n",
    "                    print(0)\n",
    "            elif(a[2]=='INCR'):\n",
    "                try:\n",
    "                    if(int(a[4])>0):\n",
    "                        if(a[3]=='SHIRT' and q[0]>0):\n",
    "                            q[0]=q[0]+int(a[4])\n",
    "                            print(a[4])\n",
    "                        elif(a[3]=='SHOE' and q[1]>0):\n",
    "                            q[1]=q[1]+int(a[4])\n",
    "                            print(a[4])\n",
    "                        else:\n",
    "                            print(-1)\n",
    "                    else:\n",
    "                        print(-1)\n",
    "                except:\n",
    "                    print(-1)\n",
    "            elif(a[2]=='DCR'):\n",
    "                try:\n",
    "                    n=int(a[4])\n",
    "                    if(n>0):\n",
    "                        if(a[3]=='SHIRT' and q[0]>0):\n",
    "                            if(n<=q[0]):\n",
    "                                q[0]=q[0]-n\n",
    "                                print(a[4])\n",
    "                            else:\n",
    "                                q[0]=0\n",
    "                                print(-1)\n",
    "                        elif(a[3]=='SHOE' and q[1]>0):\n",
    "                            if(n<=q[1]):\n",
    "                                q[1]=q[1]-n\n",
    "                                print(a[4])\n",
    "                            else:\n",
    "                                q[1]=0\n",
    "                                print(-1)\n",
    "                        else:\n",
    "                            print(-1)\n",
    "                    else:\n",
    "                        print(-1)\n",
    "                except:\n",
    "                    print(-1)\n",
    "            elif(a[2]=='SET_COST'):\n",
    "                try:\n",
    "                    if(a[3]=='SHIRT'):\n",
    "                        c[0]=float(a[4])\n",
    "                        print(c[0])\n",
    "                    elif(a[3]=='SHOE'):\n",
    "                        c[1]=float(a[4])\n",
    "                        print(c[1])\n",
    "                    else:\n",
    "                        print(-1)\n",
    "                except:\n",
    "                    print(-1)\n",
    "        if(a[1]=='S'):\n",
    "            if(a[2]=='ADD'):\n",
    "                try:\n",
    "                    if(int(a[4])>0):\n",
    "                        if(a[3]=='SHIRT' and q1[0]==0):\n",
    "                            q1[0]=int(a[4])\n",
    "                            print(q1[0])\n",
    "                        elif(a[3]=='SHOE' and q1[1]==0):\n",
    "                            q1[1]=int(a[4])\n",
    "                            print(q1[1])\n",
    "                        else:\n",
    "                            print(-1)\n",
    "                    else:\n",
    "                        print(-1)\n",
    "                except:\n",
    "                    print(-1)\n",
    "            elif(a[2]=='REMOVE'):\n",
    "                try:\n",
    "                    if(a[3]=='SHIRT'):\n",
    "                        if(q1[0]==0):\n",
    "                            print(-1)\n",
    "                        else:\n",
    "                            q1[0]=0\n",
    "                            print(1)\n",
    "                    elif(a[3]=='SHOE'):\n",
    "                        if(q1[1]==0):\n",
    "                            print(-1)\n",
    "                        else:\n",
    "                            q1[1]=0\n",
    "                            print(1)\n",
    "                    else:\n",
    "                        print(-1)\n",
    "                except:\n",
    "                    print(-1)\n",
    "            elif(a[2]=='INCR'):\n",
    "                try:\n",
    "                    if(int(a[4])>0):\n",
    "                        if(a[3]=='SHIRT' and q1[0]>0):\n",
    "                            q1[0]=q1[0]+int(a[4])\n",
    "                            print(a[4])\n",
    "                        elif(a[3]=='SHOE' and q1[1]>0):\n",
    "                            q1[1]=q1[1]+int(a[4])\n",
    "                            print(a[4])\n",
    "                        else:\n",
    "                            print(-1)\n",
    "                    else:\n",
    "                        print(-1)\n",
    "                except:\n",
    "                    print(-1)\n",
    "            elif(a[2]=='DCR'):\n",
    "                try:\n",
    "                    n=int(a[4])\n",
    "                    if(n>0):\n",
    "                        if(a[3]=='SHIRT' and q1[0]>0):\n",
    "                            if(n<=q1[0]):\n",
    "                                q1[0]=q1[0]-n\n",
    "                                print(a[4])\n",
    "                            else:\n",
    "                                q1[0]=0\n",
    "                                print(-1)\n",
    "                        elif(a[3]=='SHOE' and q1[1]>0):\n",
    "                            if(n<=q1[1]):\n",
    "                                q1[1]=q1[1]-n\n",
    "                                print(a[4])\n",
    "                            else:\n",
    "                                q1[1]=0\n",
    "                                print(-1)\n",
    "                        else:\n",
    "                            print(-1)\n",
    "                    else:\n",
    "                        print(-1)\n",
    "                except:\n",
    "                    print(-1)\n",
    "            elif(a[2]=='GET_ORDER_AMOUNT'):\n",
    "                try:\n",
    "                    s=(q1[0]*c[0]+q1[1]*c[1])\n",
    "                    print('{:.2f}'.format(s))\n",
    "                except:\n",
    "                    print(-1)"
   ]
  },
  {
   "cell_type": "code",
   "execution_count": 32,
   "metadata": {},
   "outputs": [
    {
     "name": "stdout",
     "output_type": "stream",
     "text": [
      "1\n",
      "CMD SM SET_COST SHOE 5\n",
      "5.0\n",
      "CMD SM SET_COST SHIRT 10\n",
      "10.0\n",
      "CMD SM ADD SHOE 5\n",
      "5\n",
      "CMD SM ADD SHIRT 10\n",
      "10\n",
      "CMD SM DCR SHIRT 5\n",
      "5\n",
      "CMD SM INCR SHOE 5\n",
      "5\n",
      "CMD SM GET_QTY SHIRT\n",
      "5\n",
      "END\n"
     ]
    }
   ],
   "source": [
    "t=int(input())\n",
    "while(t):\n",
    "    t=t-1\n",
    "    inv={}\n",
    "    c={}\n",
    "    q={}\n",
    "    while(1):\n",
    "        a=input().split()\n",
    "        if(a[0]=='END'):\n",
    "            break\n",
    "        if(a[1]=='SM'):\n",
    "            if(a[2]=='ADD'):\n",
    "                try:\n",
    "                    n=int(a[4])\n",
    "                    if(n>0 and (a[3] not in inv)):\n",
    "                        inv[a[3]]=n\n",
    "                        print(n)\n",
    "                    else:\n",
    "                        print(-1)\n",
    "                except:\n",
    "                    print(-1)\n",
    "            elif(a[2]=='REMOVE'):\n",
    "                try:\n",
    "                    del inv[a[3]]\n",
    "                    print(1)\n",
    "                except:\n",
    "                    print(-1)\n",
    "            elif(a[2]=='INCR'):\n",
    "                try:\n",
    "                    n=int(a[4])\n",
    "                    if(n>0):\n",
    "                        inv[a[3]]=inv[a[3]]+n\n",
    "                    print(n)\n",
    "                except:\n",
    "                    print(-1)\n",
    "            elif(a[2]=='DCR'):\n",
    "                try:\n",
    "                    n=int(a[4])\n",
    "                    if(n<inv[a[3]]):\n",
    "                        inv[a[3]]=inv.get(a[3],0)-n\n",
    "                        print(n)\n",
    "                    elif(n==inv[a[3]]):\n",
    "                        del inv[a[3]]\n",
    "                        print(n)\n",
    "                    else:\n",
    "                        del inv[a[3]]\n",
    "                        print(-1)\n",
    "                except:\n",
    "                    print(-1)\n",
    "            elif(a[2]=='SET_COST'):\n",
    "                try:\n",
    "                    c[a[3]]=float(a[4])\n",
    "                    print(float(a[4]))\n",
    "                except:\n",
    "                    print(-1)\n",
    "            elif(a[2]=='GET_QTY'):\n",
    "                try:\n",
    "                    print(inv.get(a[3],0))\n",
    "                except:\n",
    "                    print(-1)\n",
    "        elif(a[1]=='S'):\n",
    "            if(a[2]=='ADD'):\n",
    "                try:\n",
    "                    n=int(a[4])\n",
    "                    if(n>0 and (a[3] not in q)):\n",
    "                        q[a[3]]=n\n",
    "                        print(n)\n",
    "                except:\n",
    "                    print(-1)\n",
    "            elif(a[2]=='REMOVE'):\n",
    "                try:\n",
    "                    del q[a[3]]\n",
    "                    print(1)\n",
    "                except:\n",
    "                    print(-1)\n",
    "            elif(a[2]=='INCR'):\n",
    "                try:\n",
    "                    n=int(a[4])\n",
    "                    if(n>0):\n",
    "                        q[a[3]]=q[a[3]]+n\n",
    "                    print(n)\n",
    "                except:\n",
    "                    print(-1)\n",
    "            elif(a[2]=='DCR'):\n",
    "                try:\n",
    "                    n=int(a[4])\n",
    "                    if(n<q[a[3]]):\n",
    "                        q[a[3]]=q.get(a[3],0)-n\n",
    "                        print(n)\n",
    "                    elif(n==q[a[3]]):\n",
    "                        del q[a[3]]\n",
    "                        print(n)\n",
    "                    else:\n",
    "                        del q[a[3]]\n",
    "                        print(-1)\n",
    "                except:\n",
    "                    print(-1)\n",
    "            elif(a[2]=='GET_ORDER_AMOUNT'):\n",
    "                s=0\n",
    "                try:\n",
    "                    for i in q.items():\n",
    "                        s=s+(c[i[0]]*i[1])\n",
    "                    print('{:.2f}'.format(s))\n",
    "                except:\n",
    "                    print(-1)"
   ]
  },
  {
   "cell_type": "code",
   "execution_count": 33,
   "metadata": {},
   "outputs": [
    {
     "name": "stdout",
     "output_type": "stream",
     "text": [
      "1\n",
      "CMD SM SET_COST SHOE 5\n",
      "CMD SM SET_COST SHIRT 10\n",
      "CMD SM ADD SHOE 5\n",
      "CMD SM ADD SHIRT 10\n",
      "END\n",
      "5.0\n",
      "10.0\n",
      "5\n",
      "10\n"
     ]
    }
   ],
   "source": []
  },
  {
   "cell_type": "code",
   "execution_count": 30,
   "metadata": {},
   "outputs": [
    {
     "data": {
      "text/plain": [
       "'END'"
      ]
     },
     "execution_count": 30,
     "metadata": {},
     "output_type": "execute_result"
    }
   ],
   "source": [
    "x[0]"
   ]
  },
  {
   "cell_type": "code",
   "execution_count": 31,
   "metadata": {},
   "outputs": [
    {
     "data": {
      "text/plain": [
       "5.0"
      ]
     },
     "execution_count": 31,
     "metadata": {},
     "output_type": "execute_result"
    }
   ],
   "source": [
    "float('5')"
   ]
  },
  {
   "cell_type": "code",
   "execution_count": null,
   "metadata": {},
   "outputs": [],
   "source": [
    "s=input()\n",
    "k=input()\n",
    "l=s.split()\n",
    "w=0\n",
    "for i in l:\n",
    "    j=0\n",
    "    while(j<len(i)):\n",
    "        if((i[j] in k) and j<len(i)):\n",
    "            c=0\n",
    "            pp=j\n",
    "            while(c==0 and j<len(i)):\n",
    "                j+=1\n",
    "                d=i[pp:j+1]\n",
    "                if(d not in k):\n",
    "                    c=1\n",
    "                    d=i[pp:j]\n",
    "            fe=k.find(d)\n",
    "            be=k[-1::-1].find(d[-1::-1])\n",
    "            w+=fe+len(d)*2*(fe!=0)+be+1\n",
    "        else:\n",
    "            j+=1\n",
    "print(w)"
   ]
  },
  {
   "cell_type": "code",
   "execution_count": null,
   "metadata": {},
   "outputs": [],
   "source": [
    "q=[0,0]\n",
    "c=[0,0]\n",
    "q1=[0,0]\n",
    "t=int(input())\n",
    "while(t):\n",
    "    t=t-1\n",
    "    while(1):\n",
    "        a=input().split()\n",
    "        if(a[0]=='END'):\n",
    "            break\n",
    "        if(a[1]=='SM'):\n",
    "            if(a[2]=='ADD'):\n",
    "                try:\n",
    "                    if(int(a[4])>0):\n",
    "                        if(a[3]=='SHIRT' and q[0]==0):\n",
    "                            q[0]=int(a[4])\n",
    "                            print(q[0])\n",
    "                        elif(a[3]=='SHOE' and q[1]==0):\n",
    "                            q[1]=int(a[4])\n",
    "                            print(q[1])\n",
    "                        else:\n",
    "                            print(-1)\n",
    "                    else:\n",
    "                        print(-1)\n",
    "                except:\n",
    "                    print(-1)\n",
    "            elif(a[2]=='REMOVE'):\n",
    "                try:\n",
    "                    if(a[3]=='SHIRT'):\n",
    "                        if(q[0]<=0):\n",
    "                            q[0]=0\n",
    "                            print(-1)\n",
    "                        else:\n",
    "                            q[0]=0\n",
    "                            print(1)\n",
    "                    elif(a[3]=='SHOE'):\n",
    "                        if(q[1]<=0):\n",
    "                            q[1]=0\n",
    "                            print(-1)\n",
    "                        else:\n",
    "                            q[1]=0\n",
    "                            print(1)\n",
    "                    else:\n",
    "                        print(-1)\n",
    "                except:\n",
    "                    print(-1)\n",
    "            elif(a[2]=='GET_QTY'):\n",
    "                if(a[3]=='SHIRT'):\n",
    "                    print(q[0])\n",
    "                elif(a[3]=='SHOE'):\n",
    "                    print(q[1])\n",
    "                else:\n",
    "                    print(0)\n",
    "            elif(a[2]=='INCR'):\n",
    "                try:\n",
    "                    if(int(a[4])>0):\n",
    "                        if(a[3]=='SHIRT' and q[0]>0):\n",
    "                            q[0]=q[0]+int(a[4])\n",
    "                            print(a[4])\n",
    "                        elif(a[3]=='SHOE' and q[1]>0):\n",
    "                            q[1]=q[1]+int(a[4])\n",
    "                            print(a[4])\n",
    "                        else:\n",
    "                            print(-1)\n",
    "                    else:\n",
    "                        print(-1)\n",
    "                except:\n",
    "                    print(-1)\n",
    "            elif(a[2]=='DCR'):\n",
    "                try:\n",
    "                    n=int(a[4])\n",
    "                    if(n>0):\n",
    "                        if(a[3]=='SHIRT' and q[0]>0):\n",
    "                            if(n<=q[0]):\n",
    "                                q[0]=q[0]-n\n",
    "                                print(a[4])\n",
    "                            else:\n",
    "                                q[0]=0\n",
    "                                print(-1)\n",
    "                        elif(a[3]=='SHOE' and q[1]>0):\n",
    "                            if(n<=q[1]):\n",
    "                                q[1]=q[1]-n\n",
    "                                print(a[4])\n",
    "                            else:\n",
    "                                q[1]=0\n",
    "                                print(-1)\n",
    "                        else:\n",
    "                            print(-1)\n",
    "                    else:\n",
    "                        print(-1)\n",
    "                except:\n",
    "                    print(-1)\n",
    "            elif(a[2]=='SET_COST'):\n",
    "                try:\n",
    "                    if(a[3]=='SHIRT'):\n",
    "                        c[0]=float(a[4])\n",
    "                        print('{:.1f}'.format(c[0]))\n",
    "                    elif(a[3]=='SHOE'):\n",
    "                        c[1]=float(a[4])\n",
    "                        print('{:.1f}'.format(c[1]))\n",
    "                    else:\n",
    "                        print(-1)\n",
    "                except:\n",
    "                    print(-1)\n",
    "        if(a[1]=='S'):\n",
    "            if(a[2]=='ADD'):\n",
    "                try:\n",
    "                    if(int(a[4])>0):\n",
    "                        if(a[3]=='SHIRT' and q1[0]==0):\n",
    "                            q1[0]=int(a[4])\n",
    "                            print(q1[0])\n",
    "                        elif(a[3]=='SHOE' and q1[1]==0):\n",
    "                            q1[1]=int(a[4])\n",
    "                            print(q1[1])\n",
    "                        else:\n",
    "                            print(-1)\n",
    "                    else:\n",
    "                        print(-1)\n",
    "                except:\n",
    "                    print(-1)\n",
    "            elif(a[2]=='REMOVE'):\n",
    "                try:\n",
    "                    if(a[3]=='SHIRT'):\n",
    "                        if(q1[0]<=0):\n",
    "                            q1[0]=0\n",
    "                            print(-1)\n",
    "                        else:\n",
    "                            q1[0]=0\n",
    "                            print(1)\n",
    "                    elif(a[3]=='SHOE'):\n",
    "                        if(q1[1]<=0):\n",
    "                            q1[1]=0\n",
    "                            print(-1)\n",
    "                        else:\n",
    "                            q1[1]=0\n",
    "                            print(1)\n",
    "                    else:\n",
    "                        print(-1)\n",
    "                except:\n",
    "                    print(-1)\n",
    "            elif(a[2]=='INCR'):\n",
    "                try:\n",
    "                    if(int(a[4])>0):\n",
    "                        if(a[3]=='SHIRT' and q1[0]>0):\n",
    "                            q1[0]=q1[0]+int(a[4])\n",
    "                            print(a[4])\n",
    "                        elif(a[3]=='SHOE' and q1[1]>0):\n",
    "                            q1[1]=q1[1]+int(a[4])\n",
    "                            print(a[4])\n",
    "                        else:\n",
    "                            print(-1)\n",
    "                    else:\n",
    "                        print(-1)\n",
    "                except:\n",
    "                    print(-1)\n",
    "            elif(a[2]=='DCR'):\n",
    "                try:\n",
    "                    n=int(a[4])\n",
    "                    if(n>0):\n",
    "                        if(a[3]=='SHIRT' and q1[0]>0):\n",
    "                            if(n<=q1[0]):\n",
    "                                q1[0]=q1[0]-n\n",
    "                                print(a[4])\n",
    "                            else:\n",
    "                                q1[0]=0\n",
    "                                print(-1)\n",
    "                        elif(a[3]=='SHOE' and q1[1]>0):\n",
    "                            if(n<=q1[1]):\n",
    "                                q1[1]=q1[1]-n\n",
    "                                print(a[4])\n",
    "                            else:\n",
    "                                q1[1]=0\n",
    "                                print(-1)\n",
    "                        else:\n",
    "                            print(-1)\n",
    "                    else:\n",
    "                        print(-1)\n",
    "                except:\n",
    "                    print(-1)\n",
    "            elif(a[2]=='GET_ORDER_AMOUNT'):\n",
    "                try:\n",
    "                    s=(q1[0]*c[0]+q1[1]*c[1])\n",
    "                    print('{:.2f}'.format(s))\n",
    "                except:\n",
    "                    print(-1)\n",
    "    print()"
   ]
  },
  {
   "cell_type": "code",
   "execution_count": null,
   "metadata": {},
   "outputs": [],
   "source": []
  },
  {
   "cell_type": "code",
   "execution_count": 2,
   "metadata": {},
   "outputs": [
    {
     "data": {
      "text/plain": [
       "(1, 2, 3)"
      ]
     },
     "execution_count": 2,
     "metadata": {},
     "output_type": "execute_result"
    }
   ],
   "source": [
    "l=(1,2,3)\n",
    "l[0:3]"
   ]
  },
  {
   "cell_type": "code",
   "execution_count": 8,
   "metadata": {},
   "outputs": [
    {
     "data": {
      "text/plain": [
       "3"
      ]
     },
     "execution_count": 8,
     "metadata": {},
     "output_type": "execute_result"
    }
   ],
   "source": [
    "d={1:2,2:3,3:4}\n",
    "d[2]"
   ]
  },
  {
   "cell_type": "code",
   "execution_count": 7,
   "metadata": {},
   "outputs": [
    {
     "data": {
      "text/plain": [
       "(1, 2, 3, 4, 5)"
      ]
     },
     "execution_count": 7,
     "metadata": {},
     "output_type": "execute_result"
    }
   ],
   "source": [
    "s={1,2,3,4,5}\n",
    "s"
   ]
  },
  {
   "cell_type": "code",
   "execution_count": 2,
   "metadata": {},
   "outputs": [
    {
     "name": "stdout",
     "output_type": "stream",
     "text": [
      "1 2 3 4 5 6\n"
     ]
    }
   ],
   "source": [
    "l=[int(n) for n in input().split()]"
   ]
  },
  {
   "cell_type": "code",
   "execution_count": 3,
   "metadata": {},
   "outputs": [
    {
     "ename": "IndexError",
     "evalue": "list index out of range",
     "output_type": "error",
     "traceback": [
      "\u001b[1;31m---------------------------------------------------------------------------\u001b[0m",
      "\u001b[1;31mIndexError\u001b[0m                                Traceback (most recent call last)",
      "\u001b[1;32m<ipython-input-3-cb842cca7e42>\u001b[0m in \u001b[0;36m<module>\u001b[1;34m\u001b[0m\n\u001b[1;32m----> 1\u001b[1;33m \u001b[0ml\u001b[0m\u001b[1;33m[\u001b[0m\u001b[1;36m6\u001b[0m\u001b[1;33m]\u001b[0m\u001b[1;33m\u001b[0m\u001b[1;33m\u001b[0m\u001b[0m\n\u001b[0m",
      "\u001b[1;31mIndexError\u001b[0m: list index out of range"
     ]
    }
   ],
   "source": [
    "l[6]"
   ]
  },
  {
   "cell_type": "code",
   "execution_count": 12,
   "metadata": {},
   "outputs": [
    {
     "data": {
      "text/plain": [
       "[1, 2, 3, 4, 5, 6, 7, 8, 9, 10]"
      ]
     },
     "execution_count": 12,
     "metadata": {},
     "output_type": "execute_result"
    }
   ],
   "source": [
    "l=list(range(1,11))\n",
    "l"
   ]
  },
  {
   "cell_type": "code",
   "execution_count": 2,
   "metadata": {},
   "outputs": [
    {
     "ename": "ModuleNotFoundError",
     "evalue": "No module named 'dlib'",
     "output_type": "error",
     "traceback": [
      "\u001b[1;31m---------------------------------------------------------------------------\u001b[0m",
      "\u001b[1;31mModuleNotFoundError\u001b[0m                       Traceback (most recent call last)",
      "\u001b[1;32m<ipython-input-2-d25f48e861da>\u001b[0m in \u001b[0;36m<module>\u001b[1;34m\u001b[0m\n\u001b[1;32m----> 1\u001b[1;33m \u001b[1;32mimport\u001b[0m \u001b[0mdlib\u001b[0m\u001b[1;33m\u001b[0m\u001b[1;33m\u001b[0m\u001b[0m\n\u001b[0m",
      "\u001b[1;31mModuleNotFoundError\u001b[0m: No module named 'dlib'"
     ]
    }
   ],
   "source": [
    "import dlib"
   ]
  },
  {
   "cell_type": "code",
   "execution_count": null,
   "metadata": {},
   "outputs": [],
   "source": [
    "s={1:\"We're in engineering, not in school\",2:\"Sir told they'll give marks based on this}"
   ]
  },
  {
   "cell_type": "code",
   "execution_count": null,
   "metadata": {},
   "outputs": [],
   "source": [
    "circum,are,rect,peri,(a+b)**2"
   ]
  },
  {
   "cell_type": "code",
   "execution_count": 29,
   "metadata": {},
   "outputs": [
    {
     "name": "stdout",
     "output_type": "stream",
     "text": [
      "kvsjabaiohas\n",
      "3\n"
     ]
    }
   ],
   "source": [
    "a=input()\n",
    "n=len(a)\n",
    "c=1\n",
    "s=0\n",
    "l=0\n",
    "h=0\n",
    "for i in range(1,n):\n",
    "    l=i-1\n",
    "    h=i\n",
    "    while((l>=0 and h<n) and a[l]==a[h]):\n",
    "        if(h-l>c-1):\n",
    "            s=l\n",
    "            c=h-l+1\n",
    "        l=l-1\n",
    "        h=h+1\n",
    "    l=i-1\n",
    "    h=i+1\n",
    "    while((l>=0 and h<n) and a[l]==a[h]):\n",
    "        if(h-l>c-1):\n",
    "            s=l\n",
    "            c=h-l+1\n",
    "        l=l-1\n",
    "        h=h+1\n",
    "print(c)"
   ]
  },
  {
   "cell_type": "code",
   "execution_count": null,
   "metadata": {},
   "outputs": [],
   "source": [
    "def longestPalSubstr(string): \n",
    "\tmaxLength = 1\n",
    "\n",
    "\tstart = 0\n",
    "\tlength = len(string) \n",
    "\n",
    "\tlow = 0\n",
    "\thigh = 0\n",
    "\n",
    "\t# One by one consider every character as center point of \n",
    "\t# even and length palindromes \n",
    "\tfor i in xrange(1, length): \n",
    "\t\t# Find the longest even length palindrome with center \n",
    "\t# points as i-1 and i. \n",
    "\t\tlow = i - 1\n",
    "\t\thigh = i \n",
    "\t\twhile low >= 0 and high < length and string[low] == string[high]: \n",
    "\t\t\tif high - low + 1 > maxLength: \n",
    "\t\t\t\tstart = low \n",
    "\t\t\t\tmaxLength = high - low + 1\n",
    "\t\t\tlow -= 1\n",
    "\t\t\thigh += 1\n",
    "\n",
    "\t\t# Find the longest odd length palindrome with center \n",
    "\t\t# point as i \n",
    "\t\tlow = i - 1\n",
    "\t\thigh = i + 1\n",
    "\t\twhile low >= 0 and high < length and string[low] == string[high]: \n",
    "\t\t\tif high - low + 1 > maxLength: \n",
    "\t\t\t\tstart = low \n",
    "\t\t\t\tmaxLength = high - low + 1\n",
    "\t\t\tlow -= 1\n",
    "\t\t\thigh += 1\n",
    "\n",
    "\tprint \"Longest palindrome substring is:\", \n",
    "\tprint string[start:start + maxLength] \n",
    "\n",
    "\treturn maxLength \n",
    "\n",
    "# Driver program to test above functions \n",
    "string = \"forgeeksskeegfor\"\n",
    "print \"Length is: \" + str(longestPalSubstr(string)) \n",
    "\n",
    "# This code is contributed by BHAVYA JAIN \n",
    "\n"
   ]
  },
  {
   "cell_type": "code",
   "execution_count": 43,
   "metadata": {},
   "outputs": [
    {
     "name": "stdout",
     "output_type": "stream",
     "text": [
      "6\n",
      "1\n",
      "2\n"
     ]
    }
   ],
   "source": [
    "x=int(input())\n",
    "y=int(input())\n",
    "n=x//2\n",
    "c=n if(x%2==0) else n+1\n",
    "if(y>=n):\n",
    "    print(x-c+1)\n",
    "else:\n",
    "    print(y+1)"
   ]
  },
  {
   "cell_type": "code",
   "execution_count": 39,
   "metadata": {},
   "outputs": [
    {
     "data": {
      "text/plain": [
       "3"
      ]
     },
     "execution_count": 39,
     "metadata": {},
     "output_type": "execute_result"
    }
   ],
   "source": [
    "c"
   ]
  },
  {
   "cell_type": "code",
   "execution_count": 44,
   "metadata": {},
   "outputs": [],
   "source": [
    "from functools import reduce\n",
    "def factors(n):    \n",
    "    return list(set(reduce(list.__add__, \n",
    "                ([i, n//i] for i in range(1, int(n**0.5) + 1) if n % i == 0))))"
   ]
  },
  {
   "cell_type": "code",
   "execution_count": 46,
   "metadata": {},
   "outputs": [
    {
     "data": {
      "text/plain": [
       "{1, 2, 4}"
      ]
     },
     "execution_count": 46,
     "metadata": {},
     "output_type": "execute_result"
    }
   ],
   "source": [
    "n=in"
   ]
  },
  {
   "cell_type": "code",
   "execution_count": 10,
   "metadata": {},
   "outputs": [],
   "source": [
    "l=[1,2,5,3,4,2,5,7,8,2,1]\n",
    "s1=l.index(2)\n",
    "s2=l.index(2,s1+1)\n",
    "s3=l.index(2,s2+1)"
   ]
  },
  {
   "cell_type": "code",
   "execution_count": 9,
   "metadata": {},
   "outputs": [
    {
     "data": {
      "text/plain": [
       "5"
      ]
     },
     "execution_count": 9,
     "metadata": {},
     "output_type": "execute_result"
    }
   ],
   "source": [
    "l.index(2,l.index(2)+1)"
   ]
  },
  {
   "cell_type": "code",
   "execution_count": 14,
   "metadata": {},
   "outputs": [
    {
     "name": "stdout",
     "output_type": "stream",
     "text": [
      "1 5 9\n"
     ]
    }
   ],
   "source": [
    "print(s1,s2,s3)"
   ]
  },
  {
   "cell_type": "code",
   "execution_count": 15,
   "metadata": {
    "collapsed": true
   },
   "outputs": [
    {
     "data": {
      "text/plain": [
       "[1,\n",
       " 3,\n",
       " 5,\n",
       " 7,\n",
       " 9,\n",
       " 11,\n",
       " 13,\n",
       " 15,\n",
       " 17,\n",
       " 19,\n",
       " 21,\n",
       " 23,\n",
       " 25,\n",
       " 27,\n",
       " 29,\n",
       " 31,\n",
       " 33,\n",
       " 35,\n",
       " 37,\n",
       " 39,\n",
       " 41,\n",
       " 43,\n",
       " 45,\n",
       " 47,\n",
       " 49,\n",
       " 51,\n",
       " 53,\n",
       " 55,\n",
       " 57,\n",
       " 59,\n",
       " 61,\n",
       " 63,\n",
       " 65,\n",
       " 67,\n",
       " 69,\n",
       " 71,\n",
       " 73,\n",
       " 75,\n",
       " 77,\n",
       " 79,\n",
       " 81,\n",
       " 83,\n",
       " 85,\n",
       " 87,\n",
       " 89,\n",
       " 91,\n",
       " 93,\n",
       " 95,\n",
       " 97,\n",
       " 99]"
      ]
     },
     "execution_count": 15,
     "metadata": {},
     "output_type": "execute_result"
    }
   ],
   "source": [
    "list(range(1,101,2))"
   ]
  },
  {
   "cell_type": "code",
   "execution_count": 16,
   "metadata": {
    "collapsed": true
   },
   "outputs": [
    {
     "data": {
      "text/plain": [
       "[2,\n",
       " 4,\n",
       " 6,\n",
       " 8,\n",
       " 10,\n",
       " 12,\n",
       " 14,\n",
       " 16,\n",
       " 18,\n",
       " 20,\n",
       " 22,\n",
       " 24,\n",
       " 26,\n",
       " 28,\n",
       " 30,\n",
       " 32,\n",
       " 34,\n",
       " 36,\n",
       " 38,\n",
       " 40,\n",
       " 42,\n",
       " 44,\n",
       " 46,\n",
       " 48,\n",
       " 50,\n",
       " 52,\n",
       " 54,\n",
       " 56,\n",
       " 58,\n",
       " 60,\n",
       " 62,\n",
       " 64,\n",
       " 66,\n",
       " 68,\n",
       " 70,\n",
       " 72,\n",
       " 74,\n",
       " 76,\n",
       " 78,\n",
       " 80,\n",
       " 82,\n",
       " 84,\n",
       " 86,\n",
       " 88,\n",
       " 90,\n",
       " 92,\n",
       " 94,\n",
       " 96,\n",
       " 98,\n",
       " 100]"
      ]
     },
     "execution_count": 16,
     "metadata": {},
     "output_type": "execute_result"
    }
   ],
   "source": [
    "list(range(2,101,2))"
   ]
  },
  {
   "cell_type": "code",
   "execution_count": 1,
   "metadata": {},
   "outputs": [
    {
     "name": "stdout",
     "output_type": "stream",
     "text": [
      "p prasad\n",
      "r prasad\n",
      "a prasad\n",
      "s prasad\n",
      "a prasad\n",
      "d prasad\n"
     ]
    }
   ],
   "source": [
    "c='prasad'\n",
    "for i in range(len(c)):\n",
    "    print(c[i]+' '+c)"
   ]
  },
  {
   "cell_type": "code",
   "execution_count": 8,
   "metadata": {},
   "outputs": [
    {
     "data": {
      "text/plain": [
       "[1, 2]"
      ]
     },
     "execution_count": 8,
     "metadata": {},
     "output_type": "execute_result"
    }
   ],
   "source": [
    "l=[1,2,3]\n",
    "l.pop()\n",
    "l"
   ]
  },
  {
   "cell_type": "code",
   "execution_count": 1,
   "metadata": {},
   "outputs": [
    {
     "name": "stdout",
     "output_type": "stream",
     "text": [
      "Enter height of stack9\n"
     ]
    }
   ],
   "source": [
    "n=int(input('Enter height of stack'))\n",
    "l=[]\n",
    "def ins(a):\n",
    "    if(len(l)>n):\n",
    "        print(\"Overflow\")\n",
    "        return\n",
    "    else:\n",
    "        l.append(a)\n",
    "    return\n",
    "def pops():\n",
    "    if(len(l)<=0):\n",
    "        print(\"Underflow\")\n",
    "        return\n",
    "    else:\n",
    "        l.pop()\n",
    "    return"
   ]
  },
  {
   "cell_type": "code",
   "execution_count": 2,
   "metadata": {},
   "outputs": [],
   "source": [
    "ins(5)"
   ]
  },
  {
   "cell_type": "code",
   "execution_count": 3,
   "metadata": {},
   "outputs": [],
   "source": [
    "ins(4)"
   ]
  },
  {
   "cell_type": "code",
   "execution_count": 8,
   "metadata": {},
   "outputs": [
    {
     "data": {
      "text/plain": [
       "[5, 4]"
      ]
     },
     "execution_count": 8,
     "metadata": {},
     "output_type": "execute_result"
    }
   ],
   "source": [
    "l"
   ]
  },
  {
   "cell_type": "code",
   "execution_count": 9,
   "metadata": {},
   "outputs": [],
   "source": [
    "pops()"
   ]
  },
  {
   "cell_type": "code",
   "execution_count": 10,
   "metadata": {},
   "outputs": [],
   "source": [
    "pops()"
   ]
  },
  {
   "cell_type": "code",
   "execution_count": 11,
   "metadata": {},
   "outputs": [
    {
     "name": "stdout",
     "output_type": "stream",
     "text": [
      "Underflow\n"
     ]
    }
   ],
   "source": [
    "pops()"
   ]
  },
  {
   "cell_type": "code",
   "execution_count": 12,
   "metadata": {},
   "outputs": [
    {
     "data": {
      "text/plain": [
       "('B', 'a', 'a', 'h', 'u', 'b', 'a', 'l', 'i')"
      ]
     },
     "execution_count": 12,
     "metadata": {},
     "output_type": "execute_result"
    }
   ],
   "source": [
    "t=tuple('Baahubali')"
   ]
  },
  {
   "cell_type": "code",
   "execution_count": 14,
   "metadata": {},
   "outputs": [],
   "source": [
    "t=(1,2,3,[4,5])"
   ]
  },
  {
   "cell_type": "code",
   "execution_count": 15,
   "metadata": {},
   "outputs": [
    {
     "data": {
      "text/plain": [
       "(1, 2, 3, [4, 5])"
      ]
     },
     "execution_count": 15,
     "metadata": {},
     "output_type": "execute_result"
    }
   ],
   "source": [
    "t"
   ]
  },
  {
   "cell_type": "code",
   "execution_count": 18,
   "metadata": {},
   "outputs": [],
   "source": [
    "t[3][0]=3"
   ]
  },
  {
   "cell_type": "code",
   "execution_count": 21,
   "metadata": {},
   "outputs": [
    {
     "ename": "TypeError",
     "evalue": "'tuple' object does not support item assignment",
     "output_type": "error",
     "traceback": [
      "\u001b[1;31m---------------------------------------------------------------------------\u001b[0m",
      "\u001b[1;31mTypeError\u001b[0m                                 Traceback (most recent call last)",
      "\u001b[1;32m<ipython-input-21-44771c733f2d>\u001b[0m in \u001b[0;36m<module>\u001b[1;34m\u001b[0m\n\u001b[1;32m----> 1\u001b[1;33m \u001b[0mt\u001b[0m\u001b[1;33m[\u001b[0m\u001b[1;36m3\u001b[0m\u001b[1;33m]\u001b[0m\u001b[1;33m=\u001b[0m\u001b[1;36m4\u001b[0m\u001b[1;33m\u001b[0m\u001b[1;33m\u001b[0m\u001b[0m\n\u001b[0m",
      "\u001b[1;31mTypeError\u001b[0m: 'tuple' object does not support item assignment"
     ]
    }
   ],
   "source": [
    "t[3]=4"
   ]
  },
  {
   "cell_type": "code",
   "execution_count": 3,
   "metadata": {},
   "outputs": [
    {
     "name": "stdout",
     "output_type": "stream",
     "text": [
      "#\n",
      "##\n",
      "###\n",
      "####\n"
     ]
    }
   ],
   "source": [
    "n=5\n",
    "m=4\n",
    "c='#'\n",
    "for i in range(m):\n",
    "    print(c*(i+1))"
   ]
  },
  {
   "cell_type": "code",
   "execution_count": 9,
   "metadata": {},
   "outputs": [
    {
     "name": "stdout",
     "output_type": "stream",
     "text": [
      "jvjd\n",
      "jbdk\n",
      "jvjd jbdk\n"
     ]
    }
   ],
   "source": [
    "a='0'\n",
    "b='0'\n",
    "def lo():\n",
    "    x=input()\n",
    "    global a\n",
    "    a=x\n",
    "    y=input()\n",
    "    global b\n",
    "    b=y\n",
    "    return\n",
    "def re():\n",
    "    x=input()\n",
    "    global a\n",
    "    a=x\n",
    "    y=input()\n",
    "    global b\n",
    "    b=y\n",
    "    return\n",
    "lo()\n",
    "print(a,b)"
   ]
  },
  {
   "cell_type": "code",
   "execution_count": 2,
   "metadata": {},
   "outputs": [
    {
     "name": "stdout",
     "output_type": "stream",
     "text": [
      "prasad\n",
      "jv\n"
     ]
    }
   ],
   "source": [
    "lo()"
   ]
  },
  {
   "cell_type": "code",
   "execution_count": 3,
   "metadata": {},
   "outputs": [
    {
     "name": "stdout",
     "output_type": "stream",
     "text": [
      "0 0\n"
     ]
    }
   ],
   "source": [
    "print(a,b)"
   ]
  },
  {
   "cell_type": "code",
   "execution_count": 6,
   "metadata": {},
   "outputs": [
    {
     "name": "stdout",
     "output_type": "stream",
     "text": [
      "Python is fantastic\n"
     ]
    }
   ],
   "source": [
    "x = \"awesome\"\n",
    "\n",
    "def myfunc():\n",
    "  global x\n",
    "  x = \"fantastic\"\n",
    "\n",
    "myfunc()\n",
    "\n",
    "print(\"Python is \" + x)"
   ]
  },
  {
   "cell_type": "code",
   "execution_count": null,
   "metadata": {},
   "outputs": [],
   "source": [
    "from tkinter import *\n",
    "import gspread\n",
    "from oauth2client.service_account import ServiceAccountCredentials\n",
    "user1 = \"1\"\n",
    "password1 = \"0\"\n",
    "scope = ['https://spreadsheets.google.com/feeds',\n",
    "         'https://www.googleapis.com/auth/drive']\n",
    "creds = ServiceAccountCredentials.from_json_keyfile_name('LocoTrackinator.json', scope)\n",
    "client = gspread.authorize(creds)\n",
    "sheet = client.open(\"LocoTrackinator\").sheet1\n",
    "\n",
    "#Login_Process\n",
    "def Login():\n",
    "    Log=Tk()\n",
    "    z=sheet.get_all_values()\n",
    "    A=user1\n",
    "    B=password1\n",
    "    print(A,B)\n",
    "    flg1=0\n",
    "    c=0\n",
    "    for i in z:\n",
    "        c=c+1\n",
    "        if A==i[0]:\n",
    "            flg1=1\n",
    "            break\n",
    "    if flg1==1 and B==z[c-1][1]:\n",
    "        Label(Log,text=\"Welcome \"+A+\" to LocoTrackinator\").pack()\n",
    "    if flg1==0:\n",
    "        Label(Log,text=\"Wrong Username\"+A+B).pack()\n",
    "    if flg1==1 and B!=z[c-1][1]:\n",
    "        Label(Log,text=\"Wrong Password\"+A+B).pack()\n",
    "#Login_Land\n",
    "def my_login():\n",
    "    login=Tk()\n",
    "    a=Label(login,text=\"Username:\").grid(row=0,column=0)\n",
    "    b=Label(login,text=\"Password:\").grid(row=1,column=0)\n",
    "    A=Entry(login)\n",
    "    global user1\n",
    "    user1=A.get()\n",
    "    A.grid(row=0,column=1)\n",
    "    B=Entry(login)\n",
    "    global password1\n",
    "    password1=B.get()\n",
    "    B.grid(row=1,column=1)\n",
    "    Button(login,text=\"login\",command=Login).grid(row=3,column=1)\n",
    "    login.mainloop()\n",
    "\n",
    "#main\n",
    "\n",
    "Loco=Tk()\n",
    "Button(Loco,text=\"Login\",command=my_login).grid(row=0)\n",
    "Button(Loco,text=\"Register\",command=my_register).grid(row=1)\n",
    "Loco.mainloop()"
   ]
  },
  {
   "cell_type": "code",
   "execution_count": null,
   "metadata": {},
   "outputs": [],
   "source": [
    "from tkinter import *\n",
    "from PIL import ImageTk,Image\n",
    "\n",
    "root = Tk()\n",
    "root.title('Learn To Code at Codemy.com')\n",
    "root.iconbitmap('Ki.ico')\n",
    "\n",
    "#r = IntVar()\n",
    "#r.set(\"2\")\n",
    "\n",
    "TOPPINGS = [\n",
    "  (\"Pepperoni\", \"Pepperoni\"),\n",
    "  (\"Cheese\", \"Cheese\"),\n",
    "  (\"Mushroom\", \"Mushroom\"),\n",
    "  (\"Onion\", \"Onion\"),\n",
    "]\n",
    "\n",
    "pizza = StringVar()\n",
    "pizza.set(\"Pepperoni\")\n",
    "\n",
    "for text, topping in TOPPINGS:\n",
    "    Radiobutton(root, text=text, variable=pizza, value=topping).pack(anchor=W)\n",
    "\n",
    "\n",
    "def clicked(value):\n",
    "    myLabel = Label(root, text=value)\n",
    "    myLabel.pack()  \n",
    "\n",
    "#Radiobutton(root, text=\"Option 1\", variable=r, value=1, command=lambda: clicked(r.get())).pack()\n",
    "#Radiobutton(root, text=\"Option 2\", variable=r, value=2, command=lambda: clicked(r.get())).pack()\n",
    "\n",
    "#myLabel = Label(root, text=pizza.get())\n",
    "#myLabel.pack()\n",
    "\n",
    "myButton = Button(root, text=\"Click Me!\", command=lambda: clicked(pizza.get()))\n",
    "myButton.pack()\n",
    "mainloop()"
   ]
  },
  {
   "cell_type": "code",
   "execution_count": 12,
   "metadata": {},
   "outputs": [],
   "source": [
    "import tkinter.filedialog\n",
    "%gui tk\n",
    "my_file = tkinter.filedialog.askopenfilename()\n",
    "from tkinter import *\n",
    "\n",
    "master = Tk()\n",
    "Label(master, text=\"First Name\").grid(row=0)\n",
    "Label(master, text=\"Last Name\").grid(row=1)\n",
    "\n",
    "e1 = Entry(master)\n",
    "e2 = Entry(master)\n",
    "\n",
    "e1.grid(row=0, column=1)\n",
    "e2.grid(row=1, column=1)\n",
    "\n",
    "mainloop( )"
   ]
  },
  {
   "cell_type": "code",
   "execution_count": null,
   "metadata": {},
   "outputs": [],
   "source": [
    "from tkinter import *\n",
    "import gspread\n",
    "from oauth2client.service_account import ServiceAccountCredentials\n",
    "scope = ['https://spreadsheets.google.com/feeds',\n",
    "         'https://www.googleapis.com/auth/drive']\n",
    "creds = ServiceAccountCredentials.from_json_keyfile_name('LocoTrackinator.json', scope)\n",
    "client = gspread.authorize(creds)\n",
    "sheet = client.open(\"LocoTrackinator\").sheet1\n",
    "sheet2 = client.open(\"LocoTrackinator\").worksheet(\"Sheet2\")\n",
    "#Searching Database\n",
    "def Searching():\n",
    "    root = Tk()\n",
    "    Z=sheet2.get_all_values()\n",
    "    root.title('LocoTrackinator ---> Start Searching !!')\n",
    "    root.iconbitmap('Ki.ico')\n",
    "    Faculty = [\n",
    "        (\"Koro-Sensei\", \"Koro-Sensei\"),\n",
    "        (\"Timon\", \"Timon\"),\n",
    "        (\"Cappy\", \"Cappy\"),\n",
    "    ]\n",
    "\n",
    "    faculty = StringVar()\n",
    "    faculty.set(\"Koro-Sensei\")\n",
    "\n",
    "    for text, selected in Faculty:\n",
    "        Radiobutton(root, text=text, variable=faculty, value=selected).pack(anchor=W)\n",
    "    A=faculty.get()\n",
    "\n",
    "    def clicked(value):\n",
    "        flg1=0\n",
    "        c=0\n",
    "        for i in Z:\n",
    "            c=c+1\n",
    "            if value==i[0]:\n",
    "                flg1=1\n",
    "                break\n",
    "        myLabel = Label(root, text=Z[c-1][1])\n",
    "        myLabel.pack()\n",
    "        A=faculty.get()\n",
    "    myButton = Button(root, text=\"Search\", command=lambda: clicked(A))\n",
    "    myButton.pack()\n",
    "    mainloop()\n",
    "    \n",
    "\n",
    "\n",
    "#Login_Land\n",
    "def my_login():\n",
    "    login=Tk()\n",
    "    z=sheet.get_all_values()\n",
    "    def Login():\n",
    "    #Login_Process\n",
    "        user=A.get()\n",
    "        password=B.get()\n",
    "        flg1=0\n",
    "        c=0\n",
    "        for i in z:\n",
    "            c=c+1\n",
    "            if user==i[0]:\n",
    "                flg1=1\n",
    "                break\n",
    "        if flg1==1 and password==z[c-1][1]:\n",
    "            Label(login,text=\"Welcome \"+user+\" to LocoTrackinator\").grid(row=5,column=5)\n",
    "            #Condition for Searching Database\n",
    "            Searching()\n",
    "        if flg1==0:\n",
    "            Label(login,text=\"Wrong Username\"+user+password).grid(row=5,column=5)\n",
    "        if flg1==1 and password!=z[c-1][1]:\n",
    "            Label(login,text=\"Wrong Password\"+user+password).grid(row=5,column=5)\n",
    "    a=Label(login,text=\"Username:\").grid(row=0,column=0)\n",
    "    b=Label(login,text=\"Password:\").grid(row=1,column=0)\n",
    "    A=Entry(login)\n",
    "    user=A.get()\n",
    "    A.grid(row=0,column=1)\n",
    "    B=Entry(login)\n",
    "    B.grid(row=1,column=1)\n",
    "    password=B.get()\n",
    "    \n",
    "    Button(login,text=\"login\",command=Login).grid(row=3,column=1)\n",
    "    \n",
    "    login.mainloop()\n",
    "\n",
    "#Register_Land\n",
    "def my_register():\n",
    "    Register=Tk()\n",
    "    def Signup():\n",
    "        z=sheet.get_all_values()\n",
    "        A = user.get()\n",
    "        B = password.get()\n",
    "        for i in z:\n",
    "            if A==i[0]:\n",
    "                flg1=1\n",
    "                print(\"User already Exists\")\n",
    "                exit(0)\n",
    "        usr=[A,B]\n",
    "        sheet.insert_row(usr,len(sheet.col_values(1))+1)\n",
    "        Label(Register,text=\"User created Successfully:\").grid(row=3,column=1)\n",
    "        user.delete(0, END)\n",
    "        password.delete(0, END)\n",
    "    a=Label(Register,text=\"Username:\").grid(row=0,column=0)\n",
    "    b=Label(Register,text=\"Password:\").grid(row=1,column=0)\n",
    "    user=Entry(Register)\n",
    "    user.grid(row=0,column=1)\n",
    "    password=Entry(Register)\n",
    "    password.grid(row=1,column=1)\n",
    "    Button(Register,text=\"Register\",command=Signup).grid(row=3,column=1)\n",
    "    Register.mainloop()\n",
    "\n",
    "\n",
    "#main\n",
    "\n",
    "Loco=Tk()\n",
    "Button(Loco,text=\"Login\",command=my_login).grid(row=0)\n",
    "Button(Loco,text=\"Register\",command=my_register).grid(row=1)\n",
    "Loco.mainloop()"
   ]
  },
  {
   "cell_type": "code",
   "execution_count": 1,
   "metadata": {},
   "outputs": [
    {
     "name": "stdout",
     "output_type": "stream",
     "text": [
      "[0, 30, 60, 90]\n"
     ]
    }
   ],
   "source": [
    "l=[]\n",
    "for i in range(0,101):\n",
    "    if(i%5==0 and i%6==0):\n",
    "        l.append(i)\n",
    "print(l)"
   ]
  },
  {
   "cell_type": "code",
   "execution_count": 1,
   "metadata": {},
   "outputs": [
    {
     "data": {
      "text/plain": [
       "1"
      ]
     },
     "execution_count": 1,
     "metadata": {},
     "output_type": "execute_result"
    }
   ],
   "source": [
    "int(1)"
   ]
  },
  {
   "cell_type": "code",
   "execution_count": null,
   "metadata": {},
   "outputs": [],
   "source": [
    "Z=[['xas',1],['sa',2],['ads',3]]\n",
    "root = Tk()\n",
    "root.title('LocoTrackinator ---> Start Searching !!')\n",
    "#root.iconbitmap('Ki.png')\n",
    "Faculty = [\n",
    "\t(\"Koro-Sensei\", 1),\n",
    "\t(\"Timon\", 2),\n",
    "\t(\"Cappy\", 3),\n",
    "]\n",
    "\n",
    "faculty = StringVar()\n",
    "faculty.set(\"Koro-Sensei\")\n",
    "\n",
    "for text, selected in Faculty:\n",
    "\tRadiobutton(root, text=text, variable=faculty, value=selected).pack(anchor=W)\n",
    "\n",
    "\n",
    "def clicked(value):\n",
    "    myLabel = Label(root, text=Z[int(value)][1])\n",
    "    myLabel.pack()\n",
    "myButton = Button(root, text=\"Search\", command=lambda: clicked(faculty.get()))\n",
    "myButton.pack()\n",
    "root.mainloop()"
   ]
  },
  {
   "cell_type": "code",
   "execution_count": 6,
   "metadata": {},
   "outputs": [
    {
     "name": "stderr",
     "output_type": "stream",
     "text": [
      "Exception in Tkinter callback\n",
      "Traceback (most recent call last):\n",
      "  File \"G:\\AI\\Anaconda3\\lib\\tkinter\\__init__.py\", line 1705, in __call__\n",
      "    return self.func(*args)\n",
      "  File \"<ipython-input-6-5bb2593eb3ee>\", line 21, in Student\n",
      "    print(value)\n",
      "NameError: name 'value' is not defined\n"
     ]
    }
   ],
   "source": [
    "from tkinter import *\n",
    "Z=[['xas',1],['sa',2],['ads',3]]\n",
    "\n",
    "#Student\n",
    "def Student():\n",
    "    root = Tk()\n",
    "    root.title('LocoTrackinator ---> Start Searching !!')\n",
    "#root.iconbitmap('Ki.png')\n",
    "    Faculty = [\n",
    "    (\"Koro-Sensei\", 1),\n",
    "\t(\"Timon\", 2),\n",
    "\t(\"Cappy\", 3),]\n",
    "    x=IntVar()\n",
    "    x.set('Cappy')\n",
    "    for i in Faculty:\n",
    "        Radiobutton(root, text=i[0], variable=x, value=i[1]).pack(anchor=W)\n",
    "    def clicked(value):\n",
    "        myLabel = Label(root, text=Z[value][1])\n",
    "        myLabel.pack()\n",
    "    myButton = Button(root, text=\"Search\", command=lambda: clicked(x.get()))\n",
    "    print(value)\n",
    "    myButton.pack()\n",
    "    root.mainloop()\n",
    "\n",
    "\n",
    "\n",
    "#Main\n",
    "Loco=Tk()\n",
    "Button(Loco,text=\"Student\",command=Student).grid(row=0,column=0)\n",
    "Button(Loco,text=\"Login\").grid(row=0,column=1)\n",
    "Button(Loco,text=\"Register\").grid(row=0,column=2)\n",
    "Loco.mainloop()"
   ]
  },
  {
   "cell_type": "code",
   "execution_count": 7,
   "metadata": {},
   "outputs": [
    {
     "ename": "NameError",
     "evalue": "name 'x' is not defined",
     "output_type": "error",
     "traceback": [
      "\u001b[1;31m---------------------------------------------------------------------------\u001b[0m",
      "\u001b[1;31mNameError\u001b[0m                                 Traceback (most recent call last)",
      "\u001b[1;32m<ipython-input-7-6fcf9dfbd479>\u001b[0m in \u001b[0;36m<module>\u001b[1;34m\u001b[0m\n\u001b[1;32m----> 1\u001b[1;33m \u001b[0mx\u001b[0m\u001b[1;33m\u001b[0m\u001b[1;33m\u001b[0m\u001b[0m\n\u001b[0m",
      "\u001b[1;31mNameError\u001b[0m: name 'x' is not defined"
     ]
    }
   ],
   "source": [
    "x"
   ]
  },
  {
   "cell_type": "code",
   "execution_count": 8,
   "metadata": {},
   "outputs": [
    {
     "ename": "NameError",
     "evalue": "name 'value' is not defined",
     "output_type": "error",
     "traceback": [
      "\u001b[1;31m---------------------------------------------------------------------------\u001b[0m",
      "\u001b[1;31mNameError\u001b[0m                                 Traceback (most recent call last)",
      "\u001b[1;32m<ipython-input-8-2b3b7f6975d8>\u001b[0m in \u001b[0;36m<module>\u001b[1;34m\u001b[0m\n\u001b[1;32m----> 1\u001b[1;33m \u001b[0mvalue\u001b[0m\u001b[1;33m\u001b[0m\u001b[1;33m\u001b[0m\u001b[0m\n\u001b[0m",
      "\u001b[1;31mNameError\u001b[0m: name 'value' is not defined"
     ]
    }
   ],
   "source": [
    "value"
   ]
  },
  {
   "cell_type": "code",
   "execution_count": 5,
   "metadata": {},
   "outputs": [
    {
     "name": "stdout",
     "output_type": "stream",
     "text": [
      "0.5\n",
      "1\n",
      "1.5\n",
      "2\n",
      "2.5\n",
      "3\n",
      "3.5\n"
     ]
    }
   ],
   "source": [
    "from array import *\n",
    "v=array('f',[1,2,3,4,5,6,7])\n",
    "na=array(v.typecode,(a/2 for a in v))\n",
    "for i in na:\n",
    "    if(i*10%10==0):\n",
    "        print(int(i))\n",
    "    else:\n",
    "        print(i)"
   ]
  },
  {
   "cell_type": "code",
   "execution_count": 3,
   "metadata": {},
   "outputs": [
    {
     "ename": "SyntaxError",
     "evalue": "invalid character in identifier (<ipython-input-3-35fbd2183407>, line 6)",
     "output_type": "error",
     "traceback": [
      "\u001b[1;36m  File \u001b[1;32m\"<ipython-input-3-35fbd2183407>\"\u001b[1;36m, line \u001b[1;32m6\u001b[0m\n\u001b[1;33m    print(“Element found“)\u001b[0m\n\u001b[1;37m                 ^\u001b[0m\n\u001b[1;31mSyntaxError\u001b[0m\u001b[1;31m:\u001b[0m invalid character in identifier\n"
     ]
    }
   ],
   "source": [
    "l=list(map(int,input().split()))\n",
    "k=int(input())\n",
    "c=0\n",
    "for i in range(len(l)):\n",
    "    if(l[i]==k):\n",
    "        print(“Element found“)\n",
    "        c=0\n",
    "        break\n",
    "    else:\n",
    "        c=1\n",
    "if(c!=0):\n",
    "    print(“Element not found“)"
   ]
  },
  {
   "cell_type": "code",
   "execution_count": 3,
   "metadata": {},
   "outputs": [
    {
     "data": {
      "text/plain": [
       "9"
      ]
     },
     "execution_count": 3,
     "metadata": {},
     "output_type": "execute_result"
    }
   ],
   "source": [
    "int('09')"
   ]
  },
  {
   "cell_type": "code",
   "execution_count": 22,
   "metadata": {},
   "outputs": [
    {
     "name": "stdout",
     "output_type": "stream",
     "text": [
      "2020-08-02\n",
      "2020-08-10\n",
      "1\n"
     ]
    }
   ],
   "source": [
    "import datetime\n",
    "from datetime import date\n",
    "a=input().split('-')\n",
    "b=input().split('-')\n",
    "s=[\"January\",\"February\",\"March\",\"April\",\"May\",\"June\",\"July\",\"August\",\"September\",\"October\",\"November\",\"December\"]\n",
    "x=str(s[int(a[1])-1])+' '+str(a[2])+', '+str(a[0])\n",
    "y=str(s[int(b[1])-1])+' '+str(b[2])+', '+str(b[0])\n",
    "i=datetime.datetime.strptime(x, '%B %d, %Y').strftime('%A')\n",
    "j=datetime.datetime.strptime(y, '%B %d, %Y').strftime('%A')\n",
    "l=date(int(a[0]),int(a[1]),int(a[2]))\n",
    "m=date(int(b[0]),int(b[1]),int(b[2]))\n",
    "dts=(m-l).days\n",
    "dts=dts//7\n",
    "if(i=='Tuesday'):\n",
    "    dts=dts+1\n",
    "elif(j=='Tuesday'):\n",
    "    dts=dts+1\n",
    "print(dts)"
   ]
  },
  {
   "cell_type": "code",
   "execution_count": null,
   "metadata": {},
   "outputs": [],
   "source": [
    "datetime.datetime.strptime('January 11, 2010', '%B %d, %Y').strftime('%A')"
   ]
  },
  {
   "cell_type": "code",
   "execution_count": 19,
   "metadata": {},
   "outputs": [
    {
     "data": {
      "text/plain": [
       "-21"
      ]
     },
     "execution_count": 19,
     "metadata": {},
     "output_type": "execute_result"
    }
   ],
   "source": [
    "(l-m).days"
   ]
  },
  {
   "cell_type": "code",
   "execution_count": 8,
   "metadata": {},
   "outputs": [
    {
     "data": {
      "text/plain": [
       "'Saturday'"
      ]
     },
     "execution_count": 8,
     "metadata": {},
     "output_type": "execute_result"
    }
   ],
   "source": [
    "datetime.datetime.strptime(x, '%B %d, %Y').strftime('%A')"
   ]
  },
  {
   "cell_type": "code",
   "execution_count": 14,
   "metadata": {},
   "outputs": [
    {
     "data": {
      "text/plain": [
       "-0.8571428571428571"
      ]
     },
     "execution_count": 14,
     "metadata": {},
     "output_type": "execute_result"
    }
   ],
   "source": [
    "dts"
   ]
  },
  {
   "cell_type": "code",
   "execution_count": null,
   "metadata": {},
   "outputs": [],
   "source": [
    "F=k+ [(13*m-1)/5] +D+ [D/4] +[C/4]-2*C where\n",
    "\n",
    "k is  the day of the month.\n",
    "m is the month number.\n",
    "D is the last two digits of the year.\n",
    "C is the first two digits of the year.\n",
    "March is 1, April is 2….. January is 11 and February is 12.\n",
    "month=+10%12"
   ]
  },
  {
   "cell_type": "code",
   "execution_count": 27,
   "metadata": {},
   "outputs": [
    {
     "name": "stdout",
     "output_type": "stream",
     "text": [
      "2020-08-28\n"
     ]
    },
    {
     "data": {
      "text/plain": [
       "5"
      ]
     },
     "execution_count": 27,
     "metadata": {},
     "output_type": "execute_result"
    }
   ],
   "source": [
    "def da(a):\n",
    "    if(a[1]<3):\n",
    "        a[1]=a[1]-1\n",
    "    m=(a[1]+10)%12\n",
    "    if(m==0):\n",
    "        m=12\n",
    "    c=a[1]//100\n",
    "    d=a[1]%100\n",
    "    x=a[2]+((13*m-1)//5)+d+d//4+(c//4)-(2*c)\n",
    "    return (x+1)%7\n",
    "\n",
    "\n",
    "a=list(map(int,input().split('-')))\n",
    "b=list(map(int,input().split('-')))\n"
   ]
  },
  {
   "cell_type": "code",
   "execution_count": 12,
   "metadata": {},
   "outputs": [
    {
     "data": {
      "text/plain": [
       "5"
      ]
     },
     "execution_count": 12,
     "metadata": {},
     "output_type": "execute_result"
    }
   ],
   "source": [
    "class Date: \n",
    "    def __init__(self, d, m, y): \n",
    "        self.d = d\n",
    "        self.m = m \n",
    "        self.y = y \n",
    "\n",
    "monthDays = [31, 28, 31, 30, 31, 30, 31, 31, 30, 31, 30, 31 ] \n",
    "\n",
    "def countLeapYears(d): \n",
    "    years = d.y\n",
    "    if (d.m <= 2) : \n",
    "        years -= 1\n",
    "    return int(years / 4 - years / 100 +years / 400 ) \n",
    "\n",
    " \n",
    "def getDifference(dt1, dt2) : \n",
    "\n",
    "\n",
    "\tn1 = dt1.y * 365 + dt1.d \n",
    "\n",
    "\t# Add days for months in given date \n",
    "\tfor i in range(0, dt1.m - 1) : \n",
    "\t\tn1 += monthDays[i] \n",
    "\n",
    "\t# Since every leap year is of 366 days, \n",
    "\t# Add a day for every leap year \n",
    "\tn1 += countLeapYears(dt1) \n",
    "\n",
    "\t# SIMILARLY, COUNT TOTAL NUMBER \n",
    "\t# OF DAYS BEFORE 'dt2' \n",
    "\tn2 = dt2.y * 365 + dt2.d \n",
    "\tfor i in range(0, dt2.m - 1) : \n",
    "\t\tn2 += monthDays[i] \n",
    "\tn2 += countLeapYears(dt2) \n",
    "\n",
    "\n",
    "\treturn (n2 - n1) \n",
    "\n",
    "dt1 = Date(1, 2, 2000 ) \n",
    "dt2 = Date(1, 2, 2004 ) \n",
    "\n",
    "print(\"Difference between two dates is\", getDifference(dt1, dt2))"
   ]
  },
  {
   "cell_type": "code",
   "execution_count": 18,
   "metadata": {},
   "outputs": [
    {
     "data": {
      "text/plain": [
       "20"
      ]
     },
     "execution_count": 18,
     "metadata": {},
     "output_type": "execute_result"
    }
   ],
   "source": [
    "a=2021\n",
    "a//100"
   ]
  },
  {
   "cell_type": "code",
   "execution_count": null,
   "metadata": {},
   "outputs": [],
   "source": []
  },
  {
   "cell_type": "code",
   "execution_count": null,
   "metadata": {},
   "outputs": [],
   "source": []
  },
  {
   "cell_type": "code",
   "execution_count": null,
   "metadata": {},
   "outputs": [],
   "source": [
    "Write a Program to find minimum window in a given string which will contain all characters of another given string"
   ]
  },
  {
   "cell_type": "code",
   "execution_count": null,
   "metadata": {},
   "outputs": [],
   "source": [
    "no_of_chars = 256\n",
    "\n",
    "# Function to find smallest window \n",
    "# containing all characters of 'pat' \n",
    "def findSubString(string, pat): \n",
    "\n",
    "\tlen1 = len(string) \n",
    "\tlen2 = len(pat) \n",
    "\n",
    "\t# check if string's length is less than pattern's \n",
    "\t# length. If yes then no such window can exist \n",
    "\tif len1 < len2: \n",
    "\t\n",
    "\t\tprint(\"No such window exists\") \n",
    "\t\treturn \"\" \n",
    "\n",
    "\thash_pat = [0] * no_of_chars \n",
    "\thash_str = [0] * no_of_chars \n",
    "\n",
    "\t# store occurrence ofs characters of pattern \n",
    "\tfor i in range(0, len2): \n",
    "\t\thash_pat[ord(pat[i])] += 1\n",
    "\n",
    "\tstart, start_index, min_len = 0, -1, float('inf') \n",
    "\n",
    "\t# start traversing the string \n",
    "\tcount = 0 # count of characters \n",
    "\tfor j in range(0, len1): \n",
    "\t\n",
    "\t\t# count occurrence of characters of string \n",
    "\t\thash_str[ord(string[j])] += 1\n",
    "\n",
    "\t\t# If string's char matches with \n",
    "\t\t# pattern's char then increment count \n",
    "\t\tif (hash_pat[ord(string[j])] != 0 and\n",
    "\t\t\thash_str[ord(string[j])] <=\n",
    "\t\t\thash_pat[ord(string[j])]): \n",
    "\t\t\tcount += 1\n",
    "\n",
    "\t\t# if all the characters are matched \n",
    "\t\tif count == len2: \n",
    "\t\t\n",
    "\t\t\t# Try to minimize the window i.e., check if \n",
    "\t\t\t# any character is occurring more no. of times \n",
    "\t\t\t# than its occurrence in pattern, if yes \n",
    "\t\t\t# then remove it from starting and also remove \n",
    "\t\t\t# the useless characters. \n",
    "\t\t\twhile (hash_str[ord(string[start])] > \n",
    "\t\t\t\thash_pat[ord(string[start])] or\n",
    "\t\t\t\thash_pat[ord(string[start])] == 0): \n",
    "\t\t\t\n",
    "\t\t\t\tif (hash_str[ord(string[start])] > \n",
    "\t\t\t\t\thash_pat[ord(string[start])]): \n",
    "\t\t\t\t\thash_str[ord(string[start])] -= 1\n",
    "\t\t\t\tstart += 1\n",
    "\t\t\t\n",
    "\t\t\t# update window size \n",
    "\t\t\tlen_window = j - start + 1\n",
    "\t\t\tif min_len > len_window: \n",
    "\t\t\t\n",
    "\t\t\t\tmin_len = len_window \n",
    "\t\t\t\tstart_index = start \n",
    "\n",
    "\t# If no window found \n",
    "\tif start_index == -1: \n",
    "\t\tprint(\"No such window exists\") \n",
    "\t\treturn \"\" \n",
    "\t\n",
    "\t# Return substring starting from \n",
    "\t# start_index and length min_len \n",
    "\treturn string[start_index : start_index + min_len] \n",
    "\n",
    "# Driver code \n",
    "if __name__ == \"__main__\": \n",
    "\n",
    "\tstring = \"this is a test string\"\n",
    "\tpat = \"tist\"\n",
    "\n",
    "\tprint(\"Smallest window is : \") \n",
    "\tprint(findSubString(string, pat)) \n",
    "\t\n",
    "# This code is contributed by Rituraj Jain \n"
   ]
  },
  {
   "cell_type": "code",
   "execution_count": 61,
   "metadata": {},
   "outputs": [
    {
     "name": "stdout",
     "output_type": "stream",
     "text": [
      "this is a test string\n",
      "tist\n",
      "min window size is:6\n",
      "slice is t stri\n"
     ]
    }
   ],
   "source": [
    "a=input()\n",
    "b=input()\n",
    "c=1\n",
    "for i in range(len(a)):\n",
    "    for j in range(len(a)-i):\n",
    "        s=''\n",
    "        for k in range(j,i+j+1):\n",
    "            s=s+a[k]\n",
    "        if(ck(list(s),list(b))):\n",
    "            print(\"min window size is:\"+str(len(s)))\n",
    "            print(\"slice is \"+s)\n",
    "            c=0\n",
    "            break\n",
    "    if(c==0):\n",
    "        break"
   ]
  },
  {
   "cell_type": "code",
   "execution_count": 35,
   "metadata": {},
   "outputs": [
    {
     "data": {
      "text/plain": [
       "True"
      ]
     },
     "execution_count": 35,
     "metadata": {},
     "output_type": "execute_result"
    }
   ],
   "source": [
    "a='12345'\n",
    "b='14'\n",
    "check =  all(i in a for i in b)\n",
    "check"
   ]
  },
  {
   "cell_type": "code",
   "execution_count": 54,
   "metadata": {},
   "outputs": [],
   "source": [
    "def ck(a,b):\n",
    "    c=0\n",
    "    for i in range(len(b)):\n",
    "        if b[i] in a:\n",
    "            c=c+1\n",
    "            a[a.index(b[i])]=-1\n",
    "        else:\n",
    "            c=0\n",
    "            break\n",
    "    if(c==len(b)):\n",
    "        return(1)\n",
    "    else:\n",
    "        return(0)"
   ]
  },
  {
   "cell_type": "code",
   "execution_count": 55,
   "metadata": {},
   "outputs": [
    {
     "data": {
      "text/plain": [
       "0"
      ]
     },
     "execution_count": 55,
     "metadata": {},
     "output_type": "execute_result"
    }
   ],
   "source": [
    "ck([3,1],[1,1])"
   ]
  },
  {
   "cell_type": "code",
   "execution_count": 2,
   "metadata": {},
   "outputs": [
    {
     "name": "stdout",
     "output_type": "stream",
     "text": [
      "1234\n",
      "11\n",
      "12\n",
      "23\n",
      "34\n",
      "123\n",
      "234\n",
      "1234\n"
     ]
    }
   ],
   "source": [
    "a=input()\n",
    "b=input()\n",
    "m=len(a)\n",
    "n=len(b)\n",
    "for i in range(n-1,m):\n",
    "    for j in range(len(a)-i):\n",
    "        s=''\n",
    "        for k in range(j,i+j+1):\n",
    "            s=s+a[k]\n",
    "        print(s)"
   ]
  },
  {
   "cell_type": "code",
   "execution_count": 2,
   "metadata": {},
   "outputs": [
    {
     "data": {
      "text/plain": [
       "[2, 1, 0, 4, 5, 4, 6, 2, 4, 6]"
      ]
     },
     "execution_count": 2,
     "metadata": {},
     "output_type": "execute_result"
    }
   ],
   "source": [
    "l=[23,57,77,32,19,88,55,44,11,13]\n",
    "l=list(map(lambda x:x%7,l))\n",
    "l"
   ]
  },
  {
   "cell_type": "code",
   "execution_count": 2,
   "metadata": {},
   "outputs": [
    {
     "name": "stdout",
     "output_type": "stream",
     "text": [
      "ckjadf ish coJ UDUHDIAHD\n",
      "4\n",
      "ckja\n",
      "df i\n",
      "sh c\n",
      "oJ U\n",
      "DUHD\n",
      "IAHD\n"
     ]
    }
   ],
   "source": [
    "s=input()\n",
    "w=int(input())\n",
    "for i in range(0,len(s),w):\n",
    "    print(s[i:i+w])"
   ]
  },
  {
   "cell_type": "code",
   "execution_count": 4,
   "metadata": {},
   "outputs": [
    {
     "name": "stdout",
     "output_type": "stream",
     "text": [
      "10\n",
      "1 89 65 43 2 6 99 64 12 38\n",
      "[1, 2, 6, 12, 38, 43, 64, 65, 89, 99]\n"
     ]
    }
   ],
   "source": [
    "n=int(input())\n",
    "a=list(map(int,input().split()))\n",
    "for i in range(1,len(a)):\n",
    "    t=a[i]\n",
    "    j=i-1\n",
    "    while(j>0 and t<a[j]):\n",
    "        a[j+1]=a[j]\n",
    "        j=j-1\n",
    "    a[j+1]=t\n",
    "print(a)"
   ]
  },
  {
   "cell_type": "code",
   "execution_count": 35,
   "metadata": {},
   "outputs": [
    {
     "name": "stdout",
     "output_type": "stream",
     "text": [
      "2\n",
      "101\n",
      "wdh\n",
      "db\n",
      "102\n",
      "udg\n",
      "wyd g\n",
      "103\n",
      "101-1\n",
      "102-1\n",
      "Not fpund\n"
     ]
    }
   ],
   "source": [
    "t=int(input())\n",
    "t1=t\n",
    "d={}\n",
    "l=[]\n",
    "p={}\n",
    "while(t):\n",
    "    t=t-1\n",
    "    a=int(input())\n",
    "    b=input()\n",
    "    c=input()\n",
    "    d[a]=b\n",
    "    l.append(b)\n",
    "f=int(input())\n",
    "l=sorted(l)\n",
    "k=l[0]\n",
    "t1=len(l)\n",
    "c=0\n",
    "i=0\n",
    "while(i<t1):\n",
    "    if(k==l[i]):\n",
    "        c=c+1\n",
    "    else:\n",
    "        print(str(k)+\"-\"+str(c))\n",
    "        c=0\n",
    "        k=l[i]\n",
    "        continue\n",
    "    i=i+1\n",
    "print(str(k)+\"-\"+str(c))\n",
    "try:\n",
    "    print(d[f])\n",
    "except:\n",
    "    print(\"No Table Found\")"
   ]
  },
  {
   "cell_type": "code",
   "execution_count": 3,
   "metadata": {},
   "outputs": [],
   "source": [
    "a='qd'\n",
    "b='d'\n",
    "l=[a,b]"
   ]
  },
  {
   "cell_type": "code",
   "execution_count": 28,
   "metadata": {},
   "outputs": [
    {
     "data": {
      "text/plain": [
       "['a', 'a', 'a', 'b', 'c', 'c']"
      ]
     },
     "execution_count": 28,
     "metadata": {},
     "output_type": "execute_result"
    }
   ],
   "source": [
    "l=['a','b','a','a','c','c']\n",
    "l=sorted(l)\n",
    "l"
   ]
  },
  {
   "cell_type": "code",
   "execution_count": 33,
   "metadata": {},
   "outputs": [
    {
     "name": "stdout",
     "output_type": "stream",
     "text": [
      "a-3\n",
      "b-1\n",
      "c-2\n"
     ]
    }
   ],
   "source": [
    "t1=len(l)\n",
    "c=0\n",
    "i=0\n",
    "k=l[0]\n",
    "while(i<t1):\n",
    "    if(k==l[i]):\n",
    "        c=c+1\n",
    "    else:\n",
    "        print(k+\"-\"+str(c))\n",
    "        c=0\n",
    "        k=l[i]\n",
    "        continue\n",
    "    i=i+1\n",
    "print(k+\"-\"+str(c))"
   ]
  },
  {
   "cell_type": "code",
   "execution_count": 31,
   "metadata": {},
   "outputs": [
    {
     "data": {
      "text/plain": [
       "6"
      ]
     },
     "execution_count": 31,
     "metadata": {},
     "output_type": "execute_result"
    }
   ],
   "source": [
    "i"
   ]
  },
  {
   "cell_type": "code",
   "execution_count": 32,
   "metadata": {},
   "outputs": [
    {
     "data": {
      "text/plain": [
       "'c'"
      ]
     },
     "execution_count": 32,
     "metadata": {},
     "output_type": "execute_result"
    }
   ],
   "source": [
    "k"
   ]
  },
  {
   "cell_type": "code",
   "execution_count": 25,
   "metadata": {},
   "outputs": [
    {
     "ename": "IndexError",
     "evalue": "list index out of range",
     "output_type": "error",
     "traceback": [
      "\u001b[1;31m---------------------------------------------------------------------------\u001b[0m",
      "\u001b[1;31mIndexError\u001b[0m                                Traceback (most recent call last)",
      "\u001b[1;32m<ipython-input-25-ac77afa80101>\u001b[0m in \u001b[0;36m<module>\u001b[1;34m\u001b[0m\n\u001b[1;32m----> 1\u001b[1;33m \u001b[0ml\u001b[0m\u001b[1;33m[\u001b[0m\u001b[1;36m5\u001b[0m\u001b[1;33m]\u001b[0m\u001b[1;33m\u001b[0m\u001b[1;33m\u001b[0m\u001b[0m\n\u001b[0m",
      "\u001b[1;31mIndexError\u001b[0m: list index out of range"
     ]
    }
   ],
   "source": [
    "def count(X, Y, m, n):\n",
    " \n",
    "    # Base case 1: if only one character is left\n",
    "    if m == 1 and n == 1:\n",
    "        return 1 if (X[0] == Y[0]) else 0\n",
    " \n",
    "    # Base case 2: if the input string `X` reaches its end\n",
    "    if m == 0:\n",
    "        return 0\n",
    " \n",
    "    # Base case 3: if pattern `Y` reaches its end, we have found subsequence\n",
    "    if n == 0:\n",
    "        return 1\n",
    " \n",
    "    # Optimization: the solution is not possible if the number of characters\n",
    "    # in the string is less than the number of characters in the pattern\n",
    "    if n > m:\n",
    "        return 0\n",
    " \n",
    "    '''\n",
    "      If the last character of both string and pattern matches,\n",
    "        1. Exclude the last character from both string and pattern\n",
    "        2. Exclude only the last character from the string.\n",
    "    \n",
    "      Otherwise, if the last character of the string and pattern do not match,\n",
    "      recur by excluding only the last character in the string\n",
    "    '''\n",
    " \n",
    "    return (count(X, Y, m - 1, n - 1) if X[m - 1] == Y[n - 1] else 0)\\\n",
    "        + count(X, Y, m - 1, n)\n",
    " \n",
    " \n",
    "if __name__ == '__main__':\n",
    " \n",
    "    X = \"subsequence\"   # Input string\n",
    "    Y = \"sue\"           # Pattern\n",
    " \n",
    "    print(count(X, Y, len(X), len(Y)))"
   ]
  },
  {
   "cell_type": "code",
   "execution_count": 9,
   "metadata": {},
   "outputs": [
    {
     "name": "stdout",
     "output_type": "stream",
     "text": [
      "indiiiian\n",
      "indian\n"
     ]
    }
   ],
   "source": [
    "def l(a,b,m,n):\n",
    "    if(m==1 and n==1):\n",
    "        if(a[0]==b[0]):\n",
    "            return 1\n",
    "        else:\n",
    "            return 0\n",
    "    if(m==0 or n>m):\n",
    "        return 0\n",
    "    if(n==0):\n",
    "        return 1\n",
    "    if(a[m-1]==b[n-1]):\n",
    "        return (l(a,b, m - 1, n - 1)+l(a, b, m - 1, n))\n",
    "    else:\n",
    "        return l(a, b, m - 1, n)\n",
    "a=input()\n",
    "b=input()\n",
    "m=len(a)\n",
    "n=len(b)\n",
    "x=l(a,b,m,n)\n",
    "print(x)"
   ]
  },
  {
   "cell_type": "code",
   "execution_count": 11,
   "metadata": {},
   "outputs": [
    {
     "name": "stderr",
     "output_type": "stream",
     "text": [
      "G:\\AI\\Anaconda3\\lib\\site-packages\\numpy\\_distributor_init.py:32: UserWarning: loaded more than 1 DLL from .libs:\n",
      "G:\\AI\\Anaconda3\\lib\\site-packages\\numpy\\.libs\\libopenblas.CSRRD7HKRKC3T3YXA7VY7TAZGLSWDKW6.gfortran-win_amd64.dll\n",
      "G:\\AI\\Anaconda3\\lib\\site-packages\\numpy\\.libs\\libopenblas.JPIJNSWNNAN3CE6LLI5FWSPHUT2VXMTH.gfortran-win_amd64.dll\n",
      "  stacklevel=1)\n"
     ]
    },
    {
     "ename": "ImportError",
     "evalue": "Something is wrong with the numpy installation. While importing we detected an older version of numpy in ['G:\\\\AI\\\\Anaconda3\\\\lib\\\\site-packages\\\\numpy']. One method of fixing this is to repeatedly uninstall numpy until none is found, then reinstall this version.",
     "output_type": "error",
     "traceback": [
      "\u001b[1;31m---------------------------------------------------------------------------\u001b[0m",
      "\u001b[1;31mImportError\u001b[0m                               Traceback (most recent call last)",
      "\u001b[1;32m<ipython-input-11-0aa0b027fcb6>\u001b[0m in \u001b[0;36m<module>\u001b[1;34m\u001b[0m\n\u001b[1;32m----> 1\u001b[1;33m \u001b[1;32mimport\u001b[0m \u001b[0mnumpy\u001b[0m \u001b[1;32mas\u001b[0m \u001b[0mnp\u001b[0m\u001b[1;33m\u001b[0m\u001b[1;33m\u001b[0m\u001b[0m\n\u001b[0m",
      "\u001b[1;32mG:\\AI\\Anaconda3\\lib\\site-packages\\numpy\\__init__.py\u001b[0m in \u001b[0;36m<module>\u001b[1;34m\u001b[0m\n\u001b[0;32m    143\u001b[0m     \u001b[1;32mfrom\u001b[0m \u001b[1;33m.\u001b[0m \u001b[1;32mimport\u001b[0m \u001b[0m_distributor_init\u001b[0m\u001b[1;33m\u001b[0m\u001b[1;33m\u001b[0m\u001b[0m\n\u001b[0;32m    144\u001b[0m \u001b[1;33m\u001b[0m\u001b[0m\n\u001b[1;32m--> 145\u001b[1;33m     \u001b[1;32mfrom\u001b[0m \u001b[1;33m.\u001b[0m \u001b[1;32mimport\u001b[0m \u001b[0mcore\u001b[0m\u001b[1;33m\u001b[0m\u001b[1;33m\u001b[0m\u001b[0m\n\u001b[0m\u001b[0;32m    146\u001b[0m     \u001b[1;32mfrom\u001b[0m \u001b[1;33m.\u001b[0m\u001b[0mcore\u001b[0m \u001b[1;32mimport\u001b[0m \u001b[1;33m*\u001b[0m\u001b[1;33m\u001b[0m\u001b[1;33m\u001b[0m\u001b[0m\n\u001b[0;32m    147\u001b[0m     \u001b[1;32mfrom\u001b[0m \u001b[1;33m.\u001b[0m \u001b[1;32mimport\u001b[0m \u001b[0mcompat\u001b[0m\u001b[1;33m\u001b[0m\u001b[1;33m\u001b[0m\u001b[0m\n",
      "\u001b[1;32mG:\\AI\\Anaconda3\\lib\\site-packages\\numpy\\core\\__init__.py\u001b[0m in \u001b[0;36m<module>\u001b[1;34m\u001b[0m\n\u001b[0;32m     66\u001b[0m         \u001b[1;34m\"numpy in {}. One method of fixing this is to repeatedly uninstall \"\u001b[0m\u001b[1;33m\u001b[0m\u001b[1;33m\u001b[0m\u001b[0m\n\u001b[0;32m     67\u001b[0m         \"numpy until none is found, then reinstall this version.\")\n\u001b[1;32m---> 68\u001b[1;33m     \u001b[1;32mraise\u001b[0m \u001b[0mImportError\u001b[0m\u001b[1;33m(\u001b[0m\u001b[0mmsg\u001b[0m\u001b[1;33m.\u001b[0m\u001b[0mformat\u001b[0m\u001b[1;33m(\u001b[0m\u001b[0mpath\u001b[0m\u001b[1;33m)\u001b[0m\u001b[1;33m)\u001b[0m\u001b[1;33m\u001b[0m\u001b[1;33m\u001b[0m\u001b[0m\n\u001b[0m\u001b[0;32m     69\u001b[0m \u001b[1;33m\u001b[0m\u001b[0m\n\u001b[0;32m     70\u001b[0m \u001b[1;32mfrom\u001b[0m \u001b[1;33m.\u001b[0m \u001b[1;32mimport\u001b[0m \u001b[0mnumerictypes\u001b[0m \u001b[1;32mas\u001b[0m \u001b[0mnt\u001b[0m\u001b[1;33m\u001b[0m\u001b[1;33m\u001b[0m\u001b[0m\n",
      "\u001b[1;31mImportError\u001b[0m: Something is wrong with the numpy installation. While importing we detected an older version of numpy in ['G:\\\\AI\\\\Anaconda3\\\\lib\\\\site-packages\\\\numpy']. One method of fixing this is to repeatedly uninstall numpy until none is found, then reinstall this version."
     ]
    }
   ],
   "source": [
    "import numpy as np"
   ]
  },
  {
   "cell_type": "code",
   "execution_count": 28,
   "metadata": {},
   "outputs": [
    {
     "name": "stdout",
     "output_type": "stream",
     "text": [
      "7\n",
      "FALSE\n"
     ]
    }
   ],
   "source": [
    "n=int(input())\n",
    "if(n<0):\n",
    "    print(\"Wrong Input\")\n",
    "else:\n",
    "    a=str(n)\n",
    "    x=pow(n,4,10**(len(a)))\n",
    "    if(x==n):\n",
    "        print(\"TRUE\")\n",
    "    else:\n",
    "        print(\"FALSE\")"
   ]
  },
  {
   "cell_type": "code",
   "execution_count": 27,
   "metadata": {},
   "outputs": [
    {
     "data": {
      "text/plain": [
       "'45'"
      ]
     },
     "execution_count": 27,
     "metadata": {},
     "output_type": "execute_result"
    }
   ],
   "source": [
    "s='12345'\n",
    "s[-2:]"
   ]
  },
  {
   "cell_type": "code",
   "execution_count": 32,
   "metadata": {},
   "outputs": [
    {
     "name": "stdout",
     "output_type": "stream",
     "text": [
      "2\n",
      "10\n",
      "10\n",
      "INVALID INPUT\n"
     ]
    }
   ],
   "source": [
    "n=int(input())\n",
    "l=[]\n",
    "c=0\n",
    "for i in range(n):\n",
    "    x=int(input())\n",
    "    if(x not in l):\n",
    "        l.append(x)\n",
    "    else:\n",
    "        c=1\n",
    "x=int(input())\n",
    "if(c==1):\n",
    "    print(\"INVALID INPUT\")\n",
    "else:\n",
    "    l=sorted(l)\n",
    "    print(l[x-1])"
   ]
  },
  {
   "cell_type": "code",
   "execution_count": 30,
   "metadata": {},
   "outputs": [
    {
     "data": {
      "text/plain": [
       "[10, 20, 30, 40, 60]"
      ]
     },
     "execution_count": 30,
     "metadata": {},
     "output_type": "execute_result"
    }
   ],
   "source": [
    "l"
   ]
  },
  {
   "cell_type": "code",
   "execution_count": 41,
   "metadata": {},
   "outputs": [],
   "source": [
    "# Python program to find largest\n",
    "# number from the given values\n",
    "# function that return largest\n",
    "# pos,sible number\n",
    "def largestNumber(array):\n",
    "\t\n",
    "\t# extval is a empty list for extended\n",
    "\t# values and ans for calculating answer\n",
    "\textval, ans = [], \"\"\n",
    "\tx=[]\n",
    "\t# calculating the length of largest number\n",
    "\t# from given and add 1 for further operation\n",
    "\tl = len(str(max(array))) + 1\n",
    "\t\n",
    "\t# iterate given values and\n",
    "\t# calculating extended values\n",
    "\tfor i in array:\n",
    "\t\ttemp = str(i) * l\n",
    "\t\t\n",
    "\t\t# make tuple of extended value and\n",
    "\t\t# equivalant original value then\n",
    "\t\t# append to list\n",
    "\t\textval.append((temp[:l:], i))\n",
    "\t\n",
    "\t# sort extval in descending order\n",
    "\textval.sort(reverse = True)\n",
    "\t\n",
    "\t# iterate extended values\n",
    "\tfor i in extval:\n",
    "\t\t\n",
    "\t\t# concatinate original value equivalant\n",
    "\t\t# to extended value into ans variable\n",
    "\t\tans += str(i[1])\n",
    "\t\tx.append(str(i[1]))\n",
    "\n",
    "\tif int(ans)==0:\n",
    "\t\treturn \"0\"\n",
    "\treturn x\n",
    "\n",
    "# Driver code\n",
    "a = [95,80,953,72,4]\n",
    "\n",
    "x=largestNumber(a)"
   ]
  },
  {
   "cell_type": "code",
   "execution_count": 43,
   "metadata": {},
   "outputs": [
    {
     "name": "stdout",
     "output_type": "stream",
     "text": [
      "954\n"
     ]
    }
   ],
   "source": [
    "n=3\n",
    "a=''\n",
    "i=0\n",
    "while(i<len(x)):\n",
    "    a=a+x[i]\n",
    "    if(len(a)==n):\n",
    "        break\n",
    "    if(len(a)>n):\n",
    "        a=a[:-len(x[i])]\n",
    "    i=i+1\n",
    "print(a)"
   ]
  },
  {
   "cell_type": "code",
   "execution_count": 38,
   "metadata": {},
   "outputs": [
    {
     "data": {
      "text/plain": [
       "['5', '4', '3', '2', '1']"
      ]
     },
     "execution_count": 38,
     "metadata": {},
     "output_type": "execute_result"
    }
   ],
   "source": [
    "x"
   ]
  },
  {
   "cell_type": "code",
   "execution_count": 23,
   "metadata": {},
   "outputs": [
    {
     "data": {
      "text/plain": [
       "'724'"
      ]
     },
     "execution_count": 23,
     "metadata": {},
     "output_type": "execute_result"
    }
   ],
   "source": [
    "a"
   ]
  },
  {
   "cell_type": "code",
   "execution_count": 31,
   "metadata": {},
   "outputs": [
    {
     "data": {
      "text/plain": [
       "'123'"
      ]
     },
     "execution_count": 31,
     "metadata": {},
     "output_type": "execute_result"
    }
   ],
   "source": [
    "a='12345'\n",
    "a[:-2]"
   ]
  },
  {
   "cell_type": "code",
   "execution_count": 7,
   "metadata": {
    "collapsed": true
   },
   "outputs": [
    {
     "name": "stdout",
     "output_type": "stream",
     "text": [
      "4\n",
      "pr\n",
      "5\n",
      "59\n",
      "pa\n",
      "5\n",
      "60\n",
      "ra\n",
      "6\n",
      "70\n",
      "pr\n",
      "6\n",
      "45\n",
      "3\n",
      "uw\n",
      "0\n",
      "2\n",
      "n\n",
      "3\n",
      "5\n",
      "ow\n",
      "6\n",
      "104\n",
      "deepak\n",
      "2\n",
      "No Person Exists\n",
      "1 pr\n"
     ]
    }
   ],
   "source": [
    "a=int(input())\n",
    "d={}\n",
    "while(a>=1):\n",
    "    a-=1\n",
    "    n=input()\n",
    "    h=int(input())\n",
    "    w=int(input())\n",
    "    d[a]=[n,h,w]\n",
    "no=int(input())\n",
    "ch={}\n",
    "while(no>=1):\n",
    "    no-=1\n",
    "    n=input()\n",
    "    h=int(input())\n",
    "    w=int(input())\n",
    "    (h,w)=(min(h,w),max(h,w))\n",
    "    ch[n]=[h,w]\n",
    "s=input()\n",
    "ip=int(input())\n",
    "che=0\n",
    "for i in d:\n",
    "    bmi=round(d[i][2]/((d[i][1])**2))\n",
    "    d[i].append(bmi)\n",
    "    if(d[i][0]==s):\n",
    "        che=1\n",
    "        for j in ch:\n",
    "            if(ch[j][0]<=bmi and ch[j][1]>=bmi):\n",
    "                print(str(bmi)+' '+j)\n",
    "                break\n",
    "if(che==0):\n",
    "    print(\"No Person Exists\")\n",
    "for i in d:\n",
    "    if(d[i][-1]<ip and d[i][-1]>0):\n",
    "        print(d[i][0]+' '+str(d[i][-1]))"
   ]
  },
  {
   "cell_type": "code",
   "execution_count": 4,
   "metadata": {
    "scrolled": true
   },
   "outputs": [
    {
     "data": {
      "text/plain": [
       "{4: ['rajesh', 5, 50, 2],\n",
       " 3: ['suman', 4, 89, 5],\n",
       " 2: ['g', 5, 99, 3],\n",
       " 1: ['rad', 6, 120, 3],\n",
       " 0: ['rajesh', 5, 120, 4]}"
      ]
     },
     "execution_count": 4,
     "metadata": {},
     "output_type": "execute_result"
    }
   ],
   "source": [
    "d"
   ]
  },
  {
   "cell_type": "code",
   "execution_count": 6,
   "metadata": {},
   "outputs": [
    {
     "name": "stdout",
     "output_type": "stream",
     "text": [
      "2 n\n",
      "5 ow\n",
      "2 rajesh\n",
      "4 g\n",
      "3 rad\n"
     ]
    }
   ],
   "source": [
    "for i in d:\n",
    "    bmi=round(d[i][2]/((d[i][1])**2))\n",
    "    d[i].append(bmi)\n",
    "    if(d[i][0]==s):\n",
    "        che=1\n",
    "        for j in ch:\n",
    "            if(ch[j][0]<=bmi and ch[j][1]>=bmi):\n",
    "                print(str(bmi)+' '+j)\n",
    "                break\n",
    "if(che==0):\n",
    "    print(\"No Person Exists\")\n",
    "for i in d:\n",
    "    if(d[i][-1]<ip):\n",
    "        print(str(d[i][-1])+' '+d[i][0])"
   ]
  },
  {
   "cell_type": "code",
   "execution_count": 11,
   "metadata": {
    "scrolled": true
   },
   "outputs": [
    {
     "name": "stdout",
     "output_type": "stream",
     "text": [
      "3\n",
      "vh\n",
      "shi\n",
      "1500\n",
      "3\n",
      "S\n",
      "1\n",
      "M\n",
      "2\n",
      "L\n",
      "0\n",
      "lp\n",
      "tr\n",
      "2800\n",
      "2\n",
      "S\n",
      "2\n",
      "M\n",
      "2\n",
      "it\n",
      "sh\n",
      "1000\n",
      "3\n",
      "S\n",
      "3\n",
      "M\n",
      "7\n",
      "L\n",
      "2\n",
      "lp\n",
      "tr\n",
      "M\n",
      "1\n",
      "Size is not available\n",
      "Apperal not available\n"
     ]
    }
   ],
   "source": [
    "t=int(input())\n",
    "d={}\n",
    "while(t):\n",
    "    t=t-1\n",
    "    a=input()\n",
    "    b=input()\n",
    "    c=int(input())\n",
    "    t1=int(input())\n",
    "    v=[0,0,0]\n",
    "    while(t1):\n",
    "        t1=t1-1\n",
    "        x=input()\n",
    "        y=int(input())\n",
    "        if(x=='S'):\n",
    "            v[0]=y\n",
    "        elif(x=='M'):\n",
    "            v[1]=y\n",
    "        elif(x=='L'):\n",
    "            v[2]=y\n",
    "    d[(a,b,c)]=v\n",
    "a=input()\n",
    "b=input()\n",
    "c=input()\n",
    "e=int(input())\n",
    "q=0\n",
    "k=-1\n",
    "for i in d:\n",
    "    if(i[0]==a and i[1]==b):\n",
    "        if(c=='S' and d[i][0]>0):\n",
    "            d[i][0]=d[i][0]-e\n",
    "            q=1\n",
    "            k=0\n",
    "            break\n",
    "        elif(c=='M' and d[i][1]>0):\n",
    "            d[i][1]=d[i][1]-e\n",
    "            q=1\n",
    "            k=1\n",
    "            break\n",
    "        elif(c=='L' and d[i][2]>0):\n",
    "            d[i][2]=d[i][2]-e\n",
    "            q=1\n",
    "            k=2\n",
    "            break\n",
    "if(q==1 and d[i][k]>0):\n",
    "    print(\"Size is Available\")\n",
    "    if(d[i][0]>0):\n",
    "        print(\"S:\"+str(d[i][0]))\n",
    "    if(d[i][1]>0):\n",
    "        print(\"M:\"+str(d[i][1]))\n",
    "    if(d[i][2]>0):\n",
    "        print(\"L:\"+str(d[i][2]))\n",
    "else:\n",
    "    print(\"Size is not available\")\n",
    "    print(\"Apparel not found\")"
   ]
  },
  {
   "cell_type": "code",
   "execution_count": 13,
   "metadata": {},
   "outputs": [
    {
     "name": "stdout",
     "output_type": "stream",
     "text": [
      "Size is available\n",
      "S:2\n",
      "M:1\n"
     ]
    }
   ],
   "source": [
    "if(q==1):\n",
    "    print(\"Size is Available\")\n",
    "    if(d[i][k]>0):\n",
    "        if(d[i][0]>0):\n",
    "            print(\"S:\"+str(d[i][0]))\n",
    "        if(d[i][1]>0):\n",
    "            print(\"M:\"+str(d[i][1]))\n",
    "        if(d[i][2]>0):\n",
    "            print(\"L:\"+str(d[i][2]))\n",
    "else:\n",
    "    print(\"Size is not available\")\n",
    "    print(\"Apparel not found\")"
   ]
  },
  {
   "cell_type": "code",
   "execution_count": 24,
   "metadata": {},
   "outputs": [
    {
     "name": "stdout",
     "output_type": "stream",
     "text": [
      "Size is not available\n",
      "Apparel not found\n"
     ]
    }
   ],
   "source": [
    "if(q==1 and d[i][k]>0):\n",
    "    print(\"Size is Available\")\n",
    "    if(d[i][0]>0):\n",
    "        print(\"S:\"+str(d[i][0]))\n",
    "    if(d[i][1]>0):\n",
    "        print(\"M:\"+str(d[i][1]))\n",
    "    if(d[i][2]>0):\n",
    "        print(\"L:\"+str(d[i][2]))\n",
    "else:\n",
    "    print(\"Size is not available\")\n",
    "    print(\"Apparel not found\")"
   ]
  },
  {
   "cell_type": "code",
   "execution_count": 19,
   "metadata": {},
   "outputs": [],
   "source": [
    "a='lp'\n",
    "b='tr'\n",
    "c='S'\n",
    "e=3"
   ]
  },
  {
   "cell_type": "code",
   "execution_count": 22,
   "metadata": {},
   "outputs": [],
   "source": [
    "q=0\n",
    "k=-1\n",
    "for i in d:\n",
    "    if(i[0]==a and i[1]==b):\n",
    "        if(c=='S' and d[i][0]>0):\n",
    "            d[i][0]=d[i][0]-e\n",
    "            q=1\n",
    "            k=0\n",
    "            break\n",
    "        elif(c=='M' and d[i][1]>0):\n",
    "            d[i][1]=d[i][1]-e\n",
    "            q=1\n",
    "            k=1\n",
    "            break\n",
    "        elif(c=='L' and d[i][2]>0):\n",
    "            d[i][2]=d[i][2]-e\n",
    "            q=1\n",
    "            k=2\n",
    "            break"
   ]
  },
  {
   "cell_type": "code",
   "execution_count": 23,
   "metadata": {},
   "outputs": [
    {
     "data": {
      "text/plain": [
       "{('vh', 'shi', 1500): [1, 2, 0],\n",
       " ('lp', 'tr', 2800): [-1, 1, 0],\n",
       " ('it', 'sh', 1000): [3, 7, 2]}"
      ]
     },
     "execution_count": 23,
     "metadata": {},
     "output_type": "execute_result"
    }
   ],
   "source": [
    "d"
   ]
  },
  {
   "cell_type": "code",
   "execution_count": 11,
   "metadata": {},
   "outputs": [
    {
     "name": "stdout",
     "output_type": "stream",
     "text": [
      "7 12 "
     ]
    }
   ],
   "source": [
    "A=[]\n",
    "B=[[2,1,5],[1,4,-1],[2,1,5]]\n",
    "for i in range(len(B)):\n",
    "    if(B[i][0]==2):\n",
    "        l=B[i][1]\n",
    "        h=B[i][2]\n",
    "        a=A\n",
    "        c=0\n",
    "        s=0\n",
    "        for i in range(l-1,h):\n",
    "            if(c%2==0):\n",
    "                s=s+a[i]\n",
    "            else:\n",
    "                s=s-a[i]\n",
    "            c=c+1\n",
    "        print(s,end=' ')\n",
    "    else:\n",
    "        A[B[i][1]-1]=B[i][2]"
   ]
  },
  {
   "cell_type": "code",
   "execution_count": 8,
   "metadata": {},
   "outputs": [],
   "source": [
    "def di(l,h,a):\n",
    "    c=0\n",
    "    s=0\n",
    "    for i in range(l-1,h):\n",
    "        if(c%2==0):\n",
    "            s=s+a[i]\n",
    "        else:\n",
    "            s=s-a[i]\n",
    "        c=c+1\n",
    "    return s"
   ]
  },
  {
   "cell_type": "code",
   "execution_count": 20,
   "metadata": {},
   "outputs": [
    {
     "name": "stdout",
     "output_type": "stream",
     "text": [
      "[2, 1, 1, 0, 2]\n"
     ]
    }
   ],
   "source": [
    "a=[2,3,4,5,6]\n",
    "z=[]\n",
    "for i in range(len(a)):\n",
    "    x=list(map(lambda x:((a[i]%a[x]==0) or (a[x]%a[i]==0)),range(len(a))))\n",
    "    z.append(sum(x)-1)\n",
    "print(z)"
   ]
  },
  {
   "cell_type": "code",
   "execution_count": 16,
   "metadata": {},
   "outputs": [],
   "source": [
    "import numpy as np"
   ]
  },
  {
   "cell_type": "code",
   "execution_count": 19,
   "metadata": {},
   "outputs": [
    {
     "name": "stdout",
     "output_type": "stream",
     "text": [
      "[2, 1, 0, 0, 0]\n"
     ]
    }
   ],
   "source": [
    "a=np.array(a)\n",
    "z=[]\n",
    "n=len(a)\n",
    "for i in range(n):\n",
    "    x=a%a[i]\n",
    "    z.append(n-np.count_nonzero(x)-1)\n",
    "print(z)"
   ]
  },
  {
   "cell_type": "code",
   "execution_count": 15,
   "metadata": {},
   "outputs": [
    {
     "name": "stdout",
     "output_type": "stream",
     "text": [
      "25\n",
      "Not Strange\n"
     ]
    }
   ],
   "source": [
    "n=int(input())\n",
    "t=n\n",
    "a=[]\n",
    "while n % 2 == 0:\n",
    "\ta.append(2)\n",
    "\tn = n // 2\n",
    "for i in range(3,int(n**0.5)+1,2):\n",
    "\twhile n % i== 0:\n",
    "\t\ta.append(i)\n",
    "\t\tn = n // i\n",
    "if n > 2:\n",
    "\ta.append(n)\n",
    "a=set(a)\n",
    "x=max(a)\n",
    "if(t**0.5<x):\n",
    "    print('Strange')\n",
    "else:\n",
    "    print('Not Strange')"
   ]
  },
  {
   "cell_type": "code",
   "execution_count": 12,
   "metadata": {},
   "outputs": [
    {
     "data": {
      "text/plain": [
       "5"
      ]
     },
     "execution_count": 12,
     "metadata": {},
     "output_type": "execute_result"
    }
   ],
   "source": [
    "x"
   ]
  },
  {
   "cell_type": "code",
   "execution_count": 14,
   "metadata": {},
   "outputs": [
    {
     "data": {
      "text/plain": [
       "False"
      ]
     },
     "execution_count": 14,
     "metadata": {},
     "output_type": "execute_result"
    }
   ],
   "source": [
    "25**0.5<x"
   ]
  },
  {
   "cell_type": "code",
   "execution_count": 5,
   "metadata": {},
   "outputs": [],
   "source": [
    "def dif(n):\n",
    "    a=list(range(1,n+1))\n",
    "    x=sum(list(map(lambda x:x**2,a)))\n",
    "    y=sum(a)**2\n",
    "    return y-x"
   ]
  },
  {
   "cell_type": "code",
   "execution_count": 6,
   "metadata": {},
   "outputs": [
    {
     "data": {
      "text/plain": [
       "2640"
      ]
     },
     "execution_count": 6,
     "metadata": {},
     "output_type": "execute_result"
    }
   ],
   "source": [
    "dif(10)"
   ]
  },
  {
   "cell_type": "code",
   "execution_count": 10,
   "metadata": {},
   "outputs": [],
   "source": [
    "import functools\n",
    "import operator\n",
    "def dif1(n):\n",
    "    a=list(range(1,n+1))\n",
    "    a2=[]\n",
    "    x=(functools.reduce(operator.add,[x**2 for x in a]))\n",
    "    y=sum(a)**2\n",
    "    return y-x"
   ]
  },
  {
   "cell_type": "code",
   "execution_count": 11,
   "metadata": {},
   "outputs": [
    {
     "data": {
      "text/plain": [
       "2640"
      ]
     },
     "execution_count": 11,
     "metadata": {},
     "output_type": "execute_result"
    }
   ],
   "source": [
    "dif1(10)"
   ]
  },
  {
   "cell_type": "code",
   "execution_count": null,
   "metadata": {},
   "outputs": [],
   "source": []
  }
 ],
 "metadata": {
  "kernelspec": {
   "display_name": "Python 3 (ipykernel)",
   "language": "python",
   "name": "python3"
  },
  "language_info": {
   "codemirror_mode": {
    "name": "ipython",
    "version": 3
   },
   "file_extension": ".py",
   "mimetype": "text/x-python",
   "name": "python",
   "nbconvert_exporter": "python",
   "pygments_lexer": "ipython3",
   "version": "3.9.7"
  }
 },
 "nbformat": 4,
 "nbformat_minor": 4
}
