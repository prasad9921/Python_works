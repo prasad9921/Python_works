{
 "cells": [
  {
   "cell_type": "code",
   "execution_count": 46,
   "metadata": {},
   "outputs": [],
   "source": [
    "from sympy import *\n",
    "w0,w1,w2,x,y=symbols('w0 w1 w2 x y')\n",
    "init_printing(use_unicode=True)"
   ]
  },
  {
   "cell_type": "code",
   "execution_count": 47,
   "metadata": {},
   "outputs": [],
   "source": [
    "import numpy as np"
   ]
  },
  {
   "cell_type": "code",
   "execution_count": 50,
   "metadata": {},
   "outputs": [],
   "source": [
    "j=w0**2+w1**2-6*w0+8*w1-9"
   ]
  },
  {
   "cell_type": "code",
   "execution_count": 51,
   "metadata": {},
   "outputs": [
    {
     "data": {
      "image/png": "[encoded data removed]",
      "text/latex": [
       "$\\displaystyle 2 w_{0} - 6$"
      ],
      "text/plain": [
       "2⋅w₀ - 6"
      ]
     },
     "execution_count": 51,
     "metadata": {},
     "output_type": "execute_result"
    }
   ],
   "source": [
    "dj_w0=diff(j,w0)\n",
    "dj_w0"
   ]
  },
  {
   "cell_type": "code",
   "execution_count": 52,
   "metadata": {},
   "outputs": [
    {
     "data": {
      "image/png": "[encoded data removed]",
      "text/latex": [
       "$\\displaystyle 2 w_{1} + 8$"
      ],
      "text/plain": [
       "2⋅w₁ + 8"
      ]
     },
     "execution_count": 52,
     "metadata": {},
     "output_type": "execute_result"
    }
   ],
   "source": [
    "dj_w1=diff(j,w1)\n",
    "dj_w1"
   ]
  },
  {
   "cell_type": "code",
   "execution_count": 57,
   "metadata": {},
   "outputs": [
    {
     "name": "stdout",
     "output_type": "stream",
     "text": [
      "3.05120000000000 -3.76960000000000\n"
     ]
    }
   ],
   "source": [
    "(w0,w1)=(5,5)\n",
    "a=0.3\n",
    "for i in range(4):\n",
    "    w0n=w0-(a*simplify(dj_w0).evalf(subs={'w0':w0,'w1':w1}))\n",
    "    w1n=w1-(a*simplify(dj_w1).evalf(subs={'w0':w0,'w1':w1}))\n",
    "    w0=w0n\n",
    "    w1=w1n\n",
    "    if(i==2):\n",
    "        j3=simplify(j).evalf(subs={'w0':w0,'w1':w1})\n",
    "    if(i==3):\n",
    "        j4=simplify(j).evalf(subs={'w0':w0,'w1':w1})\n",
    "print(w0,w1)"
   ]
  },
  {
   "cell_type": "code",
   "execution_count": 40,
   "metadata": {},
   "outputs": [],
   "source": [
    "x_val=np.array([0,0.25,0.50,0.75,1.00])\n",
    "y_val=np.array([1.4822,1.8165,1.9171,2.3930,2.5826])"
   ]
  },
  {
   "cell_type": "code",
   "execution_count": 41,
   "metadata": {},
   "outputs": [],
   "source": [
    "def dj_w0val(w0,w1):\n",
    "    c=0\n",
    "    for i in range(5):\n",
    "        c=c+simplify(dj_w0).evalf(subs={'w0':w0,'w1':w1,'x':x_val[i],'y':y_val[i]})\n",
    "    return(c*0.1)"
   ]
  },
  {
   "cell_type": "code",
   "execution_count": 42,
   "metadata": {},
   "outputs": [],
   "source": [
    "def dj_w1val(w0,w1):\n",
    "    c=0\n",
    "    for i in range(5):\n",
    "        c=c+simplify(dj_w1).evalf(subs={'w0':w0,'w1':w1,'x':x_val[i],'y':y_val[i]})\n",
    "    return(c*0.1)"
   ]
  },
  {
   "cell_type": "code",
   "execution_count": 43,
   "metadata": {},
   "outputs": [
    {
     "name": "stdout",
     "output_type": "stream",
     "text": [
      "1.55452871093750 0.959208642578125\n"
     ]
    }
   ],
   "source": [
    "(w0,w1)=(0,0)\n",
    "a=1\n",
    "for i in range(4):\n",
    "    w0n=w0-(a*dj_w0val(w0,w1))\n",
    "    w1n=w1-(a*dj_w1val(w0,w1))\n",
    "    w0=w0n\n",
    "    w1=w1n\n",
    "print(w0,w1)"
   ]
  },
  {
   "cell_type": "code",
   "execution_count": 28,
   "metadata": {},
   "outputs": [
    {
     "name": "stdout",
     "output_type": "stream",
     "text": [
      "1.0506 0.7922\n"
     ]
    }
   ],
   "source": [
    "print(round(w0,4),round(w1,4))"
   ]
  },
  {
   "cell_type": "code",
   "execution_count": 31,
   "metadata": {},
   "outputs": [],
   "source": [
    "cj=0\n",
    "for i in range(5):\n",
    "    cj=cj+simplify(j).evalf(subs={'w0':w0,'w1':w1,'x':x_val[i],'y':y_val[i]})"
   ]
  },
  {
   "cell_type": "code",
   "execution_count": 32,
   "metadata": {},
   "outputs": [
    {
     "ename": "NameError",
     "evalue": "name 'c' is not defined",
     "output_type": "error",
     "traceback": [
      "\u001b[1;31m---------------------------------------------------------------------------\u001b[0m",
      "\u001b[1;31mNameError\u001b[0m                                 Traceback (most recent call last)",
      "\u001b[1;32m<ipython-input-32-52d2ea32a5d9>\u001b[0m in \u001b[0;36m<module>\u001b[1;34m\u001b[0m\n\u001b[1;32m----> 1\u001b[1;33m \u001b[0mprint\u001b[0m\u001b[1;33m(\u001b[0m\u001b[0mround\u001b[0m\u001b[1;33m(\u001b[0m\u001b[0mc\u001b[0m\u001b[1;33m*\u001b[0m\u001b[1;36m0.1\u001b[0m\u001b[1;33m,\u001b[0m\u001b[1;36m4\u001b[0m\u001b[1;33m)\u001b[0m\u001b[1;33m)\u001b[0m\u001b[1;33m\u001b[0m\u001b[1;33m\u001b[0m\u001b[0m\n\u001b[0m",
      "\u001b[1;31mNameError\u001b[0m: name 'c' is not defined"
     ]
    }
   ],
   "source": [
    "print(round(c*0.1,4))"
   ]
  },
  {
   "cell_type": "code",
   "execution_count": 2,
   "metadata": {
    "scrolled": true
   },
   "outputs": [
    {
     "data": {
      "text/plain": [
       "0.1233"
      ]
     },
     "execution_count": 2,
     "metadata": {},
     "output_type": "execute_result"
    }
   ],
   "source": [
    "round(0.1233,4)"
   ]
  },
  {
   "cell_type": "code",
   "execution_count": 1,
   "metadata": {},
   "outputs": [],
   "source": [
    "import matplotlib.pyplot as plt"
   ]
  },
  {
   "cell_type": "code",
   "execution_count": 2,
   "metadata": {},
   "outputs": [],
   "source": [
    "%matplotlib inline"
   ]
  },
  {
   "cell_type": "code",
   "execution_count": null,
   "metadata": {},
   "outputs": [],
   "source": []
  }
 ],
 "metadata": {
  "kernelspec": {
   "display_name": "Python 3",
   "language": "python",
   "name": "python3"
  },
  "language_info": {
   "codemirror_mode": {
    "name": "ipython",
    "version": 3
   },
   "file_extension": ".py",
   "mimetype": "text/x-python",
   "name": "python",
   "nbconvert_exporter": "python",
   "pygments_lexer": "ipython3",
   "version": "3.7.3"
  }
 },
 "nbformat": 4,
 "nbformat_minor": 2
}
