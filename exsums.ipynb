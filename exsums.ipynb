{
 "cells": [
  {
   "cell_type": "code",
   "execution_count": 9,
   "metadata": {},
   "outputs": [],
   "source": [
    "import sys"
   ]
  },
  {
   "cell_type": "code",
   "execution_count": 5,
   "metadata": {},
   "outputs": [
    {
     "name": "stdout",
     "output_type": "stream",
     "text": [
      "4 4\n",
      "5\n",
      "1 1\n",
      "1 2\n",
      "3 3\n",
      "4 4\n",
      "2 4\n",
      "4\n",
      "3 1\n"
     ]
    }
   ],
   "source": [
    "a=[]\n",
    "b=[]\n",
    "n,m=map(int,input().split())\n",
    "g=int(input())\n",
    "for i in range(g):\n",
    "    x,y=map(int,input().split())\n",
    "    a.append(x)\n",
    "    b.append(y)\n",
    "r=int(input())\n",
    "o=0\n",
    "for i in range(n):\n",
    "    if(o==1):\n",
    "        break\n",
    "    for j in range(m):\n",
    "        if(o==1):\n",
    "            break\n",
    "        c=0\n",
    "        for k in range(g):\n",
    "            if(o==1):\n",
    "                break\n",
    "            if(abs(a[k]-i)+abs(b[k]-j)<=r):\n",
    "                c=c+1\n",
    "            else:\n",
    "                break\n",
    "        if(c==g):\n",
    "            print(j,i,c)\n",
    "            o=1\n",
    "            break"
   ]
  },
  {
   "cell_type": "markdown",
   "metadata": {},
   "source": [
    "## c"
   ]
  },
  {
   "cell_type": "code",
   "execution_count": null,
   "metadata": {},
   "outputs": [],
   "source": [
    "n,m=map(int,input().split())\n",
    "l=[]\n",
    "for i in range(m):\n",
    "    a,b=map(int,input.split())\n",
    "    l.append(a)\n",
    "    l.append(b)\n",
    "    "
   ]
  },
  {
   "cell_type": "code",
   "execution_count": 13,
   "metadata": {},
   "outputs": [
    {
     "name": "stdout",
     "output_type": "stream",
     "text": [
      "3,2,6,5,1,4,8,9\n",
      "20 51489\n"
     ]
    }
   ],
   "source": [
    "#1\n",
    "b=input().split(',')\n",
    "a=list(map(int,b))\n",
    "x=a.index(5)\n",
    "y=a.index(8)\n",
    "n1=sum(a[:x])+sum(a[y+1:])\n",
    "n2=\"\".join((b[x:y+1]))\n",
    "print(n1,n2)"
   ]
  },
  {
   "cell_type": "code",
   "execution_count": 25,
   "metadata": {},
   "outputs": [
    {
     "name": "stdout",
     "output_type": "stream",
     "text": [
      "['hudnjk81@31249\n",
      "984312\n"
     ]
    }
   ],
   "source": [
    "#2\n",
    "a=list(input())\n",
    "b=[str(i) for i in range(0,10)]\n",
    "n=[]\n",
    "for i in range(len(a)):\n",
    "    if a[i] in b:\n",
    "        n.append(int(a[i]))\n",
    "n=set(n)\n",
    "n=sorted(n,reverse=1)\n",
    "c=0\n",
    "for i in range(len(n)):\n",
    "    if(n[i]%2==0 and c==0):\n",
    "        m=n[i]\n",
    "        c=c+1\n",
    "    if(n[i]%2==0 and m>n[i]):\n",
    "        m=n[i]\n",
    "        c=c+1\n",
    "if(c==0):\n",
    "    print(-1)\n",
    "else:\n",
    "    n.remove(m)\n",
    "    n.append(m)\n",
    "    a=list(map(str,n))\n",
    "    print(\"\".join(a))"
   ]
  },
  {
   "cell_type": "code",
   "execution_count": 8,
   "metadata": {},
   "outputs": [
    {
     "name": "stdout",
     "output_type": "stream",
     "text": [
      "6 7\n",
      "2 3 4 5 6 2 4\n",
      "2 3 4 7 6 7 6\n",
      "2 3 5 5 5 5 2\n",
      "2 3 1 1 2 1 3\n",
      "1 1 1 1 9 0 3\n",
      "2 3 1 1 5 1 2\n",
      "1\n"
     ]
    }
   ],
   "source": [
    "#3\n",
    "q=input().split()\n",
    "m=int(q[0])\n",
    "n=int(q[1])\n",
    "a=[]\n",
    "for i in range(m):\n",
    "    a.append(list(map(int,input().split())))\n",
    "c=[]\n",
    "for i in range(m-2):\n",
    "    for j in range(n-2):\n",
    "        if(a[i][j]==a[i][j+1] and a[i][j+1]==a[i][j+2]):\n",
    "            c.append(a[i][j])\n",
    "        if(a[i][j]==a[i+1][j] and a[i+1][j]==a[i+2][j]):\n",
    "            c.append(a[i][j])\n",
    "        if(a[i][j]==a[i+1][j+1] and a[i+1][j+1]==a[i+2][j+2]):\n",
    "            c.append(a[i][j])\n",
    "print(min(c))"
   ]
  },
  {
   "cell_type": "code",
   "execution_count": null,
   "metadata": {},
   "outputs": [],
   "source": [
    "n=int(input())\n",
    "a=list(map(int,input().split()))\n",
    "a=a[a:]\n",
    "a=set(a)\n",
    "print(len(a))"
   ]
  },
  {
   "cell_type": "code",
   "execution_count": 24,
   "metadata": {},
   "outputs": [
    {
     "name": "stdout",
     "output_type": "stream",
     "text": [
      "rhdt:246,ghftd:1246 \n",
      "trhd ftdgh "
     ]
    }
   ],
   "source": [
    "def ev(n):\n",
    "    r=0\n",
    "    s=1\n",
    "    while(n>0):\n",
    "        r=n%10\n",
    "        s=s+(r*r)\n",
    "        n=n//10\n",
    "    if(s%2==0):\n",
    "        return 1\n",
    "    else:\n",
    "        return 0\n",
    "s=input().split(',')\n",
    "a=list(map(lambda x:x.split(':'),s))\n",
    "for i in range(len(a)):\n",
    "    n=ev(int(a[i][1]))\n",
    "    l=a[i][0]\n",
    "    if(n==0):\n",
    "        x=l[-1]+l[:len(l)-1]\n",
    "    else:\n",
    "        x=l[2:]+l[:2]\n",
    "    print(x,end=' ')"
   ]
  },
  {
   "cell_type": "code",
   "execution_count": 27,
   "metadata": {},
   "outputs": [],
   "source": [
    "import math \n",
    "def maxSum(matrix, rc, r, c, d): \n",
    "    matrix_sum = 0 \n",
    "    r2 = r \n",
    "    c2 = c \n",
    "    for i in range(d+1): \n",
    "        for j in range(d+1): \n",
    "            matrix_sum += matrix[r2][c2] \n",
    "            c2+=1 \n",
    "        r2+=1 \n",
    "        c2 = c \n",
    "    return matrix_sum"
   ]
  },
  {
   "cell_type": "code",
   "execution_count": 28,
   "metadata": {},
   "outputs": [],
   "source": [
    "def printMatrix(matrix, rc, r, c, d, max_sum): \n",
    "    matrix_sum = 0 \n",
    "    r2 = r \n",
    "    c2 = c \n",
    "    sub_matrix = \"\" \n",
    "    for i in range(d+1): \n",
    "        for j in range(d+1): \n",
    "            matrix_sum += matrix[r2][c2] \n",
    "            sub_matrix += str(matrix[r2][c2])+\" \" \n",
    "            c2+=1 \n",
    "        r2+=1 \n",
    "        c2 = c \n",
    "        sub_matrix += \"\\n\" \n",
    "    if(matrix_sum == max_sum): \n",
    "        print(sub_matrix) "
   ]
  },
  {
   "cell_type": "code",
   "execution_count": 29,
   "metadata": {},
   "outputs": [
    {
     "name": "stdout",
     "output_type": "stream",
     "text": [
      "1,2,3,4,5,5,6,7,-1,2,-4,-9,-12,1,13\n",
      "1 2 3 \n",
      "4 5 5 \n",
      "6 7 -1 \n",
      "\n"
     ]
    }
   ],
   "source": [
    "lst_input = list(map(int,input().split(\",\"))) \n",
    "length = len(lst_input) \n",
    "rc = int(math.sqrt(length)) #row and column value \n",
    "matrix = [] \n",
    "for i in range(0,length,rc): \n",
    "    matrix.append(lst_input[i:rc+i]) \n",
    "max_sum = -1000000 \n",
    "for i in range(rc): \n",
    "    for j in range(rc): \n",
    "        for sqmt in range(rc): \n",
    "            if(sqmt+i < rc and sqmt+j < rc): \n",
    "                matrix_sum = maxSum(matrix, rc, i, j, sqmt) \n",
    "            if(matrix_sum > max_sum): \n",
    "                max_sum = matrix_sum \n",
    "for i in range(rc): \n",
    "    for j in range(rc): \n",
    "        for sqmt in range(rc): \n",
    "            if(sqmt+i < rc and sqmt+j < rc): \n",
    "                 printMatrix(matrix, rc, i, j, sqmt, max_sum)"
   ]
  },
  {
   "cell_type": "code",
   "execution_count": 43,
   "metadata": {},
   "outputs": [
    {
     "name": "stdout",
     "output_type": "stream",
     "text": [
      "Robert:36787,Tina:68721,Jo:56389\n",
      "tiX\n"
     ]
    }
   ],
   "source": [
    "def ps(n,l):\n",
    "    x=[]\n",
    "    for i in range(len(n)):\n",
    "        if(int(n[i])<=l):\n",
    "            x.append(int(n[i]))\n",
    "    if(len(x)==0):\n",
    "        return -1\n",
    "    else:\n",
    "        return max(x)\n",
    "s=input().split(',')\n",
    "e=list(map(lambda x:x.split(':'),s))\n",
    "x=''\n",
    "for i in range(len(e)):\n",
    "    m=list(e[i][1])\n",
    "    n=len(e[i][0])\n",
    "    n=ps(m,n)\n",
    "    if(n==-1):\n",
    "        x=x+'X'\n",
    "    else:\n",
    "        x=x+e[i][0][n-1]\n",
    "print(x)"
   ]
  },
  {
   "cell_type": "code",
   "execution_count": 42,
   "metadata": {},
   "outputs": [
    {
     "data": {
      "text/plain": [
       "['3', '6', '7', '8', '7']"
      ]
     },
     "execution_count": 42,
     "metadata": {},
     "output_type": "execute_result"
    }
   ],
   "source": [
    "list(e[0][1])"
   ]
  },
  {
   "cell_type": "code",
   "execution_count": 44,
   "metadata": {},
   "outputs": [
    {
     "data": {
      "text/plain": [
       "18108277489"
      ]
     },
     "execution_count": 44,
     "metadata": {},
     "output_type": "execute_result"
    }
   ],
   "source": [
    "134567*134567"
   ]
  },
  {
   "cell_type": "code",
   "execution_count": 4,
   "metadata": {},
   "outputs": [],
   "source": [
    "def count(sub, s): \n",
    "    M = len(sub) \n",
    "    N = len(s) \n",
    "    lps = [None] * M \n",
    "    j = 0\n",
    "    lps_Array(sub, M, lps) \n",
    "    i = 0\n",
    "    res = 0\n",
    "    next_i = 0\n",
    "\n",
    "    while (i < N): \n",
    "        if sub[j] == s[i]: \n",
    "            j = j + 1\n",
    "            i = i + 1\n",
    "        if j == M: \n",
    "            j = lps[j - 1] \n",
    "            res = res + 1\n",
    "            if lps[j] != 0: \n",
    "                next_i = next_i + 1\n",
    "                i = next_i \n",
    "                j = 0\n",
    "        elif ((i < N) and (sub[j] != s[i])): \n",
    "            if (j != 0): \n",
    "                j = lps[j - 1] \n",
    "            else: \n",
    "                i = i + 1\n",
    "    return res \n",
    "def lps_Array(sub, M, lps): \n",
    "    len = 0\n",
    "    i = 1\n",
    "    lps[0] = 0\n",
    "    while (i < M): \n",
    "        if sub[i] == sub[len]: \n",
    "            len = len + 1\n",
    "            lps[i] = len\n",
    "            i = i + 1\n",
    "        else:\n",
    "            if len != 0: \n",
    "                len = lps[len - 1] \n",
    "            else: \n",
    "                lps[i] = len\n",
    "                i = i + 1"
   ]
  },
  {
   "cell_type": "code",
   "execution_count": 5,
   "metadata": {},
   "outputs": [
    {
     "name": "stdout",
     "output_type": "stream",
     "text": [
      "abababa\n",
      "bab\n",
      "2\n"
     ]
    }
   ],
   "source": [
    "s=input()\n",
    "w=input()\n",
    "print(count(w,s))"
   ]
  },
  {
   "cell_type": "code",
   "execution_count": 9,
   "metadata": {},
   "outputs": [],
   "source": [
    "def findAge(current_date, current_month, current_year,\n",
    "            birth_date, birth_month, birth_year):\n",
    " \n",
    "   \n",
    "     \n",
    "    month =[31, 28, 31, 30, 31, 30, 31, 31, 30, 31, 30, 31]\n",
    "    if(year%4==0 and year%100!=0 or year%400==0):\n",
    "        month[1]=29\n",
    "\n",
    "    if (birth_date > current_date):\n",
    "        current_month = current_month - 1\n",
    "        current_date = current_date + month[birth_month-1]\n",
    "         \n",
    "         \n",
    "  \n",
    "    if (birth_month > current_month):        \n",
    "        current_year = current_year - 1\n",
    "        current_month = current_month + 12\n",
    "         \n",
    "    calculated_date = current_date - birth_date\n",
    "    calculated_month = current_month - birth_month\n",
    "    calculated_year = current_year - birth_year\n",
    "     \n",
    "    print(\"Present Age\")\n",
    "    print(\"Years:\", calculated_year, \"Months:\", \n",
    "         calculated_month, \"Days:\", calculated_date)"
   ]
  },
  {
   "cell_type": "code",
   "execution_count": 10,
   "metadata": {},
   "outputs": [
    {
     "name": "stdout",
     "output_type": "stream",
     "text": [
      "01/01/2018\n",
      "03/03/2019\n",
      "Present Age\n",
      "Years: 1 Months: 2 Days: 2\n"
     ]
    }
   ],
   "source": [
    "a=input().split('/')   \n",
    "b=input().split('/')\n",
    "birth_date = int(a[0])\n",
    "birth_month = int(a[1])\n",
    "birth_year = int(a[2])\n",
    "current_date = int(b[0])\n",
    "current_month = int(b[1])\n",
    "current_year = int(b[2])\n",
    "\n",
    "findAge(current_date, current_month, current_year,\n",
    "        birth_date, birth_month, birth_year)"
   ]
  },
  {
   "cell_type": "code",
   "execution_count": null,
   "metadata": {},
   "outputs": [],
   "source": [
    "month =[31, 28, 31, 30, 31, 30, 31, 31, 30, 31, 30, 31]\n",
    "if (birth_date > current_date):\n",
    "        current_month = current_month - 1\n",
    "        current_date = current_date + month[birth_month-1]\n",
    "         \n",
    "         \n",
    "  \n",
    "if(birth_month > current_month):        \n",
    "        current_year = current_year - 1;\n",
    "        current_month = current_month + 12;\n",
    "         \n",
    "    calculated_date = current_date - birth_date;\n",
    "    calculated_month = current_month - birth_month;\n",
    "    calculated_year = current_year - birth_year;\n",
    "     \n",
    "    print\"Present Age\"\n",
    "    print(\"Years:\", calculated_year, \"Months:\", \n",
    "         calculated_month, \"Days:\", calculated_date)"
   ]
  },
  {
   "cell_type": "markdown",
   "metadata": {},
   "source": [
    "ma"
   ]
  }
 ],
 "metadata": {
  "kernelspec": {
   "display_name": "Python 3 (ipykernel)",
   "language": "python",
   "name": "python3"
  },
  "language_info": {
   "codemirror_mode": {
    "name": "ipython",
    "version": 3
   },
   "file_extension": ".py",
   "mimetype": "text/x-python",
   "name": "python",
   "nbconvert_exporter": "python",
   "pygments_lexer": "ipython3",
   "version": "3.9.7"
  }
 },
 "nbformat": 4,
 "nbformat_minor": 2
}
